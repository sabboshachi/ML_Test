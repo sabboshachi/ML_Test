{
 "cells": [
  {
   "cell_type": "markdown",
   "id": "51b98867",
   "metadata": {},
   "source": [
    "# scikit-learn"
   ]
  },
  {
   "cell_type": "markdown",
   "id": "9bcc53f0",
   "metadata": {},
   "source": [
    "scikit-learn is an open source project. The scikit-learn project is constantly being developed and improved, and it\n",
    "has a very active user community. It contains a number of state-of-the-art machine\n",
    "learning algorithms, as well as comprehensive documentation about each algorithm.\n",
    "scikit-learn is a very popular tool, and the most prominent Python library for\n",
    "machine learning. It is widely used in industry and academia, and a wealth of tutorials and code snippets are available online.\n",
    " scikit-learn works well with a number of\n",
    "other scientific Python tools\n",
    "\n",
    "For more details read [user guide](https://scikit-learn.org/stable/user_guide.html) and API documentation."
   ]
  },
  {
   "cell_type": "markdown",
   "id": "7883e8eb",
   "metadata": {},
   "source": [
    "# NumPy"
   ]
  },
  {
   "cell_type": "markdown",
   "id": "66cab428",
   "metadata": {},
   "source": [
    "NumPy is one of the fundamental packages for scientific computing in Python. It\n",
    "contains functionality for multidimensional arrays, high-level mathematical functions \n",
    "such as linear algebra operations and the Fourier transform, and pseudorandom\n",
    "number generators.\n",
    "\n",
    "In scikit-learn, the NumPy array is the fundamental data structure. scikit-learn\n",
    "takes in data in the form of NumPy arrays. Any data you’re using will have to be converted to a NumPy array. The core functionality of NumPy is the ndarray class, a\n",
    "multidimensional (n-dimensional) array. All elements of the array must be of the\n",
    "same type."
   ]
  },
  {
   "cell_type": "code",
   "execution_count": 13,
   "id": "42701e8f",
   "metadata": {},
   "outputs": [
    {
     "name": "stdout",
     "output_type": "stream",
     "text": [
      "x:\n",
      "[[1 2 3]\n",
      " [4 5 6]]\n"
     ]
    }
   ],
   "source": [
    "import numpy as np\n",
    "x = np.array([[1,2,3],[4,5,6]])\n",
    "print(\"x:\\n{}\".format(x))"
   ]
  },
  {
   "cell_type": "markdown",
   "id": "10e17294",
   "metadata": {},
   "source": [
    "# SciPy"
   ]
  },
  {
   "cell_type": "code",
   "execution_count": 7,
   "id": "0b85d23c",
   "metadata": {},
   "outputs": [
    {
     "name": "stdout",
     "output_type": "stream",
     "text": [
      "Collecting scipyNote: you may need to restart the kernel to use updated packages.\n",
      "\n",
      "  Downloading scipy-1.10.0-cp311-cp311-win_amd64.whl (42.2 MB)\n",
      "     ---------------------------------------- 42.2/42.2 MB 5.5 MB/s eta 0:00:00\n",
      "Requirement already satisfied: numpy<1.27.0,>=1.19.5 in c:\\users\\sabbo\\appdata\\local\\programs\\python\\python311\\lib\\site-packages (from scipy) (1.24.1)\n",
      "Installing collected packages: scipy\n",
      "Successfully installed scipy-1.10.0\n"
     ]
    },
    {
     "name": "stderr",
     "output_type": "stream",
     "text": [
      "\n",
      "[notice] A new release of pip available: 22.3.1 -> 23.0\n",
      "[notice] To update, run: python.exe -m pip install --upgrade pip\n"
     ]
    }
   ],
   "source": [
    "pip install scipy"
   ]
  },
  {
   "cell_type": "code",
   "execution_count": 8,
   "id": "2ef590be",
   "metadata": {},
   "outputs": [],
   "source": [
    "from scipy import sparse"
   ]
  },
  {
   "cell_type": "code",
   "execution_count": 9,
   "id": "8455b8ed",
   "metadata": {},
   "outputs": [
    {
     "name": "stdout",
     "output_type": "stream",
     "text": [
      "NumPy array:\n",
      "[[1. 0. 0. 0.]\n",
      " [0. 1. 0. 0.]\n",
      " [0. 0. 1. 0.]\n",
      " [0. 0. 0. 1.]]\n"
     ]
    }
   ],
   "source": [
    "# Create a 2D NumPy array with a diagonal of ones, and zeros everywhere else\n",
    "eye = np.eye(4)\n",
    "print(\"NumPy array:\\n{}\".format(eye))"
   ]
  },
  {
   "cell_type": "code",
   "execution_count": 11,
   "id": "848b4c04",
   "metadata": {},
   "outputs": [
    {
     "name": "stdout",
     "output_type": "stream",
     "text": [
      "\n",
      "SciPy sparse CSR matrix:\n",
      "  (0, 0)\t1.0\n",
      "  (1, 1)\t1.0\n",
      "  (2, 2)\t1.0\n",
      "  (3, 3)\t1.0\n"
     ]
    }
   ],
   "source": [
    "sparse_matrix = sparse.csr_matrix(eye)\n",
    "print(\"\\nSciPy sparse CSR matrix:\\n{}\".format(sparse_matrix))"
   ]
  },
  {
   "cell_type": "code",
   "execution_count": 12,
   "id": "411823e7",
   "metadata": {},
   "outputs": [
    {
     "name": "stdout",
     "output_type": "stream",
     "text": [
      "COO representation:\n",
      "  (0, 0)\t1.0\n",
      "  (1, 1)\t1.0\n",
      "  (2, 2)\t1.0\n",
      "  (3, 3)\t1.0\n"
     ]
    }
   ],
   "source": [
    "data = np.ones(4)\n",
    "row_indices = np.arange(4)\n",
    "col_indices = np.arange(4)\n",
    "eye_coo = sparse.coo_matrix((data, (row_indices, col_indices)))\n",
    "print(\"COO representation:\\n{}\".format(eye_coo))"
   ]
  },
  {
   "cell_type": "code",
   "execution_count": null,
   "id": "3a103d40",
   "metadata": {},
   "outputs": [],
   "source": []
  },
  {
   "cell_type": "code",
   "execution_count": null,
   "id": "4258ab25",
   "metadata": {},
   "outputs": [],
   "source": []
  },
  {
   "cell_type": "code",
   "execution_count": null,
   "id": "479ec99c",
   "metadata": {},
   "outputs": [],
   "source": []
  },
  {
   "cell_type": "code",
   "execution_count": null,
   "id": "d5f4d55a",
   "metadata": {},
   "outputs": [],
   "source": []
  },
  {
   "cell_type": "code",
   "execution_count": null,
   "id": "b6188b4e",
   "metadata": {},
   "outputs": [],
   "source": []
  },
  {
   "cell_type": "code",
   "execution_count": null,
   "id": "1dbeebc3",
   "metadata": {},
   "outputs": [],
   "source": []
  },
  {
   "cell_type": "code",
   "execution_count": null,
   "id": "2dc32e2b",
   "metadata": {},
   "outputs": [],
   "source": []
  },
  {
   "cell_type": "code",
   "execution_count": null,
   "id": "6168d71a",
   "metadata": {},
   "outputs": [],
   "source": []
  },
  {
   "cell_type": "code",
   "execution_count": null,
   "id": "5647524f",
   "metadata": {},
   "outputs": [],
   "source": []
  },
  {
   "cell_type": "code",
   "execution_count": null,
   "id": "f62e4d92",
   "metadata": {},
   "outputs": [],
   "source": []
  }
 ],
 "metadata": {
  "kernelspec": {
   "display_name": "Python 3 (ipykernel)",
   "language": "python",
   "name": "python3"
  },
  "language_info": {
   "codemirror_mode": {
    "name": "ipython",
    "version": 3
   },
   "file_extension": ".py",
   "mimetype": "text/x-python",
   "name": "python",
   "nbconvert_exporter": "python",
   "pygments_lexer": "ipython3",
   "version": "3.11.1"
  }
 },
 "nbformat": 4,
 "nbformat_minor": 5
}
