{
 "cells": [
  {
   "cell_type": "code",
   "execution_count": 121,
   "id": "75859b22",
   "metadata": {},
   "outputs": [],
   "source": [
    "import numpy as np\n",
    "import pandas as pd\n",
    "import matplotlib.pyplot as plt\n",
    "import seaborn as sns\n",
    "\n",
    "from sklearn import preprocessing\n",
    "from sklearn.impute import SimpleImputer \n",
    "import re \n",
    "import nltk \n",
    "\n",
    "from nltk.corpus import stopwords\n",
    "from nltk.stem.porter import PorterStemmer\n",
    "\n",
    "from sklearn.feature_extraction.text import TfidfVectorizer\n",
    "from sklearn.feature_extraction.text import CountVectorizer\n",
    "from sklearn.model_selection import train_test_split\n",
    "from sklearn.metrics import confusion_matrix, classification_report\n",
    "from sklearn.metrics import accuracy_score"
   ]
  },
  {
   "cell_type": "markdown",
   "id": "e1491064",
   "metadata": {},
   "source": [
    "### EDA"
   ]
  },
  {
   "cell_type": "code",
   "execution_count": 15,
   "id": "34d82568",
   "metadata": {},
   "outputs": [],
   "source": [
    "df = pd.read_csv('train_data.txt', sep=\":::\", names=[\"TITLE\", \"GENRE\", \"DESCRIPTION\"], engine=\"python\")"
   ]
  },
  {
   "cell_type": "code",
   "execution_count": null,
   "id": "26660da0",
   "metadata": {},
   "outputs": [],
   "source": []
  },
  {
   "cell_type": "code",
   "execution_count": null,
   "id": "cabb16a9",
   "metadata": {},
   "outputs": [],
   "source": []
  },
  {
   "cell_type": "code",
   "execution_count": 16,
   "id": "4113750c",
   "metadata": {},
   "outputs": [
    {
     "data": {
      "text/html": [
       "<div>\n",
       "<style scoped>\n",
       "    .dataframe tbody tr th:only-of-type {\n",
       "        vertical-align: middle;\n",
       "    }\n",
       "\n",
       "    .dataframe tbody tr th {\n",
       "        vertical-align: top;\n",
       "    }\n",
       "\n",
       "    .dataframe thead th {\n",
       "        text-align: right;\n",
       "    }\n",
       "</style>\n",
       "<table border=\"1\" class=\"dataframe\">\n",
       "  <thead>\n",
       "    <tr style=\"text-align: right;\">\n",
       "      <th></th>\n",
       "      <th>TITLE</th>\n",
       "      <th>GENRE</th>\n",
       "      <th>DESCRIPTION</th>\n",
       "    </tr>\n",
       "  </thead>\n",
       "  <tbody>\n",
       "    <tr>\n",
       "      <th>1</th>\n",
       "      <td>Oscar et la dame rose (2009)</td>\n",
       "      <td>drama</td>\n",
       "      <td>Listening in to a conversation between his do...</td>\n",
       "    </tr>\n",
       "    <tr>\n",
       "      <th>2</th>\n",
       "      <td>Cupid (1997)</td>\n",
       "      <td>thriller</td>\n",
       "      <td>A brother and sister with a past incestuous r...</td>\n",
       "    </tr>\n",
       "    <tr>\n",
       "      <th>3</th>\n",
       "      <td>Young, Wild and Wonderful (1980)</td>\n",
       "      <td>adult</td>\n",
       "      <td>As the bus empties the students for their fie...</td>\n",
       "    </tr>\n",
       "    <tr>\n",
       "      <th>4</th>\n",
       "      <td>The Secret Sin (1915)</td>\n",
       "      <td>drama</td>\n",
       "      <td>To help their unemployed father make ends mee...</td>\n",
       "    </tr>\n",
       "    <tr>\n",
       "      <th>5</th>\n",
       "      <td>The Unrecovered (2007)</td>\n",
       "      <td>drama</td>\n",
       "      <td>The film's title refers not only to the un-re...</td>\n",
       "    </tr>\n",
       "    <tr>\n",
       "      <th>6</th>\n",
       "      <td>Quality Control (2011)</td>\n",
       "      <td>documentary</td>\n",
       "      <td>Quality Control consists of a series of 16mm ...</td>\n",
       "    </tr>\n",
       "    <tr>\n",
       "      <th>7</th>\n",
       "      <td>\"Pink Slip\" (2009)</td>\n",
       "      <td>comedy</td>\n",
       "      <td>In tough economic times Max and Joey have all...</td>\n",
       "    </tr>\n",
       "    <tr>\n",
       "      <th>8</th>\n",
       "      <td>One Step Away (1985)</td>\n",
       "      <td>crime</td>\n",
       "      <td>Ron Petrie (Keanu Reeves) is a troubled teen ...</td>\n",
       "    </tr>\n",
       "    <tr>\n",
       "      <th>9</th>\n",
       "      <td>\"Desperate Hours\" (2016)</td>\n",
       "      <td>reality-tv</td>\n",
       "      <td>A sudden calamitous event, causing great loss...</td>\n",
       "    </tr>\n",
       "    <tr>\n",
       "      <th>10</th>\n",
       "      <td>Spirits (2014/I)</td>\n",
       "      <td>horror</td>\n",
       "      <td>Four high school students embark on a terrify...</td>\n",
       "    </tr>\n",
       "  </tbody>\n",
       "</table>\n",
       "</div>"
      ],
      "text/plain": [
       "                                 TITLE          GENRE  \\\n",
       "1        Oscar et la dame rose (2009)          drama    \n",
       "2                        Cupid (1997)       thriller    \n",
       "3    Young, Wild and Wonderful (1980)          adult    \n",
       "4               The Secret Sin (1915)          drama    \n",
       "5              The Unrecovered (2007)          drama    \n",
       "6              Quality Control (2011)    documentary    \n",
       "7                  \"Pink Slip\" (2009)         comedy    \n",
       "8                One Step Away (1985)          crime    \n",
       "9            \"Desperate Hours\" (2016)     reality-tv    \n",
       "10                   Spirits (2014/I)         horror    \n",
       "\n",
       "                                          DESCRIPTION  \n",
       "1    Listening in to a conversation between his do...  \n",
       "2    A brother and sister with a past incestuous r...  \n",
       "3    As the bus empties the students for their fie...  \n",
       "4    To help their unemployed father make ends mee...  \n",
       "5    The film's title refers not only to the un-re...  \n",
       "6    Quality Control consists of a series of 16mm ...  \n",
       "7    In tough economic times Max and Joey have all...  \n",
       "8    Ron Petrie (Keanu Reeves) is a troubled teen ...  \n",
       "9    A sudden calamitous event, causing great loss...  \n",
       "10   Four high school students embark on a terrify...  "
      ]
     },
     "execution_count": 16,
     "metadata": {},
     "output_type": "execute_result"
    }
   ],
   "source": [
    "df.head(10)"
   ]
  },
  {
   "cell_type": "code",
   "execution_count": 17,
   "id": "a4eeaee4",
   "metadata": {},
   "outputs": [
    {
     "data": {
      "text/plain": [
       "(54214, 3)"
      ]
     },
     "execution_count": 17,
     "metadata": {},
     "output_type": "execute_result"
    }
   ],
   "source": [
    "df.shape"
   ]
  },
  {
   "cell_type": "code",
   "execution_count": 21,
   "id": "dd17350e",
   "metadata": {},
   "outputs": [
    {
     "data": {
      "text/plain": [
       "Index(['TITLE', 'GENRE', 'DESCRIPTION'], dtype='object')"
      ]
     },
     "execution_count": 21,
     "metadata": {},
     "output_type": "execute_result"
    }
   ],
   "source": [
    "df.columns"
   ]
  },
  {
   "cell_type": "code",
   "execution_count": 22,
   "id": "f8077edb",
   "metadata": {},
   "outputs": [],
   "source": [
    "df['GENRE'] = df['GENRE'].str.lower()\n",
    "df['DESCRIPTION'] = df['DESCRIPTION'].str.lower()"
   ]
  },
  {
   "cell_type": "code",
   "execution_count": 23,
   "id": "bd00fe5b",
   "metadata": {},
   "outputs": [
    {
     "data": {
      "text/plain": [
       "False"
      ]
     },
     "execution_count": 23,
     "metadata": {},
     "output_type": "execute_result"
    }
   ],
   "source": [
    "df.duplicated().any()"
   ]
  },
  {
   "cell_type": "code",
   "execution_count": 24,
   "id": "475ce293",
   "metadata": {},
   "outputs": [
    {
     "data": {
      "text/plain": [
       " drama           13613\n",
       " documentary     13096\n",
       " comedy           7447\n",
       " short            5073\n",
       " horror           2204\n",
       " thriller         1591\n",
       " action           1315\n",
       " western          1032\n",
       " reality-tv        884\n",
       " family            784\n",
       " adventure         775\n",
       " music             731\n",
       " romance           672\n",
       " sci-fi            647\n",
       " adult             590\n",
       " crime             505\n",
       " animation         498\n",
       " sport             432\n",
       " talk-show         391\n",
       " fantasy           323\n",
       " mystery           319\n",
       " musical           277\n",
       " biography         265\n",
       " history           243\n",
       " game-show         194\n",
       " news              181\n",
       " war               132\n",
       "Name: GENRE, dtype: int64"
      ]
     },
     "execution_count": 24,
     "metadata": {},
     "output_type": "execute_result"
    }
   ],
   "source": [
    "df['GENRE'].value_counts()"
   ]
  },
  {
   "cell_type": "code",
   "execution_count": 27,
   "id": "1a36ca2c",
   "metadata": {},
   "outputs": [
    {
     "data": {
      "text/plain": [
       "TITLE          0\n",
       "GENRE          0\n",
       "DESCRIPTION    0\n",
       "dtype: int64"
      ]
     },
     "execution_count": 27,
     "metadata": {},
     "output_type": "execute_result"
    }
   ],
   "source": [
    "df.isnull().sum()"
   ]
  },
  {
   "cell_type": "code",
   "execution_count": 62,
   "id": "dc153cab",
   "metadata": {},
   "outputs": [
    {
     "data": {
      "image/png": "[encoded data removed]",
      "text/plain": [
       "<Figure size 2700x700 with 1 Axes>"
      ]
     },
     "metadata": {},
     "output_type": "display_data"
    }
   ],
   "source": [
    "plt.figure(figsize=(27,7))\n",
    "sns.countplot(data=df, x=\"GENRE\", order= df[\"GENRE\"].value_counts().index, palette = \"RdBu\",)\n",
    "plt.show()"
   ]
  },
  {
   "cell_type": "code",
   "execution_count": 63,
   "id": "7b6ed835",
   "metadata": {},
   "outputs": [
    {
     "data": {
      "text/plain": [
       "(54214, 3)"
      ]
     },
     "execution_count": 63,
     "metadata": {},
     "output_type": "execute_result"
    }
   ],
   "source": [
    "df.shape"
   ]
  },
  {
   "cell_type": "markdown",
   "id": "a14b216c",
   "metadata": {},
   "source": [
    "### Label Encoding for Target Axis"
   ]
  },
  {
   "cell_type": "code",
   "execution_count": 74,
   "id": "da2aae9b",
   "metadata": {},
   "outputs": [],
   "source": [
    "WorkingData = df.copy() "
   ]
  },
  {
   "cell_type": "code",
   "execution_count": 75,
   "id": "88abccc4",
   "metadata": {},
   "outputs": [],
   "source": [
    "WorkingData = WorkingData.drop('TITLE', axis=1)"
   ]
  },
  {
   "cell_type": "code",
   "execution_count": 76,
   "id": "384986d0",
   "metadata": {},
   "outputs": [
    {
     "data": {
      "text/html": [
       "<div>\n",
       "<style scoped>\n",
       "    .dataframe tbody tr th:only-of-type {\n",
       "        vertical-align: middle;\n",
       "    }\n",
       "\n",
       "    .dataframe tbody tr th {\n",
       "        vertical-align: top;\n",
       "    }\n",
       "\n",
       "    .dataframe thead th {\n",
       "        text-align: right;\n",
       "    }\n",
       "</style>\n",
       "<table border=\"1\" class=\"dataframe\">\n",
       "  <thead>\n",
       "    <tr style=\"text-align: right;\">\n",
       "      <th></th>\n",
       "      <th>GENRE</th>\n",
       "      <th>DESCRIPTION</th>\n",
       "    </tr>\n",
       "  </thead>\n",
       "  <tbody>\n",
       "    <tr>\n",
       "      <th>1</th>\n",
       "      <td>drama</td>\n",
       "      <td>listening in to a conversation between his do...</td>\n",
       "    </tr>\n",
       "    <tr>\n",
       "      <th>2</th>\n",
       "      <td>thriller</td>\n",
       "      <td>a brother and sister with a past incestuous r...</td>\n",
       "    </tr>\n",
       "    <tr>\n",
       "      <th>3</th>\n",
       "      <td>adult</td>\n",
       "      <td>as the bus empties the students for their fie...</td>\n",
       "    </tr>\n",
       "    <tr>\n",
       "      <th>4</th>\n",
       "      <td>drama</td>\n",
       "      <td>to help their unemployed father make ends mee...</td>\n",
       "    </tr>\n",
       "    <tr>\n",
       "      <th>5</th>\n",
       "      <td>drama</td>\n",
       "      <td>the film's title refers not only to the un-re...</td>\n",
       "    </tr>\n",
       "    <tr>\n",
       "      <th>6</th>\n",
       "      <td>documentary</td>\n",
       "      <td>quality control consists of a series of 16mm ...</td>\n",
       "    </tr>\n",
       "    <tr>\n",
       "      <th>7</th>\n",
       "      <td>comedy</td>\n",
       "      <td>in tough economic times max and joey have all...</td>\n",
       "    </tr>\n",
       "    <tr>\n",
       "      <th>8</th>\n",
       "      <td>crime</td>\n",
       "      <td>ron petrie (keanu reeves) is a troubled teen ...</td>\n",
       "    </tr>\n",
       "    <tr>\n",
       "      <th>9</th>\n",
       "      <td>reality-tv</td>\n",
       "      <td>a sudden calamitous event, causing great loss...</td>\n",
       "    </tr>\n",
       "    <tr>\n",
       "      <th>10</th>\n",
       "      <td>horror</td>\n",
       "      <td>four high school students embark on a terrify...</td>\n",
       "    </tr>\n",
       "  </tbody>\n",
       "</table>\n",
       "</div>"
      ],
      "text/plain": [
       "            GENRE                                        DESCRIPTION\n",
       "1          drama    listening in to a conversation between his do...\n",
       "2       thriller    a brother and sister with a past incestuous r...\n",
       "3          adult    as the bus empties the students for their fie...\n",
       "4          drama    to help their unemployed father make ends mee...\n",
       "5          drama    the film's title refers not only to the un-re...\n",
       "6    documentary    quality control consists of a series of 16mm ...\n",
       "7         comedy    in tough economic times max and joey have all...\n",
       "8          crime    ron petrie (keanu reeves) is a troubled teen ...\n",
       "9     reality-tv    a sudden calamitous event, causing great loss...\n",
       "10        horror    four high school students embark on a terrify..."
      ]
     },
     "execution_count": 76,
     "metadata": {},
     "output_type": "execute_result"
    }
   ],
   "source": [
    "WorkingData.head(5)"
   ]
  },
  {
   "cell_type": "code",
   "execution_count": 77,
   "id": "be87f5a6",
   "metadata": {},
   "outputs": [],
   "source": [
    "# label_encoder object knows how to understand word labels.\n",
    "label_encoder = preprocessing.LabelEncoder()\n",
    "\n",
    "# Encode labels in column 'species'.\n",
    "WorkingData['GENRE']= label_encoder.fit_transform(WorkingData['GENRE'])"
   ]
  },
  {
   "cell_type": "code",
   "execution_count": 78,
   "id": "d113118a",
   "metadata": {},
   "outputs": [
    {
     "data": {
      "text/plain": [
       "array([ 8, 24,  1,  7,  5,  6, 18, 13, 22,  3,  0, 10, 21, 20, 14,  2, 23,\n",
       "       26,  9, 16, 12, 17,  4, 19, 11, 15, 25])"
      ]
     },
     "execution_count": 78,
     "metadata": {},
     "output_type": "execute_result"
    }
   ],
   "source": [
    "WorkingData['GENRE'].unique()"
   ]
  },
  {
   "cell_type": "code",
   "execution_count": 26,
   "id": "707ce728",
   "metadata": {},
   "outputs": [
    {
     "data": {
      "text/plain": [
       "8     13613\n",
       "7     13096\n",
       "5      7447\n",
       "21     5073\n",
       "13     2204\n",
       "24     1591\n",
       "0      1315\n",
       "26     1032\n",
       "18      884\n",
       "9       784\n",
       "2       775\n",
       "14      731\n",
       "19      672\n",
       "20      647\n",
       "1       590\n",
       "6       505\n",
       "3       498\n",
       "22      432\n",
       "23      391\n",
       "10      323\n",
       "16      319\n",
       "15      277\n",
       "4       265\n",
       "12      243\n",
       "11      194\n",
       "17      181\n",
       "25      132\n",
       "Name: GENRE, dtype: int64"
      ]
     },
     "execution_count": 26,
     "metadata": {},
     "output_type": "execute_result"
    }
   ],
   "source": [
    "WorkingData_2['GENRE'].value_counts()"
   ]
  },
  {
   "cell_type": "code",
   "execution_count": 80,
   "id": "166c8551",
   "metadata": {},
   "outputs": [
    {
     "data": {
      "text/html": [
       "<div>\n",
       "<style scoped>\n",
       "    .dataframe tbody tr th:only-of-type {\n",
       "        vertical-align: middle;\n",
       "    }\n",
       "\n",
       "    .dataframe tbody tr th {\n",
       "        vertical-align: top;\n",
       "    }\n",
       "\n",
       "    .dataframe thead th {\n",
       "        text-align: right;\n",
       "    }\n",
       "</style>\n",
       "<table border=\"1\" class=\"dataframe\">\n",
       "  <thead>\n",
       "    <tr style=\"text-align: right;\">\n",
       "      <th></th>\n",
       "      <th>GENRE</th>\n",
       "      <th>DESCRIPTION</th>\n",
       "    </tr>\n",
       "  </thead>\n",
       "  <tbody>\n",
       "    <tr>\n",
       "      <th>1</th>\n",
       "      <td>8</td>\n",
       "      <td>listening in to a conversation between his do...</td>\n",
       "    </tr>\n",
       "    <tr>\n",
       "      <th>2</th>\n",
       "      <td>24</td>\n",
       "      <td>a brother and sister with a past incestuous r...</td>\n",
       "    </tr>\n",
       "    <tr>\n",
       "      <th>3</th>\n",
       "      <td>1</td>\n",
       "      <td>as the bus empties the students for their fie...</td>\n",
       "    </tr>\n",
       "    <tr>\n",
       "      <th>4</th>\n",
       "      <td>8</td>\n",
       "      <td>to help their unemployed father make ends mee...</td>\n",
       "    </tr>\n",
       "    <tr>\n",
       "      <th>5</th>\n",
       "      <td>8</td>\n",
       "      <td>the film's title refers not only to the un-re...</td>\n",
       "    </tr>\n",
       "  </tbody>\n",
       "</table>\n",
       "</div>"
      ],
      "text/plain": [
       "   GENRE                                        DESCRIPTION\n",
       "1      8   listening in to a conversation between his do...\n",
       "2     24   a brother and sister with a past incestuous r...\n",
       "3      1   as the bus empties the students for their fie...\n",
       "4      8   to help their unemployed father make ends mee...\n",
       "5      8   the film's title refers not only to the un-re..."
      ]
     },
     "execution_count": 80,
     "metadata": {},
     "output_type": "execute_result"
    }
   ],
   "source": [
    "WorkingData.head(5)"
   ]
  },
  {
   "cell_type": "markdown",
   "id": "77ce72b9",
   "metadata": {},
   "source": [
    "### Data Preprocessing"
   ]
  },
  {
   "cell_type": "code",
   "execution_count": 81,
   "id": "fed14d47",
   "metadata": {},
   "outputs": [
    {
     "data": {
      "text/plain": [
       "['i',\n",
       " 'me',\n",
       " 'my',\n",
       " 'myself',\n",
       " 'we',\n",
       " 'our',\n",
       " 'ours',\n",
       " 'ourselves',\n",
       " 'you',\n",
       " \"you're\",\n",
       " \"you've\",\n",
       " \"you'll\",\n",
       " \"you'd\",\n",
       " 'your',\n",
       " 'yours',\n",
       " 'yourself',\n",
       " 'yourselves',\n",
       " 'he',\n",
       " 'him',\n",
       " 'his',\n",
       " 'himself',\n",
       " 'she',\n",
       " \"she's\",\n",
       " 'her',\n",
       " 'hers',\n",
       " 'herself',\n",
       " 'it',\n",
       " \"it's\",\n",
       " 'its',\n",
       " 'itself',\n",
       " 'they',\n",
       " 'them',\n",
       " 'their',\n",
       " 'theirs',\n",
       " 'themselves',\n",
       " 'what',\n",
       " 'which',\n",
       " 'who',\n",
       " 'whom',\n",
       " 'this',\n",
       " 'that',\n",
       " \"that'll\",\n",
       " 'these',\n",
       " 'those',\n",
       " 'am',\n",
       " 'is',\n",
       " 'are',\n",
       " 'was',\n",
       " 'were',\n",
       " 'be',\n",
       " 'been',\n",
       " 'being',\n",
       " 'have',\n",
       " 'has',\n",
       " 'had',\n",
       " 'having',\n",
       " 'do',\n",
       " 'does',\n",
       " 'did',\n",
       " 'doing',\n",
       " 'a',\n",
       " 'an',\n",
       " 'the',\n",
       " 'and',\n",
       " 'but',\n",
       " 'if',\n",
       " 'or',\n",
       " 'because',\n",
       " 'as',\n",
       " 'until',\n",
       " 'while',\n",
       " 'of',\n",
       " 'at',\n",
       " 'by',\n",
       " 'for',\n",
       " 'with',\n",
       " 'about',\n",
       " 'against',\n",
       " 'between',\n",
       " 'into',\n",
       " 'through',\n",
       " 'during',\n",
       " 'before',\n",
       " 'after',\n",
       " 'above',\n",
       " 'below',\n",
       " 'to',\n",
       " 'from',\n",
       " 'up',\n",
       " 'down',\n",
       " 'in',\n",
       " 'out',\n",
       " 'on',\n",
       " 'off',\n",
       " 'over',\n",
       " 'under',\n",
       " 'again',\n",
       " 'further',\n",
       " 'then',\n",
       " 'once',\n",
       " 'here',\n",
       " 'there',\n",
       " 'when',\n",
       " 'where',\n",
       " 'why',\n",
       " 'how',\n",
       " 'all',\n",
       " 'any',\n",
       " 'both',\n",
       " 'each',\n",
       " 'few',\n",
       " 'more',\n",
       " 'most',\n",
       " 'other',\n",
       " 'some',\n",
       " 'such',\n",
       " 'no',\n",
       " 'nor',\n",
       " 'not',\n",
       " 'only',\n",
       " 'own',\n",
       " 'same',\n",
       " 'so',\n",
       " 'than',\n",
       " 'too',\n",
       " 'very',\n",
       " 's',\n",
       " 't',\n",
       " 'can',\n",
       " 'will',\n",
       " 'just',\n",
       " 'don',\n",
       " \"don't\",\n",
       " 'should',\n",
       " \"should've\",\n",
       " 'now',\n",
       " 'd',\n",
       " 'll',\n",
       " 'm',\n",
       " 'o',\n",
       " 're',\n",
       " 've',\n",
       " 'y',\n",
       " 'ain',\n",
       " 'aren',\n",
       " \"aren't\",\n",
       " 'couldn',\n",
       " \"couldn't\",\n",
       " 'didn',\n",
       " \"didn't\",\n",
       " 'doesn',\n",
       " \"doesn't\",\n",
       " 'hadn',\n",
       " \"hadn't\",\n",
       " 'hasn',\n",
       " \"hasn't\",\n",
       " 'haven',\n",
       " \"haven't\",\n",
       " 'isn',\n",
       " \"isn't\",\n",
       " 'ma',\n",
       " 'mightn',\n",
       " \"mightn't\",\n",
       " 'mustn',\n",
       " \"mustn't\",\n",
       " 'needn',\n",
       " \"needn't\",\n",
       " 'shan',\n",
       " \"shan't\",\n",
       " 'shouldn',\n",
       " \"shouldn't\",\n",
       " 'wasn',\n",
       " \"wasn't\",\n",
       " 'weren',\n",
       " \"weren't\",\n",
       " 'won',\n",
       " \"won't\",\n",
       " 'wouldn',\n",
       " \"wouldn't\"]"
      ]
     },
     "execution_count": 81,
     "metadata": {},
     "output_type": "execute_result"
    }
   ],
   "source": [
    "# Get the list of English stopwords\n",
    "stopwords.words('english')"
   ]
  },
  {
   "cell_type": "code",
   "execution_count": 82,
   "id": "945aa669",
   "metadata": {},
   "outputs": [],
   "source": [
    "sw = set(stopwords.words('english'))"
   ]
  },
  {
   "cell_type": "code",
   "execution_count": 83,
   "id": "a61e2022",
   "metadata": {},
   "outputs": [],
   "source": [
    "# Create a new instance of the Porter stemming algorithm\n",
    "ps = PorterStemmer()"
   ]
  },
  {
   "cell_type": "code",
   "execution_count": 88,
   "id": "3adbcab5",
   "metadata": {},
   "outputs": [],
   "source": [
    "lm = WordNetLemmatizer()"
   ]
  },
  {
   "cell_type": "code",
   "execution_count": 86,
   "id": "48fa653c",
   "metadata": {},
   "outputs": [
    {
     "data": {
      "text/plain": [
       "' listening in to a conversation between his doctor and parents, 10-year-old oscar learns what nobody has the courage to tell him. he only has a few weeks to live. furious, he refuses to speak to anyone except straight-talking rose, the lady in pink he meets on the hospital stairs. as christmas approaches, rose uses her fantastical experiences as a professional wrestler, her imagination, wit and charm to allow oscar to live life and love to the full, in the company of his friends pop corn, einstein, bacon and childhood sweetheart peggy blue.'"
      ]
     },
     "execution_count": 86,
     "metadata": {},
     "output_type": "execute_result"
    }
   ],
   "source": [
    "WorkingData[\"DESCRIPTION\"][1]"
   ]
  },
  {
   "cell_type": "code",
   "execution_count": 89,
   "id": "34d13e96",
   "metadata": {},
   "outputs": [],
   "source": [
    "# Import the Porter stemming algorithm from the NLTK library\n",
    "\n",
    "\n",
    "# Create a new instance of the Porter stemming algorithm\n",
    "ps = PorterStemmer()\n",
    "\n",
    "# Define a function to clean a sample of text\n",
    "def clean_text(sample):\n",
    "  # Convert the text to lowercase\n",
    "  sample = sample.lower()\n",
    "\n",
    "  # Remove non-alphabetic characters and replace with spaces\n",
    "  sample = re.sub(\"[^a-zA-Z]+\",\" \", sample)\n",
    "\n",
    "  # Split the text into individual words\n",
    "  sample = sample.split()\n",
    "\n",
    "  # Apply stemming to each word and remove stopwords\n",
    "  sample = [ps.stem(s) for s in sample if s not in sw]\n",
    "\n",
    "  # Join the stemmed words back into a single string\n",
    "  sample = \" \".join(sample)\n",
    "\n",
    "  # Return the cleaned text sample\n",
    "  return sample\n"
   ]
  },
  {
   "cell_type": "code",
   "execution_count": 93,
   "id": "fd6dd99d",
   "metadata": {},
   "outputs": [
    {
     "data": {
      "text/plain": [
       "'listen convers doctor parent year old oscar learn nobodi courag tell week live furiou refus speak anyon except straight talk rose ladi pink meet hospit stair christma approach rose use fantast experi profession wrestler imagin wit charm allow oscar live life love full compani friend pop corn einstein bacon childhood sweetheart peggi blue'"
      ]
     },
     "execution_count": 93,
     "metadata": {},
     "output_type": "execute_result"
    }
   ],
   "source": [
    "clean_text(WorkingData[\"DESCRIPTION\"][1])"
   ]
  },
  {
   "cell_type": "code",
   "execution_count": 94,
   "id": "4c116d32",
   "metadata": {},
   "outputs": [],
   "source": [
    "# Apply the fucntion to dataset text column\n",
    "WorkingData['DESCRIPTION']= WorkingData['DESCRIPTION'].apply(clean_text)"
   ]
  },
  {
   "cell_type": "code",
   "execution_count": 97,
   "id": "247ab426",
   "metadata": {},
   "outputs": [
    {
     "data": {
      "text/html": [
       "<div>\n",
       "<style scoped>\n",
       "    .dataframe tbody tr th:only-of-type {\n",
       "        vertical-align: middle;\n",
       "    }\n",
       "\n",
       "    .dataframe tbody tr th {\n",
       "        vertical-align: top;\n",
       "    }\n",
       "\n",
       "    .dataframe thead th {\n",
       "        text-align: right;\n",
       "    }\n",
       "</style>\n",
       "<table border=\"1\" class=\"dataframe\">\n",
       "  <thead>\n",
       "    <tr style=\"text-align: right;\">\n",
       "      <th></th>\n",
       "      <th>GENRE</th>\n",
       "      <th>DESCRIPTION</th>\n",
       "    </tr>\n",
       "  </thead>\n",
       "  <tbody>\n",
       "    <tr>\n",
       "      <th>1</th>\n",
       "      <td>8</td>\n",
       "      <td>listen convers doctor parent year old oscar le...</td>\n",
       "    </tr>\n",
       "    <tr>\n",
       "      <th>2</th>\n",
       "      <td>24</td>\n",
       "      <td>brother sister past incestu relationship curre...</td>\n",
       "    </tr>\n",
       "    <tr>\n",
       "      <th>3</th>\n",
       "      <td>1</td>\n",
       "      <td>bu empti student field trip museum natur histo...</td>\n",
       "    </tr>\n",
       "    <tr>\n",
       "      <th>4</th>\n",
       "      <td>8</td>\n",
       "      <td>help unemploy father make end meet edith twin ...</td>\n",
       "    </tr>\n",
       "    <tr>\n",
       "      <th>5</th>\n",
       "      <td>8</td>\n",
       "      <td>film titl refer un recov bodi ground zero also...</td>\n",
       "    </tr>\n",
       "  </tbody>\n",
       "</table>\n",
       "</div>"
      ],
      "text/plain": [
       "   GENRE                                        DESCRIPTION\n",
       "1      8  listen convers doctor parent year old oscar le...\n",
       "2     24  brother sister past incestu relationship curre...\n",
       "3      1  bu empti student field trip museum natur histo...\n",
       "4      8  help unemploy father make end meet edith twin ...\n",
       "5      8  film titl refer un recov bodi ground zero also..."
      ]
     },
     "execution_count": 97,
     "metadata": {},
     "output_type": "execute_result"
    }
   ],
   "source": [
    "WorkingData.head()"
   ]
  },
  {
   "cell_type": "code",
   "execution_count": 98,
   "id": "4200c737",
   "metadata": {},
   "outputs": [],
   "source": [
    "# Extract the 'processed_text' column from the WorkingData_2 DataFrame\n",
    "processed_text = WorkingData['DESCRIPTION']\n",
    "\n",
    "# Convert the processed text column to a NumPy array\n",
    "corpus = processed_text.values"
   ]
  },
  {
   "cell_type": "code",
   "execution_count": 99,
   "id": "2a8f7817",
   "metadata": {},
   "outputs": [
    {
     "data": {
      "text/plain": [
       "array(['listen convers doctor parent year old oscar learn nobodi courag tell week live furiou refus speak anyon except straight talk rose ladi pink meet hospit stair christma approach rose use fantast experi profession wrestler imagin wit charm allow oscar live life love full compani friend pop corn einstein bacon childhood sweetheart peggi blue',\n",
       "       'brother sister past incestu relationship current murder relationship murder women reject murder women get close',\n",
       "       'bu empti student field trip museum natur histori littl tour guid suspect student anoth tour first lectur film co drift dream erot fantasi one imagin film releas emot fantasi erot uncommon way one slip curat offic littl acquisit anoth find anthropologist see bone identifi even head teacher immun soon tour bu depart everyon admit quit educ',\n",
       "       ...,\n",
       "       'ze bestaan echt stand comedi grow face fear freer organ spek ronald speak thing watch go recogn peopl okay',\n",
       "       'walter vivian live countri difficult time keep servant walter hire privat detect fire arrest district attorney way walter get jerri work tell jerri life danger neighbor tri take wife nazi spi everywher jerri need cook cover get fianc e susan work keep jerri work walter send threaten letter hire actor play spi soon becom appar susan cannot cook jerri could find spi trip',\n",
       "       'labor day weekend intens hurrican ever make landfal america shore hit florida key countri start recov great depress feroci beast mile hour wind violent storm surg overpow nearli everyth path'],\n",
       "      dtype=object)"
      ]
     },
     "execution_count": 99,
     "metadata": {},
     "output_type": "execute_result"
    }
   ],
   "source": [
    "corpus"
   ]
  },
  {
   "cell_type": "markdown",
   "id": "f4061b56",
   "metadata": {},
   "source": [
    "### Data Transformation"
   ]
  },
  {
   "cell_type": "code",
   "execution_count": 111,
   "id": "42d1ccd8",
   "metadata": {},
   "outputs": [],
   "source": [
    "# Create a new instance of the CountVectorizer class with max_features set to 1600\n",
    "cv = CountVectorizer(max_features=1500)"
   ]
  },
  {
   "cell_type": "code",
   "execution_count": 112,
   "id": "7ed4c5f6",
   "metadata": {},
   "outputs": [],
   "source": [
    "X = cv.fit_transform(corpus).toarray()"
   ]
  },
  {
   "cell_type": "code",
   "execution_count": 113,
   "id": "5fccc0f0",
   "metadata": {},
   "outputs": [
    {
     "data": {
      "text/plain": [
       "(54214, 1500)"
      ]
     },
     "execution_count": 113,
     "metadata": {},
     "output_type": "execute_result"
    }
   ],
   "source": [
    "X.shape"
   ]
  },
  {
   "cell_type": "code",
   "execution_count": 114,
   "id": "ae71859b",
   "metadata": {},
   "outputs": [
    {
     "data": {
      "text/plain": [
       "array([[0, 0, 0, ..., 0, 0, 0],\n",
       "       [0, 0, 0, ..., 0, 0, 0],\n",
       "       [0, 0, 0, ..., 0, 0, 0],\n",
       "       ...,\n",
       "       [0, 0, 0, ..., 0, 0, 0],\n",
       "       [0, 0, 0, ..., 0, 0, 0],\n",
       "       [0, 0, 0, ..., 0, 0, 0]], dtype=int64)"
      ]
     },
     "execution_count": 114,
     "metadata": {},
     "output_type": "execute_result"
    }
   ],
   "source": [
    "X[:50]"
   ]
  },
  {
   "cell_type": "code",
   "execution_count": 61,
   "id": "8792b90c",
   "metadata": {},
   "outputs": [],
   "source": [
    "# vectorize = TfidfVectorizer()\n",
    "\n",
    "# X_train = vectorize.fit_transform(WorkingData[\"DESCRIPTION\"])\n",
    "\n",
    "# X_test = vectorize.transform(WorkingData[\"DESCRIPTION\"])"
   ]
  },
  {
   "cell_type": "code",
   "execution_count": 115,
   "id": "0c768a0c",
   "metadata": {},
   "outputs": [],
   "source": [
    "y = WorkingData['GENRE'].values"
   ]
  },
  {
   "cell_type": "code",
   "execution_count": 116,
   "id": "fcbcfbb9",
   "metadata": {},
   "outputs": [
    {
     "data": {
      "text/plain": [
       "(54214,)"
      ]
     },
     "execution_count": 116,
     "metadata": {},
     "output_type": "execute_result"
    }
   ],
   "source": [
    "y.shape"
   ]
  },
  {
   "cell_type": "code",
   "execution_count": 117,
   "id": "94918cdc",
   "metadata": {},
   "outputs": [
    {
     "data": {
      "text/plain": [
       "array([ 8, 24,  1,  8,  8,  7,  5,  6, 18, 13,  7,  8,  7, 24,  8,  8,  5,\n",
       "        7, 22,  3,  8,  5,  5,  8,  0, 10, 21, 20, 24,  7, 13,  7,  0,  7,\n",
       "       14,  5,  8,  8,  5,  5,  7,  5, 21,  8,  2, 24,  7, 21,  8, 24,  7,\n",
       "        7,  5,  7, 23, 13,  7, 13,  5,  7,  8,  5, 18,  8,  6,  5, 13, 20,\n",
       "       21,  8,  7,  8,  1,  7, 23,  5,  5,  8, 26,  8, 13,  8, 24,  5,  1,\n",
       "        9, 16,  8,  7,  8,  7,  8, 20,  9, 24,  7,  8,  8,  8,  7])"
      ]
     },
     "execution_count": 117,
     "metadata": {},
     "output_type": "execute_result"
    }
   ],
   "source": [
    "y[:100]"
   ]
  },
  {
   "cell_type": "code",
   "execution_count": 118,
   "id": "d776e700",
   "metadata": {},
   "outputs": [],
   "source": [
    "## Saving Bow dictionary to later use\n",
    "# Import the pickle module\n",
    "import pickle\n",
    "\n",
    "# Set the path for the output file\n",
    "bow_path = '01.Model.pkl'\n",
    "\n",
    "# Use the pickle.dump() function to save the CountVectorizer instance to a file\n",
    "# The \"wb\" argument specifies that the file should be opened in binary mode for writing\n",
    "pickle.dump(cv, open(bow_path, \"wb\"))"
   ]
  },
  {
   "cell_type": "markdown",
   "id": "aa4209a5",
   "metadata": {},
   "source": [
    "### Dividing Dataset into Training and Test"
   ]
  },
  {
   "cell_type": "code",
   "execution_count": 120,
   "id": "c118a6e8",
   "metadata": {},
   "outputs": [],
   "source": [
    "X_train, X_test, y_train, y_test = train_test_split(X, y, test_size=0.20, random_state=0)"
   ]
  },
  {
   "cell_type": "markdown",
   "id": "6ab408c8",
   "metadata": {},
   "source": [
    "### Naive Bayes Classifier"
   ]
  },
  {
   "cell_type": "code",
   "execution_count": 122,
   "id": "0419b329",
   "metadata": {},
   "outputs": [
    {
     "data": {
      "text/html": [
       "<style>#sk-container-id-1 {color: black;background-color: white;}#sk-container-id-1 pre{padding: 0;}#sk-container-id-1 div.sk-toggleable {background-color: white;}#sk-container-id-1 label.sk-toggleable__label {cursor: pointer;display: block;width: 100%;margin-bottom: 0;padding: 0.3em;box-sizing: border-box;text-align: center;}#sk-container-id-1 label.sk-toggleable__label-arrow:before {content: \"▸\";float: left;margin-right: 0.25em;color: #696969;}#sk-container-id-1 label.sk-toggleable__label-arrow:hover:before {color: black;}#sk-container-id-1 div.sk-estimator:hover label.sk-toggleable__label-arrow:before {color: black;}#sk-container-id-1 div.sk-toggleable__content {max-height: 0;max-width: 0;overflow: hidden;text-align: left;background-color: #f0f8ff;}#sk-container-id-1 div.sk-toggleable__content pre {margin: 0.2em;color: black;border-radius: 0.25em;background-color: #f0f8ff;}#sk-container-id-1 input.sk-toggleable__control:checked~div.sk-toggleable__content {max-height: 200px;max-width: 100%;overflow: auto;}#sk-container-id-1 input.sk-toggleable__control:checked~label.sk-toggleable__label-arrow:before {content: \"▾\";}#sk-container-id-1 div.sk-estimator input.sk-toggleable__control:checked~label.sk-toggleable__label {background-color: #d4ebff;}#sk-container-id-1 div.sk-label input.sk-toggleable__control:checked~label.sk-toggleable__label {background-color: #d4ebff;}#sk-container-id-1 input.sk-hidden--visually {border: 0;clip: rect(1px 1px 1px 1px);clip: rect(1px, 1px, 1px, 1px);height: 1px;margin: -1px;overflow: hidden;padding: 0;position: absolute;width: 1px;}#sk-container-id-1 div.sk-estimator {font-family: monospace;background-color: #f0f8ff;border: 1px dotted black;border-radius: 0.25em;box-sizing: border-box;margin-bottom: 0.5em;}#sk-container-id-1 div.sk-estimator:hover {background-color: #d4ebff;}#sk-container-id-1 div.sk-parallel-item::after {content: \"\";width: 100%;border-bottom: 1px solid gray;flex-grow: 1;}#sk-container-id-1 div.sk-label:hover label.sk-toggleable__label {background-color: #d4ebff;}#sk-container-id-1 div.sk-serial::before {content: \"\";position: absolute;border-left: 1px solid gray;box-sizing: border-box;top: 0;bottom: 0;left: 50%;z-index: 0;}#sk-container-id-1 div.sk-serial {display: flex;flex-direction: column;align-items: center;background-color: white;padding-right: 0.2em;padding-left: 0.2em;position: relative;}#sk-container-id-1 div.sk-item {position: relative;z-index: 1;}#sk-container-id-1 div.sk-parallel {display: flex;align-items: stretch;justify-content: center;background-color: white;position: relative;}#sk-container-id-1 div.sk-item::before, #sk-container-id-1 div.sk-parallel-item::before {content: \"\";position: absolute;border-left: 1px solid gray;box-sizing: border-box;top: 0;bottom: 0;left: 50%;z-index: -1;}#sk-container-id-1 div.sk-parallel-item {display: flex;flex-direction: column;z-index: 1;position: relative;background-color: white;}#sk-container-id-1 div.sk-parallel-item:first-child::after {align-self: flex-end;width: 50%;}#sk-container-id-1 div.sk-parallel-item:last-child::after {align-self: flex-start;width: 50%;}#sk-container-id-1 div.sk-parallel-item:only-child::after {width: 0;}#sk-container-id-1 div.sk-dashed-wrapped {border: 1px dashed gray;margin: 0 0.4em 0.5em 0.4em;box-sizing: border-box;padding-bottom: 0.4em;background-color: white;}#sk-container-id-1 div.sk-label label {font-family: monospace;font-weight: bold;display: inline-block;line-height: 1.2em;}#sk-container-id-1 div.sk-label-container {text-align: center;}#sk-container-id-1 div.sk-container {/* jupyter's `normalize.less` sets `[hidden] { display: none; }` but bootstrap.min.css set `[hidden] { display: none !important; }` so we also need the `!important` here to be able to override the default hidden behavior on the sphinx rendered scikit-learn.org. See: https://github.com/scikit-learn/scikit-learn/issues/21755 */display: inline-block !important;position: relative;}#sk-container-id-1 div.sk-text-repr-fallback {display: none;}</style><div id=\"sk-container-id-1\" class=\"sk-top-container\"><div class=\"sk-text-repr-fallback\"><pre>GaussianNB()</pre><b>In a Jupyter environment, please rerun this cell to show the HTML representation or trust the notebook. <br />On GitHub, the HTML representation is unable to render, please try loading this page with nbviewer.org.</b></div><div class=\"sk-container\" hidden><div class=\"sk-item\"><div class=\"sk-estimator sk-toggleable\"><input class=\"sk-toggleable__control sk-hidden--visually\" id=\"sk-estimator-id-1\" type=\"checkbox\" checked><label for=\"sk-estimator-id-1\" class=\"sk-toggleable__label sk-toggleable__label-arrow\">GaussianNB</label><div class=\"sk-toggleable__content\"><pre>GaussianNB()</pre></div></div></div></div></div>"
      ],
      "text/plain": [
       "GaussianNB()"
      ]
     },
     "execution_count": 122,
     "metadata": {},
     "output_type": "execute_result"
    }
   ],
   "source": [
    "# Import the GaussianNB classifier from the sklearn.naive_bayes module\n",
    "from sklearn.naive_bayes import GaussianNB\n",
    "\n",
    "# Create an instance of the GaussianNB classifier\n",
    "classifier = GaussianNB()\n",
    "\n",
    "# Train the classifier on the training data\n",
    "# X_train is the input data for training, y_train is the target variable for training\n",
    "classifier.fit(X_train, y_train)"
   ]
  },
  {
   "cell_type": "code",
   "execution_count": 123,
   "id": "18cae416",
   "metadata": {},
   "outputs": [
    {
     "name": "stdout",
     "output_type": "stream",
     "text": [
      "[[  7  10   0   7  17   0  12   2   8   0  42   2  19   1   2  18  26   1\n",
      "    4   1  14   0  23  10   3   2  17]\n",
      " [  1  40   0   3   0   2   2   1   1   0  13   1  10   1   2   6   1   2\n",
      "    0   0   1   0   5  16   0   0   2]\n",
      " [  2  20   7   6   7   0   5   2   3   1  17   0  17   1   1  14   7   2\n",
      "    2   1   4   0  16   2   0   0  13]\n",
      " [  1   4   5  17   5   2   1   4   1   2  19   1   7   0   0  11   5   2\n",
      "    0   0   2   1   9   6   0   2   0]\n",
      " [  2   0   0   3   5   0   1   4   2   1   2   1   8   0   2   2   2   1\n",
      "    1   0   1   0   1  11   0   1   1]\n",
      " [  3 163   4  62  79  52  47  15  38  10 143  37  87   7  35 194 101  32\n",
      "   26  63  10   3 101 122   4  21  38]\n",
      " [  2  11   1   1   4   0  11   1   3   0   8   0  15   3   0   3  15   0\n",
      "    0   1   3   0   1   2   1   0   4]\n",
      " [  9  28  25  74 251   5  48 471  34  28 112  22 375   5 123 113  86  89\n",
      "   84  21  64  21 229 224   3  33   9]\n",
      " [ 13 167  18  84 174  28 105  53 203  31 377  16 278   9  23 257 239  27\n",
      "   21 148  41  15 106 131  30  56 123]\n",
      " [  1   5   3  14   9   0   1   2   2   5  21   5  13   2   4  23   3   5\n",
      "    4   8   0   0  21  11   0   1   1]\n",
      " [  0   3   1   2   2   0   0   1   2   1  16   1   5   2   0   9   2   1\n",
      "    0   0   9   1   3   1   1   3   1]\n",
      " [  0   1   0   0   1   0   0   1   0   2   1  12   0   0   0   0   0   2\n",
      "    5   0   0   0   4   4   0   0   0]\n",
      " [  0   0   2   1   5   1   1   7   2   0   5   0   7   0   0   3   3   0\n",
      "    0   1   3   0   2   2   0   2   0]\n",
      " [  2  27   7  15  19   2  13   3   5   2 101   1  32  37   3  45  47   5\n",
      "    1   5  11   0  10  11   5   7   8]\n",
      " [  0   1   0   1   9   1   0   3   0   0   5   6  17   0  25  20   2  13\n",
      "    1   2   1   0  33  21   0   2   0]\n",
      " [  1   1   0   0   4   0   0   3   1   1   4   1   5   1   4  11   4   1\n",
      "    0   0   0   0   2   8   0   2   2]\n",
      " [  1   1   1   1   1   1   3   0   2   1  10   0   5   1   0   3  11   1\n",
      "    1   1   2   0   1   1   1   0   5]\n",
      " [  0   1   0   0   2   0   0   2   0   0   2   0   3   0   0   0   2   4\n",
      "    0   0   1   0   4   9   1   1   0]\n",
      " [  0  11   2   3   9   4   0   6   0   0   3   5   9   1   6   8   5  12\n",
      "   19   0   0   1  28  22   1   1   1]\n",
      " [  0  20   1   3   0   1   4   2   5   3  18   0   4   0   0  16   8   0\n",
      "    1  17   0   0   2  12   2   1   1]\n",
      " [  4   3   2  13   2   1   0   1   2   0  33   2  16   0   1  10  12   1\n",
      "    0   0  21   0   5   6   2   1   1]\n",
      " [  2  67   4  30  69   7  13  38  10   9 139  16 122   5  23  89  61  25\n",
      "    8  20  18  18  94 121   2  29  11]\n",
      " [  1   7   0   2   5   0   0   1   1   2   3   3   5   0   3   3   0   4\n",
      "    6   0   1   0  39   7   0   0   1]\n",
      " [  0   1   0   3   5   1   1   4   1   0   0   3   4   0   9   4   2  11\n",
      "    0   0   0   0   6  24   0   1   1]\n",
      " [  6  26   2  15  14   2  18   5   7   0  53   3  24   8   0  25  49   5\n",
      "    1   9  13   0   6   7  10   2  14]\n",
      " [  2   0   3   1   1   0   1   2   0   0   2   0   6   0   1   2   0   0\n",
      "    0   0   0   0   2   0   0   3   0]\n",
      " [  2   4   0   1   2   0   1   1   5   0  10   1  13   1   0  11   3   2\n",
      "    0   0   1   0   6   1   0   2 130]]\n"
     ]
    },
    {
     "data": {
      "text/plain": [
       "0.11269943742506687"
      ]
     },
     "execution_count": 123,
     "metadata": {},
     "output_type": "execute_result"
    }
   ],
   "source": [
    "# Make predictions on the test data using the trained classifier\n",
    "y_pred = classifier.predict(X_test)\n",
    "\n",
    "# Import the confusion_matrix and accuracy_score functions from the sklearn.metrics module\n",
    "from sklearn.metrics import confusion_matrix, accuracy_score\n",
    "\n",
    "# Compute the confusion matrix for the predictions\n",
    "# y_test is the actual target variable values for the test data, y_pred are the predicted values\n",
    "cm = confusion_matrix(y_test, y_pred)\n",
    "print(cm)\n",
    "\n",
    "# Compute the accuracy score for the predictions\n",
    "# y_test is the actual target variable values for the test data, y_pred are the predicted values\n",
    "accuracy_score(y_test, y_pred)"
   ]
  },
  {
   "cell_type": "code",
   "execution_count": 124,
   "id": "8f935175",
   "metadata": {},
   "outputs": [
    {
     "name": "stdout",
     "output_type": "stream",
     "text": [
      "Confusion Matrix:\n",
      " [[  7  10   0   7  17   0  12   2   8   0  42   2  19   1   2  18  26   1\n",
      "    4   1  14   0  23  10   3   2  17]\n",
      " [  1  40   0   3   0   2   2   1   1   0  13   1  10   1   2   6   1   2\n",
      "    0   0   1   0   5  16   0   0   2]\n",
      " [  2  20   7   6   7   0   5   2   3   1  17   0  17   1   1  14   7   2\n",
      "    2   1   4   0  16   2   0   0  13]\n",
      " [  1   4   5  17   5   2   1   4   1   2  19   1   7   0   0  11   5   2\n",
      "    0   0   2   1   9   6   0   2   0]\n",
      " [  2   0   0   3   5   0   1   4   2   1   2   1   8   0   2   2   2   1\n",
      "    1   0   1   0   1  11   0   1   1]\n",
      " [  3 163   4  62  79  52  47  15  38  10 143  37  87   7  35 194 101  32\n",
      "   26  63  10   3 101 122   4  21  38]\n",
      " [  2  11   1   1   4   0  11   1   3   0   8   0  15   3   0   3  15   0\n",
      "    0   1   3   0   1   2   1   0   4]\n",
      " [  9  28  25  74 251   5  48 471  34  28 112  22 375   5 123 113  86  89\n",
      "   84  21  64  21 229 224   3  33   9]\n",
      " [ 13 167  18  84 174  28 105  53 203  31 377  16 278   9  23 257 239  27\n",
      "   21 148  41  15 106 131  30  56 123]\n",
      " [  1   5   3  14   9   0   1   2   2   5  21   5  13   2   4  23   3   5\n",
      "    4   8   0   0  21  11   0   1   1]\n",
      " [  0   3   1   2   2   0   0   1   2   1  16   1   5   2   0   9   2   1\n",
      "    0   0   9   1   3   1   1   3   1]\n",
      " [  0   1   0   0   1   0   0   1   0   2   1  12   0   0   0   0   0   2\n",
      "    5   0   0   0   4   4   0   0   0]\n",
      " [  0   0   2   1   5   1   1   7   2   0   5   0   7   0   0   3   3   0\n",
      "    0   1   3   0   2   2   0   2   0]\n",
      " [  2  27   7  15  19   2  13   3   5   2 101   1  32  37   3  45  47   5\n",
      "    1   5  11   0  10  11   5   7   8]\n",
      " [  0   1   0   1   9   1   0   3   0   0   5   6  17   0  25  20   2  13\n",
      "    1   2   1   0  33  21   0   2   0]\n",
      " [  1   1   0   0   4   0   0   3   1   1   4   1   5   1   4  11   4   1\n",
      "    0   0   0   0   2   8   0   2   2]\n",
      " [  1   1   1   1   1   1   3   0   2   1  10   0   5   1   0   3  11   1\n",
      "    1   1   2   0   1   1   1   0   5]\n",
      " [  0   1   0   0   2   0   0   2   0   0   2   0   3   0   0   0   2   4\n",
      "    0   0   1   0   4   9   1   1   0]\n",
      " [  0  11   2   3   9   4   0   6   0   0   3   5   9   1   6   8   5  12\n",
      "   19   0   0   1  28  22   1   1   1]\n",
      " [  0  20   1   3   0   1   4   2   5   3  18   0   4   0   0  16   8   0\n",
      "    1  17   0   0   2  12   2   1   1]\n",
      " [  4   3   2  13   2   1   0   1   2   0  33   2  16   0   1  10  12   1\n",
      "    0   0  21   0   5   6   2   1   1]\n",
      " [  2  67   4  30  69   7  13  38  10   9 139  16 122   5  23  89  61  25\n",
      "    8  20  18  18  94 121   2  29  11]\n",
      " [  1   7   0   2   5   0   0   1   1   2   3   3   5   0   3   3   0   4\n",
      "    6   0   1   0  39   7   0   0   1]\n",
      " [  0   1   0   3   5   1   1   4   1   0   0   3   4   0   9   4   2  11\n",
      "    0   0   0   0   6  24   0   1   1]\n",
      " [  6  26   2  15  14   2  18   5   7   0  53   3  24   8   0  25  49   5\n",
      "    1   9  13   0   6   7  10   2  14]\n",
      " [  2   0   3   1   1   0   1   2   0   0   2   0   6   0   1   2   0   0\n",
      "    0   0   0   0   2   0   0   3   0]\n",
      " [  2   4   0   1   2   0   1   1   5   0  10   1  13   1   0  11   3   2\n",
      "    0   0   1   0   6   1   0   2 130]]\n",
      "\n",
      "Classification Report:\n",
      "               precision    recall  f1-score   support\n",
      "\n",
      "           0       0.11      0.03      0.05       248\n",
      "           1       0.06      0.36      0.11       110\n",
      "           2       0.08      0.05      0.06       150\n",
      "           3       0.05      0.16      0.07       107\n",
      "           4       0.01      0.10      0.01        52\n",
      "           5       0.47      0.03      0.06      1497\n",
      "           6       0.04      0.12      0.06        90\n",
      "           7       0.74      0.18      0.29      2586\n",
      "           8       0.60      0.07      0.13      2773\n",
      "           9       0.05      0.03      0.04       164\n",
      "          10       0.01      0.24      0.03        67\n",
      "          11       0.09      0.36      0.14        33\n",
      "          12       0.01      0.15      0.01        47\n",
      "          13       0.44      0.09      0.15       424\n",
      "          14       0.09      0.15      0.12       163\n",
      "          15       0.01      0.20      0.02        56\n",
      "          16       0.02      0.20      0.03        55\n",
      "          17       0.02      0.12      0.03        32\n",
      "          18       0.10      0.12      0.11       157\n",
      "          19       0.06      0.14      0.08       121\n",
      "          20       0.10      0.15      0.12       139\n",
      "          21       0.30      0.02      0.03      1050\n",
      "          22       0.05      0.41      0.09        94\n",
      "          23       0.03      0.30      0.05        81\n",
      "          24       0.15      0.03      0.05       324\n",
      "          25       0.02      0.12      0.03        26\n",
      "          26       0.34      0.66      0.45       197\n",
      "\n",
      "    accuracy                           0.11     10843\n",
      "   macro avg       0.15      0.17      0.09     10843\n",
      "weighted avg       0.46      0.11      0.14     10843\n",
      "\n"
     ]
    }
   ],
   "source": [
    "# Print the confusion matrix and classification report\n",
    "print(\"Confusion Matrix:\\n\", confusion_matrix(y_test, y_pred))\n",
    "print(\"\\nClassification Report:\\n\", classification_report(y_test, y_pred))"
   ]
  },
  {
   "cell_type": "code",
   "execution_count": 125,
   "id": "72a67aab",
   "metadata": {},
   "outputs": [
    {
     "data": {
      "text/plain": [
       "['01.naive_bayes_ClassifierModel']"
      ]
     },
     "execution_count": 125,
     "metadata": {},
     "output_type": "execute_result"
    }
   ],
   "source": [
    "# Exporting NB Classifier to later use in prediction\n",
    "import joblib\n",
    "joblib.dump(classifier,'01.naive_bayes_ClassifierModel')"
   ]
  },
  {
   "cell_type": "markdown",
   "id": "dc9601d0",
   "metadata": {},
   "source": [
    "### SVM"
   ]
  },
  {
   "cell_type": "code",
   "execution_count": 137,
   "id": "80559abc",
   "metadata": {},
   "outputs": [],
   "source": [
    "from sklearn.svm import SVC\n",
    "# Initialize a linear SVM classifier\n",
    "svm = SVC(kernel='linear', C=1, random_state=42)"
   ]
  },
  {
   "cell_type": "code",
   "execution_count": 138,
   "id": "b64d4a90",
   "metadata": {},
   "outputs": [],
   "source": [
    "svm.fit(X_train, y_train) # Train the SVM model on the training data X_train and corresponding target values y_train\n",
    "y_pred = svm.predict(X_test) # Use the trained SVM model to make predictions on the test data X_test and store the predictions in y_pred variable\n"
   ]
  },
  {
   "cell_type": "code",
   "execution_count": 139,
   "id": "b37abfde",
   "metadata": {},
   "outputs": [
    {
     "name": "stdout",
     "output_type": "stream",
     "text": [
      "Accuracy: 0.5207968274462788\n"
     ]
    }
   ],
   "source": [
    "# compute the accuracy of the SVM model predictions on the test data\n",
    "accuracy = accuracy_score(y_test, y_pred)\n",
    "\n",
    "# print the accuracy score\n",
    "print(\"Accuracy:\", accuracy)"
   ]
  },
  {
   "cell_type": "code",
   "execution_count": 140,
   "id": "39cd4a2f",
   "metadata": {},
   "outputs": [
    {
     "name": "stdout",
     "output_type": "stream",
     "text": [
      "Confusion Matrix:\n",
      " [[  77    3    8    3    0   25   12   16   51    3    1    2    0    7\n",
      "     0    0    0    0    1    1   10    8    2    0   11    1    6]\n",
      " [   2   55    5    0    0   19    1    4   14    0    1    0    0    0\n",
      "     0    0    1    0    1    1    0    4    0    0    0    0    2]\n",
      " [  12   15   27    6    0   12    1   20   29    2    3    0    1    5\n",
      "     0    0    1    0    2    1    3    5    1    0    1    0    3]\n",
      " [   3    0    7   21    0   22    0   12   12   11    4    0    0    2\n",
      "     0    1    1    0    1    1    2    7    0    0    0    0    0]\n",
      " [   0    1    1    1    1    1    2   30   11    1    0    0    0    0\n",
      "     1    0    0    0    0    0    0    1    1    0    0    0    0]\n",
      " [  28   39   18   13    4  795   11   88  335   16    5    1    2   15\n",
      "     7    4    2    1   13   15    4   51    2    7   12    3    6]\n",
      " [  11    0    1    0    0   14   12    7   30    0    0    0    0    2\n",
      "     0    0    3    0    0    0    0    3    0    0    7    0    0]\n",
      " [  18    8   18    7   43   69    8 1917  200   11    7    4   24   11\n",
      "    37    7    6   12   28    4    8   96   21    8    5    4    5]\n",
      " [  48   15   29   13    7  312   29  214 1755   24    9    0    6   35\n",
      "     2    9   14    2   12   31   11  117    2    3   50    3   21]\n",
      " [   1    0    6   10    0   28    0   23   30   31    0    3    0    2\n",
      "     5    2    1    1    3    0    3    8    2    4    0    1    0]\n",
      " [   5    0    0    7    0    7    0    5   19    2    5    0    0    6\n",
      "     0    0    1    0    0    0    3    6    1    0    0    0    0]\n",
      " [   1    0    0    0    0    4    0    1    0    0    0   21    0    0\n",
      "     1    0    0    0    4    0    0    0    0    0    0    1    0]\n",
      " [   2    0    0    0    1    0    0   28   11    0    1    0    1    0\n",
      "     1    1    0    0    0    0    0    0    0    0    0    1    0]\n",
      " [  16    3    6    4    0   28    3   17   60    4    2    0    0  216\n",
      "     1    0    8    0    1    0    9   12    1    0   30    0    3]\n",
      " [   0    0    0    2    0   11    0   46    8    2    0    0    1    0\n",
      "    73    8    0    0    1    0    0    7    2    2    0    0    0]\n",
      " [   1    1    0    0    1   10    0    3   18    3    0    0    0    1\n",
      "     5    9    0    0    0    1    0    3    0    0    0    0    0]\n",
      " [   2    0    0    0    0    8    1    3   10    0    1    0    0    9\n",
      "     0    1    8    0    0    1    0    2    0    0    9    0    0]\n",
      " [   0    1    0    0    0    3    0   15    1    0    0    0    0    0\n",
      "     1    0    0    3    2    0    0    2    0    4    0    0    0]\n",
      " [   3    1    5    3    1   30    0   38    9    1    1    3    0    0\n",
      "     1    3    0    4   43    2    0    6    0    2    0    1    0]\n",
      " [   3    2    0    0    0   22    0    4   64    1    0    0    0    1\n",
      "     0    1    0    0    1   15    0    6    0    0    1    0    0]\n",
      " [  11    0   12    6    1    4    0   10   20    0    2    0    1   10\n",
      "     0    0    3    0    1    0   50    6    0    0    1    1    0]\n",
      " [  18   10   14    7    7  117   11  229  257   14    8    1    3   25\n",
      "     8    5    5    3    7    3    7  275    1    2   11    1    1]\n",
      " [   5    2    1    0    0    3    0   30    5    3    1    0    0    0\n",
      "     1    0    0    1    3    0    1    4   34    0    0    0    0]\n",
      " [   0    0    0    0    1   10    0   25    2    1    0    0    0    0\n",
      "     4    0    0    4    6    0    0    2    0   26    0    0    0]\n",
      " [  16    1    5    1    1   38   14   13  110    0    4    1    1   39\n",
      "     1    0    5    0    3    2    7   19    0    0   42    0    1]\n",
      " [   1    0    0    0    0    1    0    8    7    0    0    0    0    0\n",
      "     0    0    0    0    1    0    0    1    0    0    1    6    0]\n",
      " [   7    2    5    0    0   18    0    1   29    0    0    0    0    0\n",
      "     1    0    0    0    0    0    0    2    0    0    3    0  129]]\n",
      "\n",
      "Classification Report:\n",
      "               precision    recall  f1-score   support\n",
      "\n",
      "           0       0.26      0.31      0.29       248\n",
      "           1       0.35      0.50      0.41       110\n",
      "           2       0.16      0.18      0.17       150\n",
      "           3       0.20      0.20      0.20       107\n",
      "           4       0.01      0.02      0.02        52\n",
      "           5       0.49      0.53      0.51      1497\n",
      "           6       0.11      0.13      0.12        90\n",
      "           7       0.68      0.74      0.71      2586\n",
      "           8       0.57      0.63      0.60      2773\n",
      "           9       0.24      0.19      0.21       164\n",
      "          10       0.09      0.07      0.08        67\n",
      "          11       0.58      0.64      0.61        33\n",
      "          12       0.03      0.02      0.02        47\n",
      "          13       0.56      0.51      0.53       424\n",
      "          14       0.49      0.45      0.47       163\n",
      "          15       0.18      0.16      0.17        56\n",
      "          16       0.14      0.15      0.14        55\n",
      "          17       0.10      0.09      0.10        32\n",
      "          18       0.32      0.27      0.30       157\n",
      "          19       0.19      0.12      0.15       121\n",
      "          20       0.42      0.36      0.39       139\n",
      "          21       0.42      0.26      0.32      1050\n",
      "          22       0.49      0.36      0.41        94\n",
      "          23       0.45      0.32      0.37        81\n",
      "          24       0.23      0.13      0.17       324\n",
      "          25       0.26      0.23      0.24        26\n",
      "          26       0.73      0.65      0.69       197\n",
      "\n",
      "    accuracy                           0.52     10843\n",
      "   macro avg       0.32      0.31      0.31     10843\n",
      "weighted avg       0.51      0.52      0.51     10843\n",
      "\n"
     ]
    }
   ],
   "source": [
    "# Print the confusion matrix and classification report\n",
    "print(\"Confusion Matrix:\\n\", confusion_matrix(y_test, y_pred))\n",
    "print(\"\\nClassification Report:\\n\", classification_report(y_test, y_pred))"
   ]
  },
  {
   "cell_type": "code",
   "execution_count": 141,
   "id": "cccf493b",
   "metadata": {},
   "outputs": [
    {
     "data": {
      "text/plain": [
       "['04.SVM_ClassifierModel']"
      ]
     },
     "execution_count": 141,
     "metadata": {},
     "output_type": "execute_result"
    }
   ],
   "source": [
    "# Exporting NB Classifier to later use in prediction\n",
    "\n",
    "import joblib\n",
    "joblib.dump(classifier,'04.SVM_ClassifierModel')"
   ]
  },
  {
   "cell_type": "markdown",
   "id": "9fd67441",
   "metadata": {},
   "source": [
    "### Logistic Regression Classifier"
   ]
  },
  {
   "cell_type": "code",
   "execution_count": 142,
   "id": "78c64e38",
   "metadata": {},
   "outputs": [],
   "source": [
    "from sklearn.linear_model import LogisticRegression\n",
    "\n",
    "# Create a Logistic Regression Classifier object\n",
    "lr = LogisticRegression(solver='liblinear', multi_class='auto', random_state=42)"
   ]
  },
  {
   "cell_type": "code",
   "execution_count": 143,
   "id": "1eaeabbc",
   "metadata": {},
   "outputs": [
    {
     "name": "stdout",
     "output_type": "stream",
     "text": [
      "Accuracy: 0.5386885548279996\n"
     ]
    },
    {
     "name": "stderr",
     "output_type": "stream",
     "text": [
      "C:\\Users\\sabbo\\AppData\\Local\\Programs\\Python\\Python311\\Lib\\site-packages\\sklearn\\linear_model\\_logistic.py:458: ConvergenceWarning: lbfgs failed to converge (status=1):\n",
      "STOP: TOTAL NO. of ITERATIONS REACHED LIMIT.\n",
      "\n",
      "Increase the number of iterations (max_iter) or scale the data as shown in:\n",
      "    https://scikit-learn.org/stable/modules/preprocessing.html\n",
      "Please also refer to the documentation for alternative solver options:\n",
      "    https://scikit-learn.org/stable/modules/linear_model.html#logistic-regression\n",
      "  n_iter_i = _check_optimize_result(\n"
     ]
    }
   ],
   "source": [
    "# create a new instance of the logistic regression classifier\n",
    "lr = LogisticRegression()\n",
    "\n",
    "# train the logistic regression model on the training data X_train and corresponding target values y_train\n",
    "lr.fit(X_train, y_train)\n",
    "\n",
    "# use the trained logistic regression model to make predictions on the test data X_test\n",
    "y_pred = lr.predict(X_test)\n",
    "\n",
    "# compute the accuracy of the logistic regression model predictions on the test data\n",
    "accuracy = accuracy_score(y_test, y_pred)\n",
    "\n",
    "# print the accuracy score\n",
    "print(\"Accuracy:\", accuracy)"
   ]
  },
  {
   "cell_type": "code",
   "execution_count": 144,
   "id": "2da00924",
   "metadata": {},
   "outputs": [
    {
     "name": "stdout",
     "output_type": "stream",
     "text": [
      "Confusion Matrix:\n",
      " [[  63    4   11    3    0   28   10   20   55    3    2    1    0   11\n",
      "     0    1    1    0    0    0    6   10    2    1   12    0    4]\n",
      " [   1   48    2    0    0   25    0    2   12    0    1    0    0    2\n",
      "     0    0    1    0    1    0    1   11    0    0    1    0    2]\n",
      " [  10   12   27   10    0    6    0   21   36    3    1    0    0    4\n",
      "     0    1    0    0    3    0    3    4    3    0    2    0    4]\n",
      " [   3    0    5   17    0   25    0   11   16   11    3    0    0    2\n",
      "     1    2    0    0    2    0    3    6    0    0    0    0    0]\n",
      " [   1    0    0    1    0    3    2   27   11    1    0    0    1    0\n",
      "     2    0    0    0    0    0    0    1    1    0    0    0    1]\n",
      " [  23   10   11    8    0  790   12   86  377   23    5    0    1   26\n",
      "     4    2    3    0   13   13    3   67    1    5   11    0    3]\n",
      " [   8    0    0    0    0   12   12    9   33    1    0    0    0    2\n",
      "     0    0    3    0    1    1    0    0    1    0    7    0    0]\n",
      " [  19    3   11    2    8   55    7 1977  212   13    5    2   11   15\n",
      "    35    5    3    8   26    5    4  127   17    4    7    2    3]\n",
      " [  40   10   12    6    5  245   21  218 1854   21    7    0    2   35\n",
      "     3    3    8    0   13   34   10  131    3    5   64    2   21]\n",
      " [   2    0    3   11    0   28    0   28   31   23    1    2    0    1\n",
      "     4    3    0    1    9    1    1   10    0    4    1    0    0]\n",
      " [   6    0    1    8    0    6    0    5   16    1    6    0    0    6\n",
      "     0    0    1    0    0    0    5    5    0    0    1    0    0]\n",
      " [   0    0    1    0    0    1    0    2    0    0    0   22    0    0\n",
      "     1    1    0    0    4    0    0    0    0    0    0    0    1]\n",
      " [   0    0    1    0    0    0    0   28   15    0    1    0    0    0\n",
      "     0    0    0    0    0    1    0    0    0    0    0    1    0]\n",
      " [  18    0    2    1    0   22    3   16   63    1    3    0    0  222\n",
      "     1    0    6    0    0    2    8   16    0    2   35    0    3]\n",
      " [   0    0    0    2    1   12    0   50    6    4    0    0    0    1\n",
      "    71    5    0    0    1    0    0    6    1    3    0    0    0]\n",
      " [   1    0    0    0    0   11    0    3   21    0    0    0    0    0\n",
      "     5    9    0    0    0    1    0    5    0    0    0    0    0]\n",
      " [   1    0    0    1    0    6    4    4   13    0    1    0    0   10\n",
      "     0    0    4    0    0    0    0    2    0    0    8    0    1]\n",
      " [   0    0    0    0    0    2    0   18    3    0    0    0    0    0\n",
      "     1    0    0    1    3    0    0    2    0    2    0    0    0]\n",
      " [   0    1    4    2    0   22    0   38    9    2    0    1    0    2\n",
      "     4    1    0    1   51    0    0   12    1    3    3    0    0]\n",
      " [   2    1    0    0    0   20    0    4   70    1    0    0    0    1\n",
      "     1    1    0    0    1   12    0    5    0    1    1    0    0]\n",
      " [  12    0    5    3    0    4    0   16   19    0    0    0    0   13\n",
      "     0    0    4    0    1    0   47   14    0    0    1    0    0]\n",
      " [  10    5    9    6    2   98    3  226  279    8    4    0    1   28\n",
      "     4    2    2    1    5    7    7  323    0    3   15    0    2]\n",
      " [   6    1    2    0    0    4    0   26    5    2    0    0    0    0\n",
      "     0    0    0    1    0    0    1    8   36    0    2    0    0]\n",
      " [   1    0    1    0    0    5    0   30    2    3    0    0    0    0\n",
      "     3    0    0    3    5    0    0    2    1   25    0    0    0]\n",
      " [   9    2    2    0    0   36    8   11  112    1    1    0    0   41\n",
      "     1    0    2    0    3    3    6   24    1    0   60    0    1]\n",
      " [   1    0    0    0    0    1    0    7    4    0    0    0    1    0\n",
      "     0    0    0    0    1    1    0    3    0    0    2    5    0]\n",
      " [   5    0    2    0    0   17    0    4   28    1    0    0    0    0\n",
      "     0    0    0    0    0    0    0    1    0    1    2    0  136]]\n",
      "\n",
      "Classification Report:\n",
      "               precision    recall  f1-score   support\n",
      "\n",
      "           0       0.26      0.25      0.26       248\n",
      "           1       0.49      0.44      0.46       110\n",
      "           2       0.24      0.18      0.21       150\n",
      "           3       0.21      0.16      0.18       107\n",
      "           4       0.00      0.00      0.00        52\n",
      "           5       0.53      0.53      0.53      1497\n",
      "           6       0.15      0.13      0.14        90\n",
      "           7       0.68      0.76      0.72      2586\n",
      "           8       0.56      0.67      0.61      2773\n",
      "           9       0.19      0.14      0.16       164\n",
      "          10       0.15      0.09      0.11        67\n",
      "          11       0.79      0.67      0.72        33\n",
      "          12       0.00      0.00      0.00        47\n",
      "          13       0.53      0.52      0.52       424\n",
      "          14       0.50      0.44      0.47       163\n",
      "          15       0.25      0.16      0.20        56\n",
      "          16       0.11      0.07      0.09        55\n",
      "          17       0.06      0.03      0.04        32\n",
      "          18       0.36      0.32      0.34       157\n",
      "          19       0.15      0.10      0.12       121\n",
      "          20       0.45      0.34      0.39       139\n",
      "          21       0.41      0.31      0.35      1050\n",
      "          22       0.53      0.38      0.44        94\n",
      "          23       0.42      0.31      0.36        81\n",
      "          24       0.26      0.19      0.21       324\n",
      "          25       0.50      0.19      0.28        26\n",
      "          26       0.75      0.69      0.72       197\n",
      "\n",
      "    accuracy                           0.54     10843\n",
      "   macro avg       0.35      0.30      0.32     10843\n",
      "weighted avg       0.52      0.54      0.52     10843\n",
      "\n"
     ]
    }
   ],
   "source": [
    "# Print the confusion matrix and classification report\n",
    "print(\"Confusion Matrix:\\n\", confusion_matrix(y_test, y_pred))\n",
    "print(\"\\nClassification Report:\\n\", classification_report(y_test, y_pred))"
   ]
  },
  {
   "cell_type": "code",
   "execution_count": 145,
   "id": "6d5dbb3b",
   "metadata": {},
   "outputs": [
    {
     "data": {
      "text/plain": [
       "['05.LRC_ClassifierModel']"
      ]
     },
     "execution_count": 145,
     "metadata": {},
     "output_type": "execute_result"
    }
   ],
   "source": [
    "# Exporting NB Classifier to later use in prediction\n",
    "\n",
    "import joblib\n",
    "joblib.dump(classifier,'05.LRC_ClassifierModel')"
   ]
  }
 ],
 "metadata": {
  "kernelspec": {
   "display_name": "Python 3 (ipykernel)",
   "language": "python",
   "name": "python3"
  },
  "language_info": {
   "codemirror_mode": {
    "name": "ipython",
    "version": 3
   },
   "file_extension": ".py",
   "mimetype": "text/x-python",
   "name": "python",
   "nbconvert_exporter": "python",
   "pygments_lexer": "ipython3",
   "version": "3.11.1"
  }
 },
 "nbformat": 4,
 "nbformat_minor": 5
}
