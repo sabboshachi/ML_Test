{
 "cells": [
  {
   "cell_type": "markdown",
   "id": "49457c25",
   "metadata": {},
   "source": [
    "# CHAPTER 01 : INTRODUCTION"
   ]
  },
  {
   "cell_type": "markdown",
   "id": "66eb441d",
   "metadata": {},
   "source": [
    "In this chapter, we're delving into the basics of Data Science using a practical example. Imagine we have a bunch of user information like names, IDs, interests, friends, and salary. The goal is to apply Data Science techniques to figure out interesting connections and patterns in this data, ultimately creating useful outputs. It's like detective work but with numbers and information!"
   ]
  },
  {
   "cell_type": "code",
   "execution_count": 1,
   "id": "1c08d233",
   "metadata": {},
   "outputs": [],
   "source": [
    "# User list with their ID and Name\n",
    "\n",
    "users = [\n",
    "             { \"id\": 0, \"name\": \"Hero\" },\n",
    "             { \"id\": 1, \"name\": \"Dunn\" },\n",
    "             { \"id\": 2, \"name\": \"Sue\" },\n",
    "             { \"id\": 3, \"name\": \"Chi\" },\n",
    "             { \"id\": 4, \"name\": \"Thor\" },\n",
    "             { \"id\": 5, \"name\": \"Clive\" },\n",
    "             { \"id\": 6, \"name\": \"Hicks\" },\n",
    "             { \"id\": 7, \"name\": \"Devin\" },\n",
    "             { \"id\": 8, \"name\": \"Kate\" },\n",
    "             { \"id\": 9, \"name\": \"Klein\" }\n",
    "        ]"
   ]
  },
  {
   "cell_type": "code",
   "execution_count": 2,
   "id": "d9462c4e",
   "metadata": {},
   "outputs": [],
   "source": [
    "# Friendship pairs among the users\n",
    "\n",
    "friendship_pairs = [(0, 1), (0, 2), (1, 2), (1, 3), \n",
    "                    (2, 3), (3, 4), (4, 5), (5, 6), \n",
    "                    (5, 7), (6, 8), (7, 8), (8, 9)]"
   ]
  },
  {
   "attachments": {
    "Pic01.jpg": {
     "image/jpeg": "[encoded data removed]"
    }
   },
   "cell_type": "markdown",
   "id": "59a7c1c3",
   "metadata": {},
   "source": [
    "![Pic01.jpg](attachment:Pic01.jpg)"
   ]
  },
  {
   "cell_type": "markdown",
   "id": "5a2e2154",
   "metadata": {},
   "source": [
    "<div align=\"center\"><b>Fig: Friendship Pair Network</b></div>"
   ]
  },
  {
   "cell_type": "markdown",
   "id": "a543469b",
   "metadata": {},
   "source": [
    "## Finding Key Connectors"
   ]
  },
  {
   "cell_type": "markdown",
   "id": "97fe0745",
   "metadata": {},
   "source": [
    "Having friendships represented as a list of pairs in such a way is not the easiest way to\n",
    "work with them. To find all the friendships for user 1, you have to iterate\n",
    "over every pair looking for pairs containing 1. But if the lsit of pairs is long then it will take a long time.\n",
    "<br>\n",
    "So, instead we can creat a \"dict\" where the keys will be used as \"user ids\" and the values are lists of friends ids.\n"
   ]
  },
  {
   "cell_type": "code",
   "execution_count": 3,
   "id": "10ec87e1",
   "metadata": {},
   "outputs": [],
   "source": [
    "# Initialize the dict with an empty list for each user id:\n",
    "\n",
    "friendships = {user[\"id\"]: [] for user in users}"
   ]
  },
  {
   "cell_type": "code",
   "execution_count": 4,
   "id": "585c84ad",
   "metadata": {},
   "outputs": [
    {
     "data": {
      "text/plain": [
       "{0: [], 1: [], 2: [], 3: [], 4: [], 5: [], 6: [], 7: [], 8: [], 9: []}"
      ]
     },
     "execution_count": 4,
     "metadata": {},
     "output_type": "execute_result"
    }
   ],
   "source": [
    "friendships"
   ]
  },
  {
   "cell_type": "code",
   "execution_count": 5,
   "id": "8b7746a8",
   "metadata": {},
   "outputs": [],
   "source": [
    "# And loop over the friendship pairs to populate it:\n",
    "\n",
    "for i, j in friendship_pairs:\n",
    "    friendships[i].append(j) # Add j as a friend of user i\n",
    "    friendships[j].append(i) # Add i as a friend of user j"
   ]
  },
  {
   "cell_type": "code",
   "execution_count": 6,
   "id": "c5273870",
   "metadata": {},
   "outputs": [
    {
     "data": {
      "text/plain": [
       "{0: [1, 2],\n",
       " 1: [0, 2, 3],\n",
       " 2: [0, 1, 3],\n",
       " 3: [1, 2, 4],\n",
       " 4: [3, 5],\n",
       " 5: [4, 6, 7],\n",
       " 6: [5, 8],\n",
       " 7: [5, 8],\n",
       " 8: [6, 7, 9],\n",
       " 9: [8]}"
      ]
     },
     "execution_count": 6,
     "metadata": {},
     "output_type": "execute_result"
    }
   ],
   "source": [
    "friendships"
   ]
  },
  {
   "cell_type": "code",
   "execution_count": 7,
   "id": "5c255c9d",
   "metadata": {},
   "outputs": [
    {
     "data": {
      "text/plain": [
       "[4, 6, 7]"
      ]
     },
     "execution_count": 7,
     "metadata": {},
     "output_type": "execute_result"
    }
   ],
   "source": [
    "friendships[5]"
   ]
  },
  {
   "cell_type": "markdown",
   "id": "f9718e70",
   "metadata": {},
   "source": [
    "Now as we have the friendships in a dict we can ask different questions from it, like “What’s the average number of connections?”\n"
   ]
  },
  {
   "cell_type": "markdown",
   "id": "e6b02122",
   "metadata": {},
   "source": [
    "First we find the total number of connections, by summing up the lengths of all the\n",
    "friends lists:"
   ]
  },
  {
   "cell_type": "code",
   "execution_count": 8,
   "id": "7eddf766",
   "metadata": {},
   "outputs": [],
   "source": [
    "def number_of_friends(user):\n",
    "    '''How many friends dose_user_have'''\n",
    "    \n",
    "    user_id = user[\"id\"]\n",
    "    friend_ids = friendships[user_id]\n",
    "    return len(friend_ids)"
   ]
  },
  {
   "cell_type": "code",
   "execution_count": 9,
   "id": "3d18fcd1",
   "metadata": {},
   "outputs": [
    {
     "data": {
      "text/plain": [
       "24"
      ]
     },
     "execution_count": 9,
     "metadata": {},
     "output_type": "execute_result"
    }
   ],
   "source": [
    "total_connections = sum(number_of_friends(user) for user in users)\n",
    "total_connections"
   ]
  },
  {
   "cell_type": "markdown",
   "id": "0a862342",
   "metadata": {},
   "source": [
    "Now we just divide by the number of users:"
   ]
  },
  {
   "cell_type": "code",
   "execution_count": 10,
   "id": "d3882fba",
   "metadata": {},
   "outputs": [],
   "source": [
    "num_users = len(users) # length of the users list\n",
    "avg_connections = total_connections / num_users"
   ]
  },
  {
   "cell_type": "code",
   "execution_count": 11,
   "id": "52314dce",
   "metadata": {},
   "outputs": [
    {
     "data": {
      "text/plain": [
       "2.4"
      ]
     },
     "execution_count": 11,
     "metadata": {},
     "output_type": "execute_result"
    }
   ],
   "source": [
    "avg_connections"
   ]
  },
  {
   "cell_type": "markdown",
   "id": "1e6bc41a",
   "metadata": {},
   "source": [
    "We also can sort them from “most friends” to “least friends” list"
   ]
  },
  {
   "cell_type": "code",
   "execution_count": 12,
   "id": "fefdeec6",
   "metadata": {},
   "outputs": [],
   "source": [
    "# Create a list (user_id, number_of_friends).\n",
    "num_friends_by_id = [(user[\"id\"], number_of_friends(user)) for user in users]\n"
   ]
  },
  {
   "cell_type": "code",
   "execution_count": 13,
   "id": "a646069a",
   "metadata": {},
   "outputs": [
    {
     "data": {
      "text/plain": [
       "[(0, 2),\n",
       " (1, 3),\n",
       " (2, 3),\n",
       " (3, 3),\n",
       " (4, 2),\n",
       " (5, 3),\n",
       " (6, 2),\n",
       " (7, 2),\n",
       " (8, 3),\n",
       " (9, 1)]"
      ]
     },
     "execution_count": 13,
     "metadata": {},
     "output_type": "execute_result"
    }
   ],
   "source": [
    "num_friends_by_id"
   ]
  },
  {
   "cell_type": "code",
   "execution_count": 14,
   "id": "5eb0b6a6",
   "metadata": {},
   "outputs": [],
   "source": [
    "num_friends_by_id.sort(key=lambda id_and_friends: id_and_friends[1], reverse = True)"
   ]
  },
  {
   "cell_type": "code",
   "execution_count": 15,
   "id": "399f7f26",
   "metadata": {},
   "outputs": [
    {
     "data": {
      "text/plain": [
       "[(1, 3),\n",
       " (2, 3),\n",
       " (3, 3),\n",
       " (5, 3),\n",
       " (8, 3),\n",
       " (0, 2),\n",
       " (4, 2),\n",
       " (6, 2),\n",
       " (7, 2),\n",
       " (9, 1)]"
      ]
     },
     "execution_count": 15,
     "metadata": {},
     "output_type": "execute_result"
    }
   ],
   "source": [
    "num_friends_by_id"
   ]
  },
  {
   "attachments": {
    "photo_2023-11-07_01-38-58-2.jpg": {
     "image/jpeg": "[encoded data removed]"
    }
   },
   "cell_type": "markdown",
   "id": "e15f4e55",
   "metadata": {},
   "source": [
    "![photo_2023-11-07_01-38-58-2.jpg](attachment:photo_2023-11-07_01-38-58-2.jpg)"
   ]
  },
  {
   "cell_type": "markdown",
   "id": "c6b02136",
   "metadata": {},
   "source": [
    "<div align=\"center\"><b>Fig: The Network sized by degree</b></div>"
   ]
  },
  {
   "cell_type": "markdown",
   "id": "1b215c8b",
   "metadata": {},
   "source": [
    "Here, \n",
    "\n",
    "```python\n",
    "            sorted(num_friends_by_id, key=lambda item: item[1], reverse=True)\n",
    "```\n",
    "\n",
    "\n",
    "In Python, the `key` parameter in functions like `sorted()`, `min()`, and `max()` is used to specify a function that calculates a value, known as a \"key,\" for each item in the iterable. The purpose of the `key` function is to determine the basis for sorting, filtering, or comparing items in the iterable.\n",
    "\n",
    "When you use `key` with a lambda function, as in `key=lambda item: ...`, it means that you're defining a custom function on the fly using a lambda expression. The lambda function takes an item from the iterable, processes it, and returns a value that will be used for sorting or comparison.\n",
    "\n",
    "For example, in the context of the `sorted()` function, when you provide a `key` function like `key=lambda item: item[1]`, it means that you want to sort the iterable based on the values returned by this lambda function. The lambda function `item[1]` extracts the second element of each item in the iterable, and this value is used as the basis for sorting the items.\n",
    "\n",
    "Here's a breakdown of how it works:\n",
    "\n",
    "- The `sorted()` function iterates through the items in the iterable (e.g., a list of tuples).\n",
    "- For each item, it calls the provided `key` function (in this case, the lambda function), passing the item as an argument.\n",
    "- The lambda function processes the item and returns a value that will be used for comparison.\n",
    "- The `sorted()` function then performs the sorting based on these computed values and the specified sorting order (ascending or descending).\n",
    "\n",
    "This allows you to sort or manipulate items in the iterable based on specific criteria without altering the original data."
   ]
  },
  {
   "cell_type": "markdown",
   "id": "7d5faffe",
   "metadata": {},
   "source": [
    "## Data Scientists You May Know"
   ]
  },
  {
   "cell_type": "markdown",
   "id": "3bd54320",
   "metadata": {},
   "source": [
    "To make a \"People you may know\" suggester we need to find the connection between users. Like a user might know the firends of\n",
    "friends. Such calculations can be made easily by following,"
   ]
  },
  {
   "cell_type": "code",
   "execution_count": 16,
   "id": "a30abdfb",
   "metadata": {},
   "outputs": [
    {
     "name": "stdout",
     "output_type": "stream",
     "text": [
      "1\n",
      "2\n"
     ]
    }
   ],
   "source": [
    "# Find out who are the friends of User 0\n",
    "\n",
    "for friend_id in friendships[0]:\n",
    "    print(friend_id)"
   ]
  },
  {
   "cell_type": "code",
   "execution_count": 17,
   "id": "4c260a89",
   "metadata": {},
   "outputs": [
    {
     "name": "stdout",
     "output_type": "stream",
     "text": [
      "0\n",
      "2\n",
      "3\n"
     ]
    }
   ],
   "source": [
    "# As we get user 1 and user 2 are two friends of user 0\n",
    "# Now we will find out who are the friends of user 1 and user 2\n",
    "\n",
    "# Friends of user 1\n",
    "\n",
    "for foaf_id in friendships[1]:\n",
    "    print(foaf_id)"
   ]
  },
  {
   "cell_type": "code",
   "execution_count": 18,
   "id": "3e72c78a",
   "metadata": {},
   "outputs": [
    {
     "name": "stdout",
     "output_type": "stream",
     "text": [
      "0\n",
      "1\n",
      "3\n"
     ]
    }
   ],
   "source": [
    "# Friends of user 2\n",
    "\n",
    "for foaf_id in friendships[2]:\n",
    "    print(foaf_id)"
   ]
  },
  {
   "cell_type": "code",
   "execution_count": 19,
   "id": "819112b4",
   "metadata": {},
   "outputs": [],
   "source": [
    "# Here we combined the whole code inside a single function to run a loop\n",
    "\n",
    "def foaf_ids_bad(user):\n",
    "    return [foaf_id\n",
    "           for friend_id in friendships[user[\"id\"]]\n",
    "           for foaf_id in friendships[friend_id]]"
   ]
  },
  {
   "cell_type": "code",
   "execution_count": 20,
   "id": "3df69fed",
   "metadata": {
    "scrolled": true
   },
   "outputs": [
    {
     "data": {
      "text/plain": [
       "{'id': 0, 'name': 'Hero'}"
      ]
     },
     "execution_count": 20,
     "metadata": {},
     "output_type": "execute_result"
    }
   ],
   "source": [
    "users[0]"
   ]
  },
  {
   "cell_type": "code",
   "execution_count": 21,
   "id": "aa6635d0",
   "metadata": {},
   "outputs": [
    {
     "data": {
      "text/plain": [
       "[0, 2, 3, 0, 1, 3]"
      ]
     },
     "execution_count": 21,
     "metadata": {},
     "output_type": "execute_result"
    }
   ],
   "source": [
    "foaf_ids_bad(users[0]) # It represents the friends of friends of user 0"
   ]
  },
  {
   "cell_type": "markdown",
   "id": "196aa5f9",
   "metadata": {},
   "source": [
    "It includes user 0 twice, since \"Hero\" (user 0) is indeed friends with both of his\n",
    "friends. It includes user 1 and user 2, although they are both friends with \"Hero\"\n",
    "already. And it includes user 3 twice, as \"\"Chi\" is reachable through two\n",
    "different friends:"
   ]
  },
  {
   "cell_type": "code",
   "execution_count": 22,
   "id": "afc2e7e0",
   "metadata": {},
   "outputs": [
    {
     "name": "stdout",
     "output_type": "stream",
     "text": [
      "[1, 2]\n",
      "[0, 2, 3]\n",
      "[0, 1, 3]\n"
     ]
    }
   ],
   "source": [
    "print(friendships[0])\n",
    "print(friendships[1])\n",
    "print(friendships[2]) "
   ]
  },
  {
   "cell_type": "markdown",
   "id": "fb46e163",
   "metadata": {},
   "source": [
    "We should exclude the people already known to the user;"
   ]
  },
  {
   "cell_type": "code",
   "execution_count": 23,
   "id": "64b6bca9",
   "metadata": {},
   "outputs": [],
   "source": [
    "from collections import Counter"
   ]
  },
  {
   "cell_type": "markdown",
   "id": "ce9629a7",
   "metadata": {},
   "source": [
    "The line of code 'from collections import Counter' is a Python import statement. It is used to bring the 'Counter' class from the 'collections' module into your Python script or program.\n",
    "\n",
    "Counter is a powerful and convenient tool in Python for counting the occurrences of elements in a collection, such as a list. It creates a dictionary-like object where keys are the elements in the collection, and values are their respective counts.\n",
    "\n",
    "example:\n",
    "\n",
    "```python\n",
    "        from collections import Counter\n",
    "\n",
    "        my_list = [1, 2, 3, 1, 2, 1, 4, 5, 4, 3, 6]\n",
    "\n",
    "        # Using Counter to count the occurrences of elements in the list\n",
    "        my_counter = Counter(my_list)\n",
    "\n",
    "        # Accessing the counts\n",
    "        print(my_counter)\n",
    "        # Output: Counter({1: 3, 2: 2, 3: 2, 4: 2, 5: 1, 6: 1})\n",
    "\n",
    "```\n",
    "\n",
    "In this example, 'Counter' is used to count the occurrences of each element in the list 'my_list'. The resulting 'Counter' object shows the counts in a dictionary-like format.\n",
    "\n",
    "This can be useful in various scenarios, such as finding the most common elements in a collection or checking for the frequency distribution of elements."
   ]
  },
  {
   "cell_type": "code",
   "execution_count": 24,
   "id": "013a4c17",
   "metadata": {},
   "outputs": [
    {
     "name": "stdout",
     "output_type": "stream",
     "text": [
      "Counter({0: 2, 5: 1})\n"
     ]
    }
   ],
   "source": [
    "def friends_of_friends(user):\n",
    "    user_id = user[\"id\"]\n",
    "    return Counter(\n",
    "    foaf_id\n",
    "    for friend_id in friendships[user_id] # For each of my friends\n",
    "    for foaf_id in friendships[friend_id] # find their friends \n",
    "    if foaf_id != user_id # who aren't me\n",
    "    and foaf_id not in friendships[user_id]) # and aren't my friends\n",
    "\n",
    "print(friends_of_friends(users[3]))"
   ]
  },
  {
   "cell_type": "markdown",
   "id": "f32d43d8",
   "metadata": {},
   "source": [
    "This correctly tells \"Chi\" (user 3) that she has two mutual friends (user 1 & user 2) with \"Hero\" (user 0) but only one mutual friend (user 4) with \"Clive\" (user 5).\n"
   ]
  },
  {
   "cell_type": "markdown",
   "id": "7ffcf40e",
   "metadata": {},
   "source": [
    "## Substantive Expertise"
   ]
  },
  {
   "cell_type": "markdown",
   "id": "7d5edabc",
   "metadata": {},
   "source": [
    "Here the interests of the users are given with their users id in a touple."
   ]
  },
  {
   "cell_type": "code",
   "execution_count": 25,
   "id": "bd381dd4",
   "metadata": {},
   "outputs": [],
   "source": [
    "interests = [\n",
    "        (0, \"Hadoop\"), (0, \"Big Data\"), (0, \"HBase\"), (0, \"Java\"),(0, \"Spark\"), (0, \"Storm\"), (0, \"Cassandra\"),\n",
    "        (1, \"NoSQL\"), (1, \"MongoDB\"), (1, \"Cassandra\"), (1, \"HBase\"),(1, \"Postgres\"),\n",
    "        (2, \"Python\"), (2, \"scikit-learn\"), (2, \"scipy\"),(2, \"numpy\"), (2, \"statsmodels\"), (2, \"pandas\"),\n",
    "        (3, \"R\"), (3, \"Python\"),(3, \"statistics\"), (3, \"regression\"), (3, \"probability\"),    \n",
    "        (4, \"machine learning\"), (4, \"regression\"), (4, \"decision trees\"),(4, \"libsvm\"),\n",
    "        (5, \"Python\"), (5, \"R\"), (5, \"Java\"), (5, \"C++\"),(5, \"Haskell\"), (5, \"programming languages\"),\n",
    "        (6, \"statistics\"),(6, \"probability\"), (6, \"mathematics\"), (6, \"theory\"),\n",
    "        (7, \"machine learning\"), (7, \"scikit-learn\"), (7, \"Mahout\"),(7, \"neural networks\"),\n",
    "        (8, \"neural networks\"), (8, \"deep learning\"),(8, \"Big Data\"), (8, \"artificial intelligence\"),\n",
    "        (9, \"Hadoop\"),(9, \"Java\"), (9, \"MapReduce\"), (9, \"Big Data\")\n",
    "        ]\n"
   ]
  },
  {
   "cell_type": "markdown",
   "id": "8087e61e",
   "metadata": {},
   "source": [
    "Function that finds users with a certain interest:"
   ]
  },
  {
   "cell_type": "code",
   "execution_count": 23,
   "id": "46c7ea43",
   "metadata": {},
   "outputs": [],
   "source": [
    "def data_scientists_who_like(target_interest):\n",
    "    \"\"\"Find the ids of all users who like the target interest\"\"\"\n",
    "    return [user_id\n",
    "           for user_id, user_interest in interests\n",
    "           if user_interest == targeet_interest]"
   ]
  },
  {
   "cell_type": "markdown",
   "id": "6b4b14d5",
   "metadata": {},
   "source": [
    "This works, but it has to examine the whole list of interests for every\n",
    "search. If we have a lot of users and interests (or if we just want to do a lot\n",
    "of searches), we’re probably better off building an index from interests to\n",
    "users:"
   ]
  },
  {
   "cell_type": "code",
   "execution_count": 24,
   "id": "7e52db1b",
   "metadata": {},
   "outputs": [],
   "source": [
    "from collections import defaultdict"
   ]
  },
  {
   "cell_type": "code",
   "execution_count": 26,
   "id": "46118b1c",
   "metadata": {},
   "outputs": [],
   "source": [
    "# Keys are interests, values are lists of users_ids with that interest\n",
    "\n",
    "user_ids_by_interest = defaultdict(list)\n",
    "\n",
    "for user_id, interest in interests:\n",
    "    user_ids_by_interest[interest].append(user_id)"
   ]
  },
  {
   "cell_type": "markdown",
   "id": "661624ee",
   "metadata": {},
   "source": [
    "And another from users to interests:\n"
   ]
  },
  {
   "cell_type": "code",
   "execution_count": 27,
   "id": "0666255f",
   "metadata": {},
   "outputs": [],
   "source": [
    "# Keys are user_ids, values are lists of interests for that user_id.\n",
    "interests_by_user_id = defaultdict(list)\n",
    "\n",
    "for user_id, interest in interests:\n",
    "    interests_by_user_id[user_id].append(interest)# "
   ]
  },
  {
   "cell_type": "markdown",
   "id": "50da9f70",
   "metadata": {},
   "source": [
    "Now it’s easy to find who has the most interests in common with a given\n",
    "user:\n",
    "- Iterate over the user’s interests.\n",
    "- For each interest, iterate over the other users with that interest.\n",
    "- Keep count of how many times we see each other user."
   ]
  },
  {
   "cell_type": "code",
   "execution_count": 28,
   "id": "8e508664",
   "metadata": {},
   "outputs": [],
   "source": [
    "def most_common_interests_with(user):\n",
    "    return Counter(\n",
    "        interested_user_id\n",
    "        for interest in interests_by_user_id[user[\"id\"]]\n",
    "        for interested_user_id in user_ids_by_interest[interest]\n",
    "        if interested_user_id != user[\"id\"]\n",
    "    )\n"
   ]
  },
  {
   "cell_type": "markdown",
   "id": "7b9d50d3",
   "metadata": {},
   "source": [
    "### Salaries and Experience"
   ]
  },
  {
   "cell_type": "code",
   "execution_count": 29,
   "id": "77ecd54e",
   "metadata": {},
   "outputs": [],
   "source": [
    "salaries_and_tenures = [(83000, 8.7), (88000, 8.1),\n",
    "                        (48000, 0.7), (76000, 6),\n",
    "                        (69000, 6.5), (76000, 7.5),\n",
    "                        (60000, 2.5), (83000, 10),\n",
    "                        (48000, 1.9), (63000, 4.2)]\n"
   ]
  },
  {
   "attachments": {
    "graph.jpg": {
     "image/jpeg": "[encoded data removed]"
    }
   },
   "cell_type": "markdown",
   "id": "8078aac3",
   "metadata": {},
   "source": [
    "![graph.jpg](attachment:graph.jpg)"
   ]
  },
  {
   "cell_type": "markdown",
   "id": "58312247",
   "metadata": {},
   "source": [
    "It seems clear that people with more experience tend to earn more. Our first idea is to look at the average salary for each tenure."
   ]
  },
  {
   "cell_type": "code",
   "execution_count": 30,
   "id": "a0dff29a",
   "metadata": {},
   "outputs": [],
   "source": [
    "# Keys are years, values are lists of the salaries of each tenure\n",
    "salary_by_tenure = defaultdict(list)\n",
    "\n",
    "for salary, tenure in salaries_and_tenures:\n",
    "    salary_by_tenure[tenure].append(salary)\n",
    "    \n",
    "# Keys are years, each value is average salary for that tenure.\n",
    "average_salary_by_tenure = {\n",
    "    tenure: sum(salaries) / len(salaries)\n",
    "    for tenure, salaries in salary_by_tenure.items()\n",
    "}"
   ]
  },
  {
   "cell_type": "code",
   "execution_count": 31,
   "id": "91f51002",
   "metadata": {},
   "outputs": [
    {
     "data": {
      "text/plain": [
       "{8.7: 83000.0,\n",
       " 8.1: 88000.0,\n",
       " 0.7: 48000.0,\n",
       " 6: 76000.0,\n",
       " 6.5: 69000.0,\n",
       " 7.5: 76000.0,\n",
       " 2.5: 60000.0,\n",
       " 10: 83000.0,\n",
       " 1.9: 48000.0,\n",
       " 4.2: 63000.0}"
      ]
     },
     "execution_count": 31,
     "metadata": {},
     "output_type": "execute_result"
    }
   ],
   "source": [
    "average_salary_by_tenure"
   ]
  },
  {
   "cell_type": "markdown",
   "id": "81160a18",
   "metadata": {},
   "source": [
    "It might be more helpful to bucket the tenures:\n"
   ]
  },
  {
   "cell_type": "code",
   "execution_count": 34,
   "id": "396a8e83",
   "metadata": {},
   "outputs": [],
   "source": [
    "def tenure_bucket(tenure):\n",
    "    if tenure < 2:\n",
    "        return \"less than two\"\n",
    "    elif tenure < 5:\n",
    "        return \"between two and five\"\n",
    "    else:\n",
    "        return \"more than five\"\n"
   ]
  },
  {
   "cell_type": "markdown",
   "id": "6278ca03",
   "metadata": {},
   "source": [
    "Then we can group together the salaries corresponding to each bucket:\n"
   ]
  },
  {
   "cell_type": "code",
   "execution_count": 35,
   "id": "50d69217",
   "metadata": {},
   "outputs": [],
   "source": [
    "# Keys are tenure buckets, values are lists of salaries for that bucket.\n",
    "salary_by_tenure_bucket = defaultdict(list)\n",
    "\n",
    "for salary, tenure in salaries_and_tenures:\n",
    "    bucket = tenure_bucket(tenure)\n",
    "    salary_by_tenure_bucket[bucket].append(salary)"
   ]
  },
  {
   "cell_type": "markdown",
   "id": "c9f89355",
   "metadata": {},
   "source": [
    "And finally compute the average salary for each group:"
   ]
  },
  {
   "cell_type": "code",
   "execution_count": 36,
   "id": "784c844f",
   "metadata": {},
   "outputs": [],
   "source": [
    "# Keys are tenure buckets, values are average salary for that bucket.\n",
    "average_salary_by_bucket = {\n",
    "    tenure_bucket: sum(salaries) / len(salaries)\n",
    "    for tenure_bucket, salaries in salary_by_tenure_bucket.items()\n",
    "}\n"
   ]
  },
  {
   "cell_type": "code",
   "execution_count": 37,
   "id": "478e0953",
   "metadata": {},
   "outputs": [
    {
     "data": {
      "text/plain": [
       "{'more than five': 79166.66666666667,\n",
       " 'less than two': 48000.0,\n",
       " 'between two and five': 61500.0}"
      ]
     },
     "execution_count": 37,
     "metadata": {},
     "output_type": "execute_result"
    }
   ],
   "source": [
    "average_salary_by_bucket"
   ]
  },
  {
   "cell_type": "markdown",
   "id": "c7507a4d",
   "metadata": {},
   "source": [
    "### Paid Accounts"
   ]
  },
  {
   "cell_type": "code",
   "execution_count": 38,
   "id": "076f078b",
   "metadata": {},
   "outputs": [],
   "source": [
    "def predict_paid_or_unpaid(years_experience):\n",
    "    if years_experience < 3.0:\n",
    "        return \"paid\"\n",
    "    elif years_experience < 8.5:\n",
    "        return \"unpaid\"\n",
    "    else:\n",
    "        return \"paid\""
   ]
  },
  {
   "cell_type": "markdown",
   "id": "9a4623b2",
   "metadata": {},
   "source": [
    "### Topics of Interest"
   ]
  },
  {
   "cell_type": "code",
   "execution_count": null,
   "id": "dc2e3455",
   "metadata": {},
   "outputs": [],
   "source": [
    "interests = [\n",
    "        (0, \"Hadoop\"), (0, \"Big Data\"), (0, \"HBase\"), (0, \"Java\"),(0, \"Spark\"), (0, \"Storm\"), (0, \"Cassandra\"),\n",
    "        (1, \"NoSQL\"), (1, \"MongoDB\"), (1, \"Cassandra\"), (1, \"HBase\"),(1, \"Postgres\"),\n",
    "        (2, \"Python\"), (2, \"scikit-learn\"), (2, \"scipy\"),(2, \"numpy\"), (2, \"statsmodels\"), (2, \"pandas\"),\n",
    "        (3, \"R\"), (3, \"Python\"),(3, \"statistics\"), (3, \"regression\"), (3, \"probability\"),    \n",
    "        (4, \"machine learning\"), (4, \"regression\"), (4, \"decision trees\"),(4, \"libsvm\"),\n",
    "        (5, \"Python\"), (5, \"R\"), (5, \"Java\"), (5, \"C++\"),(5, \"Haskell\"), (5, \"programming languages\"),\n",
    "        (6, \"statistics\"),(6, \"probability\"), (6, \"mathematics\"), (6, \"theory\"),\n",
    "        (7, \"machine learning\"), (7, \"scikit-learn\"), (7, \"Mahout\"),(7, \"neural networks\"),\n",
    "        (8, \"neural networks\"), (8, \"deep learning\"),(8, \"Big Data\"), (8, \"artificial intelligence\"),\n",
    "        (9, \"Hadoop\"),(9, \"Java\"), (9, \"MapReduce\"), (9, \"Big Data\")\n",
    "        ]\n"
   ]
  },
  {
   "cell_type": "markdown",
   "id": "6115592e",
   "metadata": {},
   "source": [
    "One simple (if not particularly exciting) way to find the most popular\n",
    "interests is to count the words:\n",
    "1. Lowercase each interest (since different users may or may not\n",
    "capitalize their interests).\n",
    "2. Split it into words.\n",
    "3. Count the results."
   ]
  },
  {
   "cell_type": "code",
   "execution_count": 39,
   "id": "15c05eff",
   "metadata": {},
   "outputs": [],
   "source": [
    "words_and_counts = Counter(word\n",
    "                           for user, interest in interests \n",
    "                           for word in interest.lower().split())"
   ]
  },
  {
   "cell_type": "markdown",
   "id": "8a856260",
   "metadata": {},
   "source": [
    "This makes it easy to list out the words that occur more than once:"
   ]
  },
  {
   "cell_type": "code",
   "execution_count": 40,
   "id": "4badd38a",
   "metadata": {},
   "outputs": [
    {
     "name": "stdout",
     "output_type": "stream",
     "text": [
      "big 3\n",
      "data 3\n",
      "java 3\n",
      "python 3\n",
      "learning 3\n",
      "hadoop 2\n",
      "hbase 2\n",
      "cassandra 2\n",
      "scikit-learn 2\n",
      "r 2\n",
      "statistics 2\n",
      "regression 2\n",
      "probability 2\n",
      "machine 2\n",
      "neural 2\n",
      "networks 2\n"
     ]
    }
   ],
   "source": [
    "for word, count in words_and_counts.most_common():\n",
    "    if count > 1:\n",
    "        print(word, count)\n"
   ]
  }
 ],
 "metadata": {
  "kernelspec": {
   "display_name": "Python 3 (ipykernel)",
   "language": "python",
   "name": "python3"
  },
  "language_info": {
   "codemirror_mode": {
    "name": "ipython",
    "version": 3
   },
   "file_extension": ".py",
   "mimetype": "text/x-python",
   "name": "python",
   "nbconvert_exporter": "python",
   "pygments_lexer": "ipython3",
   "version": "3.11.1"
  }
 },
 "nbformat": 4,
 "nbformat_minor": 5
}
