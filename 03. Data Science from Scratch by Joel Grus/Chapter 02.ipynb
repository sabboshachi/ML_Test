{
 "cells": [
  {
   "cell_type": "markdown",
   "id": "b3876239",
   "metadata": {},
   "source": [
    "# A Crash Course in Python"
   ]
  },
  {
   "cell_type": "markdown",
   "id": "349f7384",
   "metadata": {},
   "source": [
    "## Whitespace  Formatting"
   ]
  },
  {
   "cell_type": "markdown",
   "id": "c36d952a",
   "metadata": {},
   "source": [
    "Many languages use curly braces to delimit blocks of code. Python uses\n",
    "<b>Indentation</b>:"
   ]
  },
  {
   "cell_type": "code",
   "execution_count": null,
   "id": "49882ee0",
   "metadata": {},
   "outputs": [],
   "source": [
    "# The pound sign marks the start of a comment. Python itself\n",
    "# ignores the comments, but they're helpful for anyone reading the code.\n",
    "\n",
    "for i in [1,2,3,4,5]:\n",
    "    print(i) # first line in \"for i\" block\n",
    "    for j in [1,2,3,4,5]:\n",
    "        print(j) # first line in \"for j\" block\n",
    "        print(i+j) # last line in \"for j\" block\n",
    "    print(i) # last line in \"for i\" block\n",
    "print(\"Done Looping\")"
   ]
  },
  {
   "cell_type": "markdown",
   "id": "64bbeb5e",
   "metadata": {},
   "source": [
    "Whitespace is ignored inside parentheses and brackets, which can be\n",
    "helpful for long-winded computations:\n"
   ]
  },
  {
   "cell_type": "code",
   "execution_count": 26,
   "id": "0d5e0162",
   "metadata": {},
   "outputs": [
    {
     "data": {
      "text/plain": [
       "210"
      ]
     },
     "execution_count": 26,
     "metadata": {},
     "output_type": "execute_result"
    }
   ],
   "source": [
    "long_winded_computation = (1 + 2 + 3 + 4 + 5 + 6 + 7 + 8 + 9 + 10 + 11 + 12 + 13 + 14 + 15 + 16 + 17 + 18 + 19 + 20)\n",
    "long_winded_computation"
   ]
  },
  {
   "cell_type": "markdown",
   "id": "dcd9af45",
   "metadata": {},
   "source": [
    "and for making code easier to read:\n"
   ]
  },
  {
   "cell_type": "code",
   "execution_count": 27,
   "id": "ec8c5c18",
   "metadata": {},
   "outputs": [],
   "source": [
    "list_of_lists = [[1, 2, 3], [4, 5, 6], [7, 8, 9]]"
   ]
  },
  {
   "cell_type": "code",
   "execution_count": 28,
   "id": "0b96bf32",
   "metadata": {},
   "outputs": [],
   "source": [
    "easier_to_read_list_of_lists = [[1, 2, 3],\n",
    "                                [4, 5, 6],\n",
    "                                [7, 8, 9]]"
   ]
  },
  {
   "cell_type": "markdown",
   "id": "9dcae5dc",
   "metadata": {},
   "source": [
    "## Modules"
   ]
  },
  {
   "cell_type": "markdown",
   "id": "fcf1e314",
   "metadata": {},
   "source": [
    "Certain features of Python are not loaded by default. These include both\n",
    "features that are included as part of the language as well as third-party\n",
    "features that we might need to download as needed. In order to use these features, we’ll\n",
    "need to import the modules that contain them.\n",
    "\n",
    "One approach is to simply import the module itself:"
   ]
  },
  {
   "cell_type": "code",
   "execution_count": 29,
   "id": "c6f9134c",
   "metadata": {},
   "outputs": [],
   "source": [
    "import re\n",
    "\n",
    "my_regex = re.compile(\"[0-9]+\", re.I)"
   ]
  },
  {
   "cell_type": "markdown",
   "id": "1ea78212",
   "metadata": {},
   "source": [
    "Here, <b>re</b> is the module containing functions and constants for working with\n",
    "<b>Regular Expressions</b>. After this type of import you must prefix those\n",
    "functions with <b>re</b>. in order to access them.\n",
    "\n",
    "<b>Regular Expressions</b> are powerful tools for pattern matching and manipulation of strings. The **re** module allows you to work with regular expressions in Python by providing functions for pattern matching, searching, and manipulation of strings."
   ]
  },
  {
   "cell_type": "markdown",
   "id": "b38aabe7",
   "metadata": {},
   "source": [
    "\n",
    "    my_regex = re.compile(\"[0-9]+\", re.I)\n",
    "\n",
    "Here, you are creating a compiled regular expression object named my_regex. The **re.compile()** function is used to compile a regular expression pattern into a regex object. The pattern you are compiling is \"[0-9]+\", which can be broken down as follows:\n",
    "\n",
    "    --> [0-9]: This part of the pattern is a character class that matches any digit from 0 to 9.\n",
    "    --> \"+\": This is a quantifier that matches one or more occurrences of the preceding element (in this case, digits).\n",
    "\n",
    "So, the pattern [0-9]+ matches one or more consecutive digits in a string.\n",
    "\n",
    "The second argument to **re.compile()** is **re.I**, which stands for **\"ignore case.\"** This is a flag that makes the regular expression case-insensitive. With this flag, the pattern will match both uppercase and lowercase letters.\n",
    "\n",
    "As a result, the compiled regular expression object my_regex can be used for various operations such as searching, matching, and replacing in strings. For example:"
   ]
  },
  {
   "cell_type": "code",
   "execution_count": 30,
   "id": "c13fb1f7",
   "metadata": {},
   "outputs": [
    {
     "name": "stdout",
     "output_type": "stream",
     "text": [
      "Match found: 42\n"
     ]
    }
   ],
   "source": [
    "result = my_regex.search(\"The number is 42.\")\n",
    "if result:\n",
    "    print(\"Match found:\", result.group())\n",
    "else:\n",
    "    print(\"No match found.\")"
   ]
  },
  {
   "cell_type": "markdown",
   "id": "92bd1f21",
   "metadata": {},
   "source": [
    "In this example, the **search** method is used to find the first occurrence of the pattern in the given string, and **result.group()** retrieves the matched substring."
   ]
  },
  {
   "cell_type": "markdown",
   "id": "236a3925",
   "metadata": {},
   "source": [
    "If we already had a different **re** in our code, we could use an alias:"
   ]
  },
  {
   "cell_type": "code",
   "execution_count": 31,
   "id": "d9cc082c",
   "metadata": {},
   "outputs": [],
   "source": [
    "import re as regex\n",
    "my_regex = regex.compile(\"[0-9]+\", regex.I)"
   ]
  },
  {
   "cell_type": "code",
   "execution_count": 32,
   "id": "7623f7ab",
   "metadata": {},
   "outputs": [
    {
     "data": {
      "text/plain": [
       "re.compile(r'[0-9]+', re.IGNORECASE|re.UNICODE)"
      ]
     },
     "execution_count": 32,
     "metadata": {},
     "output_type": "execute_result"
    }
   ],
   "source": [
    "my_regex"
   ]
  },
  {
   "cell_type": "markdown",
   "id": "2a0bc7fd",
   "metadata": {},
   "source": [
    "We can use shorter version of names too for easy writting."
   ]
  },
  {
   "cell_type": "code",
   "execution_count": null,
   "id": "d83f5bfb",
   "metadata": {},
   "outputs": [],
   "source": [
    "import matplotlib.pyplot as plt\n",
    "plt.plot(...)"
   ]
  },
  {
   "cell_type": "markdown",
   "id": "2006f624",
   "metadata": {},
   "source": [
    "If we need a few specific values from a module, we can import them\n",
    "explicitly and use them without qualification:"
   ]
  },
  {
   "cell_type": "code",
   "execution_count": 34,
   "id": "50d51ded",
   "metadata": {},
   "outputs": [],
   "source": [
    "from collections import defaultdict, Counter\n",
    "lookup = defaultdict(int)\n",
    "my_counter = Counter()"
   ]
  },
  {
   "cell_type": "markdown",
   "id": "0cd31cb3",
   "metadata": {},
   "source": [
    "If we were a bad person, we could import the entire contents of a module\n",
    "into your namespace, which might inadvertently overwrite variables we’ve\n",
    "already defined:"
   ]
  },
  {
   "cell_type": "code",
   "execution_count": 35,
   "id": "fc46edb3",
   "metadata": {},
   "outputs": [
    {
     "name": "stdout",
     "output_type": "stream",
     "text": [
      "<function match at 0x0000012880EF3560>\n"
     ]
    }
   ],
   "source": [
    "match = 10\n",
    "from re import * # uh oh, re has a match function\n",
    "print(match)"
   ]
  },
  {
   "cell_type": "markdown",
   "id": "04c0d1df",
   "metadata": {},
   "source": [
    "## Functions"
   ]
  },
  {
   "cell_type": "markdown",
   "id": "8e3bd865",
   "metadata": {},
   "source": [
    "A function is a rule for taking zero or more inputs and returning a\n",
    "corresponding output. In Python, we typically define functions using **def:**"
   ]
  },
  {
   "cell_type": "code",
   "execution_count": 36,
   "id": "7397202c",
   "metadata": {},
   "outputs": [],
   "source": [
    "def double(x):\n",
    "    \"\"\"\n",
    "        This is where you put an optional docstring that explains what the\n",
    "        function does. For example, this function multiplies its input by 2.\n",
    "    \"\"\"\n",
    "    return x * 2"
   ]
  },
  {
   "cell_type": "code",
   "execution_count": 37,
   "id": "7b780631",
   "metadata": {},
   "outputs": [
    {
     "name": "stdout",
     "output_type": "stream",
     "text": [
      "10\n"
     ]
    }
   ],
   "source": [
    "result = double(5)\n",
    "print(result)  # Output: 10"
   ]
  },
  {
   "cell_type": "markdown",
   "id": "a4d1899d",
   "metadata": {},
   "source": [
    "Python functions are first-class, which means that we can assign them to\n",
    "variables and pass them into functions just like any other arguments:"
   ]
  },
  {
   "cell_type": "code",
   "execution_count": null,
   "id": "400bb5e3",
   "metadata": {},
   "outputs": [],
   "source": [
    "def apply_to_one(f):\n",
    "    \"\"\"Calls the function f with 1 as its argument\"\"\"\n",
    "    return f(1)"
   ]
  },
  {
   "cell_type": "code",
   "execution_count": null,
   "id": "62e94b80",
   "metadata": {},
   "outputs": [],
   "source": [
    "my_double = double # refers to the previously defined function\n",
    "x = apply_to_one(my_double) # equals 2"
   ]
  },
  {
   "cell_type": "markdown",
   "id": "8b952814",
   "metadata": {},
   "source": [
    "It is also easy to create short anonymous functions, or lambdas:"
   ]
  },
  {
   "cell_type": "code",
   "execution_count": null,
   "id": "23a6b6a4",
   "metadata": {},
   "outputs": [],
   "source": [
    "y = apply_to_one(lambda x: x + 4) # equals 5"
   ]
  },
  {
   "cell_type": "markdown",
   "id": "d3201df7",
   "metadata": {},
   "source": [
    "You can assign lambdas to variables, although most people will tell you that\n",
    "you should just use def instead:"
   ]
  },
  {
   "cell_type": "code",
   "execution_count": null,
   "id": "2aea5d84",
   "metadata": {},
   "outputs": [],
   "source": [
    "another_double = lambda x: 2 * x # don't do this"
   ]
  },
  {
   "cell_type": "code",
   "execution_count": null,
   "id": "1871ca6d",
   "metadata": {},
   "outputs": [],
   "source": [
    "def another_double(x):\n",
    "    \"\"\"Do this instead\"\"\"\n",
    "    return 2 * x"
   ]
  },
  {
   "cell_type": "markdown",
   "id": "934d76ca",
   "metadata": {},
   "source": [
    "Function parameters can also be given default arguments, which only need\n",
    "to be specified when you want a value other than the default:"
   ]
  },
  {
   "cell_type": "code",
   "execution_count": null,
   "id": "deef57ba",
   "metadata": {},
   "outputs": [],
   "source": [
    "def my_print(message = \"my default message\"):\n",
    "    print(message)\n",
    "\n",
    "my_print(\"hello\") # prints 'hello'\n",
    "my_print() # prints 'my default message'"
   ]
  },
  {
   "cell_type": "markdown",
   "id": "deb337dc",
   "metadata": {},
   "source": [
    "It is sometimes useful to specify arguments by name:"
   ]
  },
  {
   "cell_type": "code",
   "execution_count": 11,
   "id": "a05e2ebc",
   "metadata": {},
   "outputs": [
    {
     "data": {
      "text/plain": [
       "'Joel Grus'"
      ]
     },
     "execution_count": 11,
     "metadata": {},
     "output_type": "execute_result"
    }
   ],
   "source": [
    "def full_name(first = \"What's-his-name\", last = \"Something\"):\n",
    "    return first + \" \" + last\n",
    "\n",
    "full_name(\"Joel\", \"Grus\") # \"Joel Grus\"\n",
    "full_name(\"Joel\") # \"Joel Something\"\n",
    "full_name(last=\"Grus\") # \"What's-his-name Grus\""
   ]
  },
  {
   "cell_type": "markdown",
   "id": "f93d0960",
   "metadata": {},
   "source": [
    "## Strings"
   ]
  },
  {
   "cell_type": "code",
   "execution_count": 1,
   "id": "0f572537",
   "metadata": {},
   "outputs": [],
   "source": [
    "# Example of Strings\n",
    "single_quoted_string = 'data science'\n",
    "double_quoted_string = \"data science\" "
   ]
  },
  {
   "cell_type": "code",
   "execution_count": 2,
   "id": "4dfbc579",
   "metadata": {},
   "outputs": [
    {
     "data": {
      "text/plain": [
       "1"
      ]
     },
     "execution_count": 2,
     "metadata": {},
     "output_type": "execute_result"
    }
   ],
   "source": [
    "# Python uses backslashes to encode special characters. \n",
    "# For example:\n",
    "tab_string = \"\\t\" # represents the tab character is 1\n",
    "len(tab_string)"
   ]
  },
  {
   "cell_type": "code",
   "execution_count": 3,
   "id": "5bf70a6e",
   "metadata": {},
   "outputs": [
    {
     "name": "stdout",
     "output_type": "stream",
     "text": [
      "\t\n"
     ]
    }
   ],
   "source": [
    "print(tab_string)"
   ]
  },
  {
   "cell_type": "markdown",
   "id": "b7f5a3aa",
   "metadata": {},
   "source": [
    "If we want backslashes as backslashes (which we might in Windows\n",
    "directory names or in regular expressions), we can create raw strings using\n",
    "r\" \":"
   ]
  },
  {
   "cell_type": "code",
   "execution_count": 8,
   "id": "33aaef61",
   "metadata": {},
   "outputs": [
    {
     "data": {
      "text/plain": [
       "2"
      ]
     },
     "execution_count": 8,
     "metadata": {},
     "output_type": "execute_result"
    }
   ],
   "source": [
    "not_tab_string = r\"\\t\" # represents the characters '\\' and 't'\n",
    "len(not_tab_string) # is 2"
   ]
  },
  {
   "cell_type": "code",
   "execution_count": 7,
   "id": "e8c06843",
   "metadata": {},
   "outputs": [
    {
     "name": "stdout",
     "output_type": "stream",
     "text": [
      "\\t\n"
     ]
    }
   ],
   "source": [
    "print(not_tab_string)"
   ]
  },
  {
   "cell_type": "markdown",
   "id": "be5ed6ca",
   "metadata": {},
   "source": [
    "You can create multiline strings using three double quotes:"
   ]
  },
  {
   "cell_type": "code",
   "execution_count": 1,
   "id": "56e45e51",
   "metadata": {},
   "outputs": [],
   "source": [
    "multi_line_string = \"\"\" This is the first line.\n",
    "                        and this is the second line\n",
    "                        and this is the third line \"\"\""
   ]
  },
  {
   "cell_type": "code",
   "execution_count": 12,
   "id": "31d56788",
   "metadata": {},
   "outputs": [],
   "source": [
    "first_name = \"Joel\"\n",
    "last_name = \"Grus\""
   ]
  },
  {
   "cell_type": "code",
   "execution_count": 13,
   "id": "bf6dde2c",
   "metadata": {},
   "outputs": [],
   "source": [
    "full_name1 = first_name + \" \" + last_name # string addition\n",
    "full_name2 = \"{0} {1}\".format(first_name, last_name) # string.format"
   ]
  },
  {
   "cell_type": "markdown",
   "id": "b89655e4",
   "metadata": {},
   "source": [
    "but the f-string way is much less unwieldy:"
   ]
  },
  {
   "cell_type": "code",
   "execution_count": 14,
   "id": "d9b6c901",
   "metadata": {},
   "outputs": [],
   "source": [
    "full_name3 = f\"{first_name} {last_name}\""
   ]
  },
  {
   "cell_type": "code",
   "execution_count": 15,
   "id": "7b91efa8",
   "metadata": {},
   "outputs": [
    {
     "data": {
      "text/plain": [
       "'Joel Grus'"
      ]
     },
     "execution_count": 15,
     "metadata": {},
     "output_type": "execute_result"
    }
   ],
   "source": [
    "full_name1"
   ]
  },
  {
   "cell_type": "code",
   "execution_count": 16,
   "id": "705b76d1",
   "metadata": {},
   "outputs": [
    {
     "data": {
      "text/plain": [
       "'Joel Grus'"
      ]
     },
     "execution_count": 16,
     "metadata": {},
     "output_type": "execute_result"
    }
   ],
   "source": [
    "full_name2"
   ]
  },
  {
   "cell_type": "code",
   "execution_count": 17,
   "id": "6bb83d48",
   "metadata": {},
   "outputs": [
    {
     "data": {
      "text/plain": [
       "'Joel Grus'"
      ]
     },
     "execution_count": 17,
     "metadata": {},
     "output_type": "execute_result"
    }
   ],
   "source": [
    "full_name3"
   ]
  },
  {
   "cell_type": "markdown",
   "id": "4a942658",
   "metadata": {},
   "source": [
    "## Exceptions"
   ]
  },
  {
   "cell_type": "markdown",
   "id": "ccc4035d",
   "metadata": {},
   "source": [
    "When something goes wrong, Python raises an exception. Unhandled,\n",
    "exceptions will cause your program to crash. You can handle them using\n",
    "\"try\" and \"except\":"
   ]
  },
  {
   "cell_type": "code",
   "execution_count": 18,
   "id": "75a645b4",
   "metadata": {},
   "outputs": [
    {
     "name": "stdout",
     "output_type": "stream",
     "text": [
      "cannot divide by zero.\n"
     ]
    }
   ],
   "source": [
    "try:\n",
    "    print(0/0)\n",
    "except ZeroDivisionError:\n",
    "    print(\"cannot divide by zero.\")"
   ]
  },
  {
   "cell_type": "markdown",
   "id": "203e7287",
   "metadata": {},
   "source": [
    "## Lists"
   ]
  },
  {
   "cell_type": "code",
   "execution_count": 33,
   "id": "806986d7",
   "metadata": {},
   "outputs": [],
   "source": [
    "integer_list = [1, 2, 3]\n",
    "heterogeneous_list = [\"string\", 0.1, True]\n",
    "list_of_lists = [integer_list, heterogeneous_list, []]"
   ]
  },
  {
   "cell_type": "code",
   "execution_count": 34,
   "id": "22e459a8",
   "metadata": {},
   "outputs": [],
   "source": [
    "list_length = len(integer_list) # equals 3\n",
    "list_sum = sum(integer_list) # equals 6"
   ]
  },
  {
   "cell_type": "markdown",
   "id": "20e58df0",
   "metadata": {},
   "source": [
    "You can get or set the \"nth\" element of a list with square brackets:\n"
   ]
  },
  {
   "cell_type": "code",
   "execution_count": 35,
   "id": "90be28e4",
   "metadata": {},
   "outputs": [],
   "source": [
    "x = [0, 1, 2, 3, 4, 5, 6, 7, 8, 9]\n",
    "\n",
    "zero = x[0] # equals 0, lists are 0-indexed\n",
    "one = x[1] # equals 1\n",
    "nine = x[-1] # equals 9, 'Pythonic' for last element\n",
    "eight = x[-2] # equals 8, 'Pythonic' for next-to-last element\n",
    "x[0] = -1 # now x is [-1, 1, 2, 3, ..., 9]"
   ]
  },
  {
   "cell_type": "markdown",
   "id": "d1a5ec99",
   "metadata": {},
   "source": [
    "You can also use square brackets to slice lists."
   ]
  },
  {
   "cell_type": "code",
   "execution_count": 36,
   "id": "0fe12ba7",
   "metadata": {},
   "outputs": [],
   "source": [
    "first_three = x[:3] # [-1, 1, 2]\n",
    "three_to_end = x[3:] # [3, 4, ..., 9]\n",
    "one_to_four = x[1:5] # [1, 2, 3, 4]\n",
    "last_three = x[-3:] # [7, 8, 9]\n",
    "without_first_and_last = x[1:-1] # [1, 2, ..., 8]\n",
    "copy_of_x = x[:] # [-1, 1, 2, ..., 9]"
   ]
  },
  {
   "cell_type": "markdown",
   "id": "81d85978",
   "metadata": {},
   "source": [
    "You can similarly slice strings and other “sequential” types."
   ]
  },
  {
   "cell_type": "code",
   "execution_count": 37,
   "id": "d220d998",
   "metadata": {},
   "outputs": [],
   "source": [
    "every_third = x[::3] # [-1, 3, 6, 9]\n",
    "five_to_three = x[5:2:-1] # [5, 4, 3]"
   ]
  },
  {
   "cell_type": "code",
   "execution_count": 38,
   "id": "26ef83bc",
   "metadata": {},
   "outputs": [
    {
     "data": {
      "text/plain": [
       "False"
      ]
     },
     "execution_count": 38,
     "metadata": {},
     "output_type": "execute_result"
    }
   ],
   "source": [
    "1 in [1, 2, 3] # True\n",
    "0 in [1, 2, 3] # False"
   ]
  },
  {
   "cell_type": "markdown",
   "id": "b5515490",
   "metadata": {},
   "source": [
    "It is easy to concatenate lists together. If you want to modify a list in place,\n",
    "you can use extend to add items from another collection:"
   ]
  },
  {
   "cell_type": "code",
   "execution_count": 39,
   "id": "0a22b9c9",
   "metadata": {},
   "outputs": [],
   "source": [
    "x = [1, 2, 3]\n",
    "x.extend([4, 5, 6]) # x is now [1, 2, 3, 4, 5, 6]"
   ]
  },
  {
   "cell_type": "markdown",
   "id": "93f666ce",
   "metadata": {},
   "source": [
    "If you don’t want to modify x, you can use list addition:\n"
   ]
  },
  {
   "cell_type": "code",
   "execution_count": 40,
   "id": "80317b96",
   "metadata": {},
   "outputs": [],
   "source": [
    "x = [1, 2, 3]\n",
    "y = x + [4, 5, 6] # y is [1, 2, 3, 4, 5, 6]; x is unchanged"
   ]
  },
  {
   "cell_type": "code",
   "execution_count": 41,
   "id": "0f625edf",
   "metadata": {},
   "outputs": [],
   "source": [
    "x = [1, 2, 3]\n",
    "x.append(0) # x is now [1, 2, 3, 0]\n",
    "y = x[-1] # equals 0\n",
    "z = len(x) # equals 4"
   ]
  },
  {
   "cell_type": "markdown",
   "id": "548dfbfc",
   "metadata": {},
   "source": [
    "It’s often convenient to unpack lists when you know how many elements\n",
    "they contain:"
   ]
  },
  {
   "cell_type": "code",
   "execution_count": 42,
   "id": "710e6b4a",
   "metadata": {},
   "outputs": [],
   "source": [
    "x, y = [1, 2] # now x is 1, y is 2"
   ]
  },
  {
   "cell_type": "markdown",
   "id": "c721774a",
   "metadata": {},
   "source": [
    "Although you will get a ValueError if you don’t have the same number of\n",
    "elements on both sides.\n",
    "A common idiom is to use an underscore for a value you’re going to throw\n",
    "away:\n"
   ]
  },
  {
   "cell_type": "code",
   "execution_count": 43,
   "id": "50646b57",
   "metadata": {},
   "outputs": [],
   "source": [
    "_,y = [1, 2] # now y == 2, didn't care about the first element"
   ]
  },
  {
   "cell_type": "code",
   "execution_count": 44,
   "id": "450a7b5d",
   "metadata": {},
   "outputs": [
    {
     "data": {
      "text/plain": [
       "2"
      ]
     },
     "execution_count": 44,
     "metadata": {},
     "output_type": "execute_result"
    }
   ],
   "source": [
    "y"
   ]
  },
  {
   "cell_type": "markdown",
   "id": "450992d4",
   "metadata": {},
   "source": [
    "## Tuples"
   ]
  },
  {
   "cell_type": "markdown",
   "id": "e029881c",
   "metadata": {},
   "source": [
    "Tuples are lists’ immutable cousins. Pretty much anything you can do to a\n",
    "list that doesn’t involve modifying it, you can do to a tuple."
   ]
  },
  {
   "cell_type": "code",
   "execution_count": 46,
   "id": "0eeb2410",
   "metadata": {},
   "outputs": [],
   "source": [
    "my_list = [1, 2]\n",
    "my_tuple = (1, 2)\n",
    "other_tuple = 3, 4\n",
    "my_list[1] = 3 # my_list is now [1, 3]"
   ]
  },
  {
   "cell_type": "code",
   "execution_count": 47,
   "id": "162a7d12",
   "metadata": {},
   "outputs": [
    {
     "name": "stdout",
     "output_type": "stream",
     "text": [
      "cannot modify a tuple\n"
     ]
    }
   ],
   "source": [
    "try:\n",
    "    my_tuple[1] = 3\n",
    "except TypeError:\n",
    "    print(\"cannot modify a tuple\")"
   ]
  },
  {
   "cell_type": "markdown",
   "id": "66f84ec3",
   "metadata": {},
   "source": [
    "Tuples are a convenient way to return multiple values from functions:"
   ]
  },
  {
   "cell_type": "code",
   "execution_count": 48,
   "id": "12b63fb6",
   "metadata": {},
   "outputs": [],
   "source": [
    "def sum_and_product(x, y):\n",
    "    return (x + y), (x * y)"
   ]
  },
  {
   "cell_type": "code",
   "execution_count": 49,
   "id": "c6941de9",
   "metadata": {},
   "outputs": [],
   "source": [
    "sp = sum_and_product(2, 3) # sp is (5, 6)\n",
    "s, p = sum_and_product(5, 10) # s is 15, p is 50"
   ]
  },
  {
   "cell_type": "markdown",
   "id": "1460463e",
   "metadata": {},
   "source": [
    "Tuples (and lists) can also be used for multiple assignment:"
   ]
  },
  {
   "cell_type": "code",
   "execution_count": 50,
   "id": "001467f4",
   "metadata": {},
   "outputs": [],
   "source": [
    "x, y = 1, 2 # now x is 1, y is 2\n",
    "x, y = y, x # Pythonic way to swap variables; now x is 2, y is 1"
   ]
  },
  {
   "cell_type": "code",
   "execution_count": 51,
   "id": "cd013d81",
   "metadata": {},
   "outputs": [
    {
     "data": {
      "text/plain": [
       "2"
      ]
     },
     "execution_count": 51,
     "metadata": {},
     "output_type": "execute_result"
    }
   ],
   "source": [
    "x"
   ]
  },
  {
   "cell_type": "code",
   "execution_count": 52,
   "id": "157b14df",
   "metadata": {},
   "outputs": [
    {
     "data": {
      "text/plain": [
       "1"
      ]
     },
     "execution_count": 52,
     "metadata": {},
     "output_type": "execute_result"
    }
   ],
   "source": [
    "y"
   ]
  },
  {
   "cell_type": "markdown",
   "id": "538cd5cf",
   "metadata": {},
   "source": [
    "## Dictionaries"
   ]
  },
  {
   "cell_type": "markdown",
   "id": "3bd50d1a",
   "metadata": {},
   "source": [
    "Another fundamental data structure is a dictionary, which associates values\n",
    "with keys and allows you to quickly retrieve the value corresponding to a\n",
    "given key:"
   ]
  },
  {
   "cell_type": "code",
   "execution_count": 74,
   "id": "b8c758db",
   "metadata": {},
   "outputs": [],
   "source": [
    "empty_dict = {}  #Pythonic\n",
    "empty_dict2 = dict() #Less Pythonic\n",
    "grades = {\"Joel\": 80, \"Tim\": 95}"
   ]
  },
  {
   "cell_type": "code",
   "execution_count": 62,
   "id": "e7e528c9",
   "metadata": {},
   "outputs": [
    {
     "data": {
      "text/plain": [
       "80"
      ]
     },
     "execution_count": 62,
     "metadata": {},
     "output_type": "execute_result"
    }
   ],
   "source": [
    "joels_grade = grades[\"Joel\"]\n",
    "joels_grade"
   ]
  },
  {
   "cell_type": "markdown",
   "id": "6be3f222",
   "metadata": {},
   "source": [
    "But you’ll get a KeyError if you ask for a key that’s not in the dictionary:"
   ]
  },
  {
   "cell_type": "code",
   "execution_count": 63,
   "id": "1a066847",
   "metadata": {},
   "outputs": [
    {
     "name": "stdout",
     "output_type": "stream",
     "text": [
      "no grade for Kate!\n"
     ]
    }
   ],
   "source": [
    "try:\n",
    "    kates_grade = grades[\"Kate\"]\n",
    "except KeyError:\n",
    "    print(\"no grade for Kate!\")\n"
   ]
  },
  {
   "cell_type": "markdown",
   "id": "496f47a9",
   "metadata": {},
   "source": [
    "You can check for the existence of a key using \"in\":\n"
   ]
  },
  {
   "cell_type": "code",
   "execution_count": 64,
   "id": "421cb768",
   "metadata": {},
   "outputs": [],
   "source": [
    "joel_has_grade = \"Joel\" in grades # True\n",
    "kate_has_grade = \"Kate\" in grades # False"
   ]
  },
  {
   "cell_type": "code",
   "execution_count": 65,
   "id": "0303236b",
   "metadata": {},
   "outputs": [
    {
     "data": {
      "text/plain": [
       "True"
      ]
     },
     "execution_count": 65,
     "metadata": {},
     "output_type": "execute_result"
    }
   ],
   "source": [
    "joel_has_grade"
   ]
  },
  {
   "cell_type": "code",
   "execution_count": 66,
   "id": "5edd1c03",
   "metadata": {},
   "outputs": [
    {
     "data": {
      "text/plain": [
       "False"
      ]
     },
     "execution_count": 66,
     "metadata": {},
     "output_type": "execute_result"
    }
   ],
   "source": [
    "kate_has_grade"
   ]
  },
  {
   "cell_type": "markdown",
   "id": "9f4d7226",
   "metadata": {},
   "source": [
    "Dictionaries have a \"get\" method that returns a default value (instead of\n",
    "raising an exception) when you look up a key that’s not in the dictionary:\n"
   ]
  },
  {
   "cell_type": "code",
   "execution_count": 79,
   "id": "e6cca884",
   "metadata": {},
   "outputs": [],
   "source": [
    "joels_grade = grades.get(\"Joel\", 0) # equals 80\n",
    "kates_grade = grades.get(\"Kate\", 0) # equals 0\n",
    "no_ones_grade = grades.get(\"No One\") # default is None"
   ]
  },
  {
   "cell_type": "code",
   "execution_count": 80,
   "id": "a0868811",
   "metadata": {},
   "outputs": [
    {
     "data": {
      "text/plain": [
       "0"
      ]
     },
     "execution_count": 80,
     "metadata": {},
     "output_type": "execute_result"
    }
   ],
   "source": [
    "kates_grade"
   ]
  },
  {
   "cell_type": "code",
   "execution_count": 81,
   "id": "56d10175",
   "metadata": {},
   "outputs": [
    {
     "data": {
      "text/plain": [
       "2"
      ]
     },
     "execution_count": 81,
     "metadata": {},
     "output_type": "execute_result"
    }
   ],
   "source": [
    "num_students = len(grades) \n",
    "num_students"
   ]
  },
  {
   "cell_type": "code",
   "execution_count": 82,
   "id": "af89b87f",
   "metadata": {},
   "outputs": [
    {
     "data": {
      "text/plain": [
       "3"
      ]
     },
     "execution_count": 82,
     "metadata": {},
     "output_type": "execute_result"
    }
   ],
   "source": [
    "grades[\"Tim\"] = 99 # replaces the old value\n",
    "grades[\"Kate\"] = 100 # adds a third entry\n",
    "num_students = len(grades) \n",
    "num_students"
   ]
  },
  {
   "cell_type": "code",
   "execution_count": 83,
   "id": "1547ba8e",
   "metadata": {},
   "outputs": [],
   "source": [
    "tweet = {\n",
    "    \"user\" : \"joelgrus\",\n",
    "    \"text\" : \"Data Science is Awesome\",\n",
    "    \"retweet_count\" : 100,\n",
    "    \"hashtags\" : [\"#data\", \"#science\", \"#datascience\", \"#awesome\", \"#yolo\"]\n",
    "}"
   ]
  },
  {
   "cell_type": "markdown",
   "id": "48a5d84b",
   "metadata": {},
   "source": [
    "Besides looking for specific keys, we can look at all of them:"
   ]
  },
  {
   "cell_type": "code",
   "execution_count": 84,
   "id": "70d76b88",
   "metadata": {},
   "outputs": [],
   "source": [
    "tweet_keys = tweet.keys() # iterable for the keys\n",
    "tweet_values = tweet.values() # iterable for the values\n",
    "tweet_items = tweet.items() # iterable for the (key, value) tuples"
   ]
  },
  {
   "cell_type": "code",
   "execution_count": 85,
   "id": "13aea4b1",
   "metadata": {},
   "outputs": [
    {
     "data": {
      "text/plain": [
       "dict_keys(['user', 'text', 'retweet_count', 'hashtags'])"
      ]
     },
     "execution_count": 85,
     "metadata": {},
     "output_type": "execute_result"
    }
   ],
   "source": [
    "tweet_keys"
   ]
  },
  {
   "cell_type": "code",
   "execution_count": 86,
   "id": "931c7c26",
   "metadata": {},
   "outputs": [
    {
     "data": {
      "text/plain": [
       "dict_values(['joelgrus', 'Data Science is Awesome', 100, ['#data', '#science', '#datascience', '#awesome', '#yolo']])"
      ]
     },
     "execution_count": 86,
     "metadata": {},
     "output_type": "execute_result"
    }
   ],
   "source": [
    "tweet_values"
   ]
  },
  {
   "cell_type": "code",
   "execution_count": 87,
   "id": "57ae5ea3",
   "metadata": {},
   "outputs": [
    {
     "data": {
      "text/plain": [
       "dict_items([('user', 'joelgrus'), ('text', 'Data Science is Awesome'), ('retweet_count', 100), ('hashtags', ['#data', '#science', '#datascience', '#awesome', '#yolo'])])"
      ]
     },
     "execution_count": 87,
     "metadata": {},
     "output_type": "execute_result"
    }
   ],
   "source": [
    "tweet_items"
   ]
  },
  {
   "cell_type": "code",
   "execution_count": null,
   "id": "a7f81a44",
   "metadata": {},
   "outputs": [],
   "source": [
    "\"user\" in tweet_keys # True, but not Pythonic\n",
    "\"user\" in tweet # Pythonic way of checking for keys\n",
    "\"joelgrus\" in tweet_values # True (slow but the only way to check)"
   ]
  },
  {
   "cell_type": "code",
   "execution_count": null,
   "id": "af822007",
   "metadata": {},
   "outputs": [],
   "source": [
    "Dictionary keys must be “hashable”; in particular, you cannot use lists as\n",
    "keys. If you need a multipart key, you should probably use a tuple or figure\n",
    "out a way to turn the key into a string."
   ]
  },
  {
   "cell_type": "markdown",
   "id": "c4ad98a8",
   "metadata": {},
   "source": [
    "### defaultdict"
   ]
  },
  {
   "cell_type": "markdown",
   "id": "83ccc328",
   "metadata": {},
   "source": [
    "Imagine that you’re trying to count the words in a document. An obvious\n",
    "approach is to create a dictionary in which the keys are words and the\n",
    "values are counts. As you check each word, you can increment its count if\n",
    "it’s already in the dictionary and add it to the dictionary if it’s not:"
   ]
  },
  {
   "cell_type": "code",
   "execution_count": 6,
   "id": "0338cdd3",
   "metadata": {},
   "outputs": [],
   "source": [
    "document = \"Hi this is Sabboshachi Sarkar\""
   ]
  },
  {
   "cell_type": "code",
   "execution_count": 100,
   "id": "d2d8fdcb",
   "metadata": {},
   "outputs": [],
   "source": [
    "word_counts = {}\n",
    "for word in document:\n",
    "    if word in word_counts:\n",
    "        word_counts[word] += 1\n",
    "    else:\n",
    "        word_counts[word] = 1\n"
   ]
  },
  {
   "cell_type": "markdown",
   "id": "6a1ff91b",
   "metadata": {},
   "source": [
    "You could also use the “forgiveness is better than permission” approach and\n",
    "just handle the exception from trying to look up a missing key:"
   ]
  },
  {
   "cell_type": "code",
   "execution_count": 101,
   "id": "14e660a3",
   "metadata": {},
   "outputs": [],
   "source": [
    "word_counts = {}\n",
    "for word in document:\n",
    "    try:\n",
    "        word_counts[word] += 1\n",
    "    except KeyError:\n",
    "        word_counts[word] = 1"
   ]
  },
  {
   "cell_type": "code",
   "execution_count": 102,
   "id": "81906112",
   "metadata": {},
   "outputs": [],
   "source": [
    "word_counts = {}\n",
    "for word in document:\n",
    "    previous_count = word_counts.get(word, 0)\n",
    "    word_counts[word] = previous_count + 1\n"
   ]
  },
  {
   "cell_type": "markdown",
   "id": "3b4fb197",
   "metadata": {},
   "source": [
    "Every one of these is slightly unwieldy, which is why defaultdict is\n",
    "useful. A defaultdict is like a regular dictionary, except that when you try\n",
    "to look up a key it doesn’t contain, it first adds a value for it using a zero argument function you provided when you created it. In order to use\n",
    "defaultdicts, you have to import them from collections:"
   ]
  },
  {
   "cell_type": "code",
   "execution_count": 105,
   "id": "f3ffc0dd",
   "metadata": {},
   "outputs": [],
   "source": [
    "from collections import defaultdict\n",
    "word_counts = defaultdict(int) # int() produces 0\n",
    "for word in document:\n",
    "    word_counts[word] += 1"
   ]
  },
  {
   "cell_type": "markdown",
   "id": "9683be57",
   "metadata": {},
   "source": [
    "They can also be useful with list or dict, or even your own functions:\n"
   ]
  },
  {
   "cell_type": "code",
   "execution_count": 106,
   "id": "3aefa3a2",
   "metadata": {},
   "outputs": [],
   "source": [
    "dd_list = defaultdict(list) # list() produces an empty list\n",
    "dd_list[2].append(1) # now dd_list contains {2: [1]}\n",
    "\n",
    "dd_dict = defaultdict(dict) # dict() produces an empty dict\n",
    "dd_dict[\"Joel\"][\"City\"] = \"Seattle\" # {\"Joel\" : {\"City\": Seattle\"}}\n",
    "\n",
    "dd_pair = defaultdict(lambda: [0, 0])\n",
    "dd_pair[2][1] = 1 # now dd_pair contains {2: [0, 1]}"
   ]
  },
  {
   "cell_type": "markdown",
   "id": "1e760139",
   "metadata": {},
   "source": [
    "These will be useful when we’re using dictionaries to “collect” results by\n",
    "some key and don’t want to have to check every time to see if the key exists\n",
    "yet."
   ]
  },
  {
   "cell_type": "markdown",
   "id": "ffad6753",
   "metadata": {},
   "source": [
    "## Counters"
   ]
  },
  {
   "cell_type": "markdown",
   "id": "32a50ef9",
   "metadata": {},
   "source": [
    "A \"Counter\" turns a sequence of values into a defaultdict(int) - like object mapping keys to counts:"
   ]
  },
  {
   "cell_type": "code",
   "execution_count": 1,
   "id": "c19c874b",
   "metadata": {},
   "outputs": [],
   "source": [
    "from collections import Counter"
   ]
  },
  {
   "cell_type": "code",
   "execution_count": 4,
   "id": "0295e074",
   "metadata": {},
   "outputs": [],
   "source": [
    "c = Counter([0,1,2,0]) # c is (bassically) {0:2, 1:1, 2:1}"
   ]
  },
  {
   "cell_type": "markdown",
   "id": "34a6f780",
   "metadata": {},
   "source": [
    "This gives us a very simple way to solve our word_counts problem:\n"
   ]
  },
  {
   "cell_type": "code",
   "execution_count": 7,
   "id": "bc019dd9",
   "metadata": {},
   "outputs": [],
   "source": [
    "# recall, document is a list of words\n",
    "word_counts = Counter(document)"
   ]
  },
  {
   "cell_type": "code",
   "execution_count": 8,
   "id": "e728ddbb",
   "metadata": {},
   "outputs": [
    {
     "data": {
      "text/plain": [
       "Counter({'H': 1,\n",
       "         'i': 4,\n",
       "         ' ': 4,\n",
       "         't': 1,\n",
       "         'h': 3,\n",
       "         's': 3,\n",
       "         'S': 2,\n",
       "         'a': 4,\n",
       "         'b': 2,\n",
       "         'o': 1,\n",
       "         'c': 1,\n",
       "         'r': 2,\n",
       "         'k': 1})"
      ]
     },
     "execution_count": 8,
     "metadata": {},
     "output_type": "execute_result"
    }
   ],
   "source": [
    "word_counts"
   ]
  },
  {
   "cell_type": "markdown",
   "id": "f80507ab",
   "metadata": {},
   "source": [
    "A Counter instance has a \"most_common\" method that is frequently useful:"
   ]
  },
  {
   "cell_type": "code",
   "execution_count": 11,
   "id": "1e54a928",
   "metadata": {},
   "outputs": [
    {
     "name": "stdout",
     "output_type": "stream",
     "text": [
      "i 4\n",
      "  4\n",
      "a 4\n",
      "h 3\n",
      "s 3\n"
     ]
    }
   ],
   "source": [
    "# print the 10 most common words and their counts\n",
    "for word, count in word_counts.most_common(5):\n",
    "    print(word, count)\n"
   ]
  },
  {
   "cell_type": "markdown",
   "id": "f7d53e6a",
   "metadata": {},
   "source": [
    "## Sets"
   ]
  },
  {
   "cell_type": "markdown",
   "id": "e2542245",
   "metadata": {},
   "source": [
    "Another useful data structure is set, which represents a collection of distinct\n",
    "elements. You can define a set by listing its elements between curly braces:"
   ]
  },
  {
   "cell_type": "code",
   "execution_count": 12,
   "id": "d63381a1",
   "metadata": {},
   "outputs": [],
   "source": [
    "primes_below_10 = {2, 3, 5, 7}"
   ]
  },
  {
   "cell_type": "markdown",
   "id": "e44b9b80",
   "metadata": {},
   "source": [
    "However, that doesn’t work for empty sets, as {} already means “empty\n",
    "dict.” In that case you’ll need to use set() itself:"
   ]
  },
  {
   "cell_type": "code",
   "execution_count": 16,
   "id": "1a0ca749",
   "metadata": {},
   "outputs": [],
   "source": [
    "s = set()\n",
    "s.add(1) # s is now {1}\n",
    "s.add(2) # s is now {1, 2}\n",
    "s.add(2) # s is still {1, 2}\n",
    "x = len(s) # equals 2\n",
    "y = 2 in s # equals True\n",
    "z = 3 in s # equals False"
   ]
  },
  {
   "cell_type": "markdown",
   "id": "6dd2ff07",
   "metadata": {},
   "source": [
    "We’ll use sets for two main reasons. The first is that \"in\" is a very fast\n",
    "operation on sets. If we have a large collection of items that we want to use\n",
    "for a membership test, a set is more appropriate than a list:"
   ]
  },
  {
   "cell_type": "code",
   "execution_count": null,
   "id": "b5c1d482",
   "metadata": {},
   "outputs": [],
   "source": [
    "stopwords_list = [\"a\", \"an\", \"at\"] + hundreds_of_other_words + [\"yet\", \"you\"]\n",
    "\n",
    "\"zip\" in stopwords_list # False, but have to check every element\n",
    "\n",
    "stopwords_set = set(stopwords_list)\n",
    "\"zip\" in stopwords_set # very fast to check"
   ]
  },
  {
   "cell_type": "markdown",
   "id": "743a21c9",
   "metadata": {},
   "source": [
    "The second reason is to find the distinct items in a collection:\n"
   ]
  },
  {
   "cell_type": "code",
   "execution_count": null,
   "id": "9c84fe98",
   "metadata": {},
   "outputs": [],
   "source": [
    "item_list = [1, 2, 3, 1, 2, 3]\n",
    "num_items = len(item_list) # 6\n",
    "item_set = set(item_list) # {1, 2, 3}\n",
    "num_distinct_items = len(item_set) # 3\n",
    "distinct_item_list = list(item_set) # [1, 2, 3]"
   ]
  },
  {
   "cell_type": "markdown",
   "id": "1264ce0d",
   "metadata": {},
   "source": [
    "## Control Flow"
   ]
  },
  {
   "cell_type": "code",
   "execution_count": 19,
   "id": "a3b1152a",
   "metadata": {},
   "outputs": [],
   "source": [
    "if 1 > 2:\n",
    "    message = \"if only 1 were greater than two...\"\n",
    "elif 1 > 3:\n",
    "    message = \"elif stands for 'else if'\"\n",
    "else:\n",
    "    message = \"when all else fails use else (if you want to)\""
   ]
  },
  {
   "cell_type": "code",
   "execution_count": null,
   "id": "6b53909c",
   "metadata": {},
   "outputs": [],
   "source": [
    "# You can also write a ternary if-then-else on one line\n",
    "\n",
    "parity = \"even\" if x % 2 == 0 else \"odd\""
   ]
  },
  {
   "cell_type": "markdown",
   "id": "20b46a10",
   "metadata": {},
   "source": [
    "Python has a \"while\" loop:"
   ]
  },
  {
   "cell_type": "code",
   "execution_count": 20,
   "id": "507b3a33",
   "metadata": {},
   "outputs": [
    {
     "name": "stdout",
     "output_type": "stream",
     "text": [
      "0 is less than 10\n",
      "1 is less than 10\n",
      "2 is less than 10\n",
      "3 is less than 10\n",
      "4 is less than 10\n",
      "5 is less than 10\n",
      "6 is less than 10\n",
      "7 is less than 10\n",
      "8 is less than 10\n",
      "9 is less than 10\n"
     ]
    }
   ],
   "source": [
    "x = 0\n",
    "while x < 10:\n",
    "    print(f\"{x} is less than 10\")\n",
    "    x += 1"
   ]
  },
  {
   "cell_type": "markdown",
   "id": "2aed1433",
   "metadata": {},
   "source": [
    "although more often we’ll use \"for\" and \"in\":"
   ]
  },
  {
   "cell_type": "code",
   "execution_count": 21,
   "id": "dbe949c4",
   "metadata": {},
   "outputs": [
    {
     "name": "stdout",
     "output_type": "stream",
     "text": [
      "0 is less than 10\n",
      "1 is less than 10\n",
      "2 is less than 10\n",
      "3 is less than 10\n",
      "4 is less than 10\n",
      "5 is less than 10\n",
      "6 is less than 10\n",
      "7 is less than 10\n",
      "8 is less than 10\n",
      "9 is less than 10\n"
     ]
    }
   ],
   "source": [
    "# range(10) is the numbers 0, 1, ..., 9\n",
    "for x in range(10):\n",
    "    print(f\"{x} is less than 10\")"
   ]
  },
  {
   "cell_type": "markdown",
   "id": "1751d669",
   "metadata": {},
   "source": [
    "If you need more complex logic, you can use \"continue\" and \"break\":"
   ]
  },
  {
   "cell_type": "code",
   "execution_count": 23,
   "id": "4b43e873",
   "metadata": {},
   "outputs": [
    {
     "name": "stdout",
     "output_type": "stream",
     "text": [
      "0\n",
      "1\n",
      "2\n",
      "4\n"
     ]
    }
   ],
   "source": [
    "for x in range(10):\n",
    "    if x == 3:\n",
    "        continue # go immediately to the next iteration\n",
    "    if x == 5:\n",
    "        break # quit the loop entirely\n",
    "    print(x)"
   ]
  },
  {
   "cell_type": "markdown",
   "id": "54d71f9b",
   "metadata": {},
   "source": [
    "## Truthiness"
   ]
  },
  {
   "cell_type": "markdown",
   "id": "161c7817",
   "metadata": {},
   "source": [
    "Booleans in Python work as in most other languages, except that they’re\n",
    "capitalized:"
   ]
  },
  {
   "cell_type": "code",
   "execution_count": 3,
   "id": "13d0bfb7",
   "metadata": {},
   "outputs": [
    {
     "data": {
      "text/plain": [
       "True"
      ]
     },
     "execution_count": 3,
     "metadata": {},
     "output_type": "execute_result"
    }
   ],
   "source": [
    "one_is_less_than_two = 1 < 2 \n",
    "one_is_less_than_two"
   ]
  },
  {
   "cell_type": "code",
   "execution_count": 4,
   "id": "51e5b8b7",
   "metadata": {},
   "outputs": [
    {
     "data": {
      "text/plain": [
       "False"
      ]
     },
     "execution_count": 4,
     "metadata": {},
     "output_type": "execute_result"
    }
   ],
   "source": [
    "true_equals_false = True == False\n",
    "true_equals_false"
   ]
  },
  {
   "cell_type": "markdown",
   "id": "c1ce6d61",
   "metadata": {},
   "source": [
    "Python uses the value **None** to indicate a nonexistent value. It is similar to\n",
    "other languages’ **null**:"
   ]
  },
  {
   "cell_type": "code",
   "execution_count": 6,
   "id": "07fc974f",
   "metadata": {},
   "outputs": [],
   "source": [
    "x = None\n",
    "\n",
    "assert x == None, \"this is the not the Pythonic way to check for None\"\n",
    "assert x is None, \"this is the Pythonic way to check for None\""
   ]
  },
  {
   "cell_type": "markdown",
   "id": "d5202f25",
   "metadata": {},
   "source": [
    "Python lets us use any value where it expects a Boolean. The following\n",
    "are all “falsy”:\n",
    "\n",
    "     --> False\n",
    "     --> None\n",
    "     --> [] (an empty list)\n",
    "     --> {} (an empty dict)\n",
    "     --> \"\"\n",
    "     --> set()\n",
    "     --> 0\n",
    "     --> 0.0"
   ]
  },
  {
   "cell_type": "markdown",
   "id": "ed344c27",
   "metadata": {},
   "source": [
    "Pretty much anything else gets treated as **True**. This allows you to easily\n",
    "use **if** statements to test for empty lists, empty strings, empty dictionaries,\n",
    "and so on. It also sometimes causes tricky bugs if you’re not expecting this\n",
    "behavior:"
   ]
  },
  {
   "cell_type": "code",
   "execution_count": null,
   "id": "9509d95a",
   "metadata": {},
   "outputs": [],
   "source": [
    "s = some_function_that_returns_a_string()\n",
    "if s:\n",
    "    first_char = s[0]\n",
    "else:\n",
    "    first_char = \"\""
   ]
  },
  {
   "cell_type": "markdown",
   "id": "2ae7b954",
   "metadata": {},
   "source": [
    "A shorter way of doing the same is:\n"
   ]
  },
  {
   "cell_type": "code",
   "execution_count": null,
   "id": "162d7d00",
   "metadata": {},
   "outputs": [],
   "source": [
    "first_char = s and s[0]"
   ]
  },
  {
   "cell_type": "markdown",
   "id": "3b3da36b",
   "metadata": {},
   "source": [
    "since and returns its second value when the first is **“truthy,”** and the first\n",
    "value when it’s not. Similarly, if x is either a number or possibly **None**:"
   ]
  },
  {
   "cell_type": "code",
   "execution_count": null,
   "id": "bf44e155",
   "metadata": {},
   "outputs": [],
   "source": [
    "safe_x = x or 0"
   ]
  },
  {
   "cell_type": "markdown",
   "id": "2044f186",
   "metadata": {},
   "source": [
    "is definitely a number, although:"
   ]
  },
  {
   "cell_type": "code",
   "execution_count": null,
   "id": "71ecf869",
   "metadata": {},
   "outputs": [],
   "source": [
    "safe_x = x if x is not None else 0\n"
   ]
  },
  {
   "cell_type": "code",
   "execution_count": null,
   "id": "83b3bf18",
   "metadata": {},
   "outputs": [],
   "source": [
    "is possibly more readable."
   ]
  },
  {
   "cell_type": "markdown",
   "id": "2ff280c9",
   "metadata": {},
   "source": [
    "Python has an all function, which takes an iterable and returns True\n",
    "precisely when every element is truthy, and an any function, which returns\n",
    "True when at least one element is truthy:"
   ]
  },
  {
   "cell_type": "code",
   "execution_count": 2,
   "id": "aa481c61",
   "metadata": {},
   "outputs": [
    {
     "data": {
      "text/plain": [
       "False"
      ]
     },
     "execution_count": 2,
     "metadata": {},
     "output_type": "execute_result"
    }
   ],
   "source": [
    "all([True, 1, {3}]) # True, all are truthy\n",
    "all([True, 1, {}]) # False, {} is falsy\n",
    "any([True, 1, {}]) # True, True is truthy\n",
    "all([]) # True, no falsy elements in the list\n",
    "any([]) # False, no truthy elements in the list"
   ]
  },
  {
   "cell_type": "markdown",
   "id": "17ff75fb",
   "metadata": {},
   "source": [
    "## Sorting"
   ]
  },
  {
   "cell_type": "markdown",
   "id": "46dce4ae",
   "metadata": {},
   "source": [
    "Every Python **list** has a **sort** method that sorts it in place. If you don’t want\n",
    "to mess up your list, you can use the **sorted** function, which returns a new\n",
    "list:"
   ]
  },
  {
   "cell_type": "code",
   "execution_count": 12,
   "id": "ad08efd1",
   "metadata": {},
   "outputs": [],
   "source": [
    "x = [4, 1, 2, 3]\n",
    "y = sorted(x) # y is [1, 2, 3, 4], x is unchanged\n",
    "x.sort() # now x is [1, 2, 3, 4]"
   ]
  },
  {
   "cell_type": "code",
   "execution_count": 13,
   "id": "7e5c2b2b",
   "metadata": {},
   "outputs": [
    {
     "data": {
      "text/plain": [
       "[1, 2, 3, 4]"
      ]
     },
     "execution_count": 13,
     "metadata": {},
     "output_type": "execute_result"
    }
   ],
   "source": [
    "x"
   ]
  },
  {
   "cell_type": "code",
   "execution_count": 14,
   "id": "7472c4c4",
   "metadata": {},
   "outputs": [
    {
     "data": {
      "text/plain": [
       "[1, 2, 3, 4]"
      ]
     },
     "execution_count": 14,
     "metadata": {},
     "output_type": "execute_result"
    }
   ],
   "source": [
    "y"
   ]
  },
  {
   "cell_type": "markdown",
   "id": "a38ec7b0",
   "metadata": {},
   "source": [
    "By default, **sort** (and sorted) sort a list from smallest to largest based on\n",
    "naively comparing the elements to one another."
   ]
  },
  {
   "cell_type": "markdown",
   "id": "fef05dba",
   "metadata": {},
   "source": [
    "If you want elements sorted from largest to smallest, you can specify a\n",
    "**reverse=True** parameter. And instead of comparing the elements\n",
    "themselves, you can compare the results of a function that you specify with\n",
    "key:"
   ]
  },
  {
   "cell_type": "code",
   "execution_count": null,
   "id": "0a967bd0",
   "metadata": {},
   "outputs": [],
   "source": [
    "# sort the list by absolute value from largest to smallest\n",
    "x = sorted([-4, 1, -2, 3], key=abs, reverse=True) # is [-4, 3, -2, 1]"
   ]
  },
  {
   "cell_type": "code",
   "execution_count": null,
   "id": "e2a8bba3",
   "metadata": {},
   "outputs": [],
   "source": [
    "# sort the words and counts from highest count to lowest\n",
    "wc = sorted(word_counts.items(),\n",
    "            key=lambda word_and_count: word_and_count[1],\n",
    "            reverse=True)"
   ]
  },
  {
   "cell_type": "markdown",
   "id": "cf1768e6",
   "metadata": {},
   "source": [
    "## List Comprehensions"
   ]
  },
  {
   "cell_type": "code",
   "execution_count": null,
   "id": "0fb567d5",
   "metadata": {},
   "outputs": [],
   "source": [
    "even_numbers = [x for x in range(5) if x % 2 == 0] # [0, 2, 4]\n",
    "squares = [x * x for x in range(5)] # [0, 1, 4, 9, 16]\n",
    "even_squares = [x * x for x in even_numbers] # [0, 4, 16]"
   ]
  },
  {
   "cell_type": "markdown",
   "id": "71cf62b6",
   "metadata": {},
   "source": [
    "We can similarly turn lists into dictionaries or sets:"
   ]
  },
  {
   "cell_type": "code",
   "execution_count": null,
   "id": "d25ba6cb",
   "metadata": {},
   "outputs": [],
   "source": [
    "square_dict = {x: x * x for x in range(5)} # {0: 0, 1: 1, 2: 4, 3: 9, 4: 16}\n",
    "square_set = {x * x for x in [1, -1]} # {1}\n"
   ]
  },
  {
   "cell_type": "markdown",
   "id": "4d1c7692",
   "metadata": {},
   "source": [
    "If you don’t need the value from the list, it’s common to use an underscore\n",
    "as the variable:"
   ]
  },
  {
   "cell_type": "code",
   "execution_count": null,
   "id": "8a4bdfc0",
   "metadata": {},
   "outputs": [],
   "source": [
    "zeros = [0 for _ in even_numbers] # has the same length as even_numbers"
   ]
  },
  {
   "cell_type": "markdown",
   "id": "1e66ad49",
   "metadata": {},
   "source": [
    "A list comprehension can include multiple **for**s:"
   ]
  },
  {
   "cell_type": "code",
   "execution_count": null,
   "id": "05bc3e6d",
   "metadata": {},
   "outputs": [],
   "source": [
    "pairs = [(x, y)\n",
    "        for x in range(10)\n",
    "        for y in range(10)] # 100 pairs (0,0) (0,1) ... (9,8), (9,9)"
   ]
  },
  {
   "cell_type": "markdown",
   "id": "bc8658d9",
   "metadata": {},
   "source": [
    "and later **for**s can use the results of earlier ones:\n"
   ]
  },
  {
   "cell_type": "code",
   "execution_count": null,
   "id": "bc37efbb",
   "metadata": {},
   "outputs": [],
   "source": [
    "increasing_pairs = [(x, y) # only pairs with x < y,\n",
    "                    for x in range(10) # range(lo, hi) equals\n",
    "                    for y in range(x + 1, 10)] # [lo, lo + 1, ..., hi - 1]"
   ]
  },
  {
   "cell_type": "markdown",
   "id": "c641461a",
   "metadata": {},
   "source": [
    "## Automated Testing and \"assert\""
   ]
  },
  {
   "cell_type": "code",
   "execution_count": null,
   "id": "a0ab3b55",
   "metadata": {},
   "outputs": [],
   "source": [
    "assert 1 + 1 == 2\n",
    "assert 1 + 1 == 2, \"1 + 1 should equal 2 but didn't\""
   ]
  },
  {
   "cell_type": "markdown",
   "id": "b75229b9",
   "metadata": {},
   "source": [
    "As we can see in the second case, we can optionally add a message to be\n",
    "printed if the assertion fails."
   ]
  },
  {
   "cell_type": "markdown",
   "id": "3efed17e",
   "metadata": {},
   "source": [
    "It’s not particularly interesting to assert that 1 + 1 = 2. What’s more\n",
    "interesting is to assert that functions you write are doing what you expect\n",
    "them to:"
   ]
  },
  {
   "cell_type": "code",
   "execution_count": 17,
   "id": "978f5f8a",
   "metadata": {},
   "outputs": [],
   "source": [
    "def smallest_item(xs):\n",
    "    return min(xs)"
   ]
  },
  {
   "cell_type": "code",
   "execution_count": 18,
   "id": "37d207f5",
   "metadata": {},
   "outputs": [],
   "source": [
    "assert smallest_item([10, 20, 5, 40]) == 5"
   ]
  },
  {
   "cell_type": "code",
   "execution_count": 19,
   "id": "89c9d1b5",
   "metadata": {},
   "outputs": [],
   "source": [
    "assert smallest_item([1, 0, -1, 2]) == -1"
   ]
  },
  {
   "cell_type": "code",
   "execution_count": null,
   "id": "d05430bb",
   "metadata": {},
   "outputs": [],
   "source": [
    "Another less common use is to assert things about inputs to functions:"
   ]
  },
  {
   "cell_type": "code",
   "execution_count": null,
   "id": "573f9408",
   "metadata": {},
   "outputs": [],
   "source": [
    "def smallest_item(xs):\n",
    "    assert xs, \"empty list has no smallest item\"\n",
    "    return min(xs)"
   ]
  },
  {
   "cell_type": "markdown",
   "id": "12968c1f",
   "metadata": {},
   "source": [
    "## Object-Oriented Programming\n"
   ]
  },
  {
   "cell_type": "code",
   "execution_count": null,
   "id": "1ee85632",
   "metadata": {},
   "outputs": [],
   "source": [
    "class CountingClicker:\n",
    "    \"\"\"A class can/should have a docstring, just like a function\"\"\"\n"
   ]
  },
  {
   "cell_type": "code",
   "execution_count": null,
   "id": "64b3262d",
   "metadata": {},
   "outputs": [],
   "source": [
    "def __init__(self, count = 0):\n",
    "    self.count = count"
   ]
  },
  {
   "cell_type": "code",
   "execution_count": null,
   "id": "fc046ff9",
   "metadata": {},
   "outputs": [],
   "source": [
    "clicker1 = CountingClicker() # initialized to 0\n",
    "clicker2 = CountingClicker(100) # starts with count=100\n",
    "clicker3 = CountingClicker(count=100) # more explicit way of doing the same"
   ]
  },
  {
   "cell_type": "code",
   "execution_count": null,
   "id": "c6e8c473",
   "metadata": {},
   "outputs": [],
   "source": [
    "def __repr__(self):\n",
    "    return f\"CountingClicker(count={self.count})\""
   ]
  },
  {
   "cell_type": "code",
   "execution_count": null,
   "id": "b11a9173",
   "metadata": {},
   "outputs": [],
   "source": [
    "def click(self, num_times = 1):\n",
    "    \"\"\"Click the clicker some number of times.\"\"\"\n",
    "    self.count += num_times\n",
    "    \n",
    "def read(self):\n",
    "    return self.count\n",
    "\n",
    "def reset(self):\n",
    "    self.count = 0"
   ]
  },
  {
   "cell_type": "code",
   "execution_count": null,
   "id": "395ece8c",
   "metadata": {},
   "outputs": [],
   "source": [
    "clicker = CountingClicker()\n",
    "assert clicker.read() == 0, \"clicker should start with count 0\"\n",
    "clicker.click()\n",
    "clicker.click()\n",
    "assert clicker.read() == 2, \"after two clicks, clicker should have count 2\"\n",
    "clicker.reset()\n",
    "assert clicker.read() == 0, \"after reset, clicker should be back to 0\""
   ]
  },
  {
   "cell_type": "code",
   "execution_count": null,
   "id": "565749d7",
   "metadata": {},
   "outputs": [],
   "source": [
    "# A subclass inherits all the behavior of its parent class.\n",
    "class NoResetClicker(CountingClicker):\n",
    "    # This class has all the same methods as CountingClicker\n",
    "\n",
    "# Except that it has a reset method that does nothing.\n",
    "def reset(self):\n",
    "    pass\n",
    "\n",
    "clicker2 = NoResetClicker()\n",
    "assert clicker2.read() == 0\n",
    "clicker2.click()\n",
    "assert clicker2.read() == 1\n",
    "clicker2.reset()\n",
    "assert clicker2.read() == 1, \"reset shouldn't do anything\""
   ]
  },
  {
   "cell_type": "code",
   "execution_count": null,
   "id": "2e648e30",
   "metadata": {},
   "outputs": [],
   "source": []
  },
  {
   "cell_type": "code",
   "execution_count": null,
   "id": "2d742108",
   "metadata": {},
   "outputs": [],
   "source": []
  },
  {
   "cell_type": "code",
   "execution_count": null,
   "id": "56d81b2c",
   "metadata": {},
   "outputs": [],
   "source": []
  },
  {
   "cell_type": "code",
   "execution_count": null,
   "id": "6fabbebe",
   "metadata": {},
   "outputs": [],
   "source": []
  },
  {
   "cell_type": "code",
   "execution_count": null,
   "id": "0fdd508b",
   "metadata": {},
   "outputs": [],
   "source": []
  },
  {
   "cell_type": "code",
   "execution_count": null,
   "id": "9a30bcab",
   "metadata": {},
   "outputs": [],
   "source": []
  },
  {
   "cell_type": "code",
   "execution_count": null,
   "id": "6362f3e5",
   "metadata": {},
   "outputs": [],
   "source": []
  },
  {
   "cell_type": "code",
   "execution_count": null,
   "id": "d06ca0d2",
   "metadata": {},
   "outputs": [],
   "source": []
  },
  {
   "cell_type": "code",
   "execution_count": null,
   "id": "9ed08817",
   "metadata": {},
   "outputs": [],
   "source": []
  },
  {
   "cell_type": "code",
   "execution_count": null,
   "id": "2ab5ea48",
   "metadata": {},
   "outputs": [],
   "source": []
  },
  {
   "cell_type": "code",
   "execution_count": null,
   "id": "3b165426",
   "metadata": {},
   "outputs": [],
   "source": []
  },
  {
   "cell_type": "code",
   "execution_count": null,
   "id": "5c06f688",
   "metadata": {},
   "outputs": [],
   "source": []
  },
  {
   "cell_type": "code",
   "execution_count": null,
   "id": "0fabc16b",
   "metadata": {},
   "outputs": [],
   "source": []
  },
  {
   "cell_type": "code",
   "execution_count": null,
   "id": "cdea96c7",
   "metadata": {},
   "outputs": [],
   "source": []
  },
  {
   "cell_type": "code",
   "execution_count": null,
   "id": "a54b7f6f",
   "metadata": {},
   "outputs": [],
   "source": []
  },
  {
   "cell_type": "code",
   "execution_count": null,
   "id": "84945cba",
   "metadata": {},
   "outputs": [],
   "source": []
  },
  {
   "cell_type": "code",
   "execution_count": null,
   "id": "846dc48d",
   "metadata": {},
   "outputs": [],
   "source": []
  },
  {
   "cell_type": "code",
   "execution_count": null,
   "id": "edf6f95f",
   "metadata": {},
   "outputs": [],
   "source": []
  },
  {
   "cell_type": "code",
   "execution_count": null,
   "id": "cfe88123",
   "metadata": {},
   "outputs": [],
   "source": []
  },
  {
   "cell_type": "code",
   "execution_count": null,
   "id": "eda47e3b",
   "metadata": {},
   "outputs": [],
   "source": []
  },
  {
   "cell_type": "code",
   "execution_count": null,
   "id": "469d5eb4",
   "metadata": {},
   "outputs": [],
   "source": []
  },
  {
   "cell_type": "code",
   "execution_count": null,
   "id": "059b4451",
   "metadata": {},
   "outputs": [],
   "source": []
  },
  {
   "cell_type": "code",
   "execution_count": null,
   "id": "febdf456",
   "metadata": {},
   "outputs": [],
   "source": []
  },
  {
   "cell_type": "code",
   "execution_count": null,
   "id": "434469c6",
   "metadata": {},
   "outputs": [],
   "source": []
  },
  {
   "cell_type": "code",
   "execution_count": null,
   "id": "021b9bfd",
   "metadata": {},
   "outputs": [],
   "source": []
  },
  {
   "cell_type": "code",
   "execution_count": null,
   "id": "97d7201d",
   "metadata": {},
   "outputs": [],
   "source": []
  },
  {
   "cell_type": "code",
   "execution_count": null,
   "id": "630828ef",
   "metadata": {},
   "outputs": [],
   "source": []
  },
  {
   "cell_type": "code",
   "execution_count": null,
   "id": "d31ee35a",
   "metadata": {},
   "outputs": [],
   "source": []
  },
  {
   "cell_type": "code",
   "execution_count": null,
   "id": "d55af181",
   "metadata": {},
   "outputs": [],
   "source": []
  },
  {
   "cell_type": "code",
   "execution_count": null,
   "id": "b81b6ce7",
   "metadata": {},
   "outputs": [],
   "source": []
  },
  {
   "cell_type": "code",
   "execution_count": null,
   "id": "116fbd1f",
   "metadata": {},
   "outputs": [],
   "source": []
  },
  {
   "cell_type": "code",
   "execution_count": null,
   "id": "28ce5127",
   "metadata": {},
   "outputs": [],
   "source": []
  },
  {
   "cell_type": "code",
   "execution_count": null,
   "id": "e90cf619",
   "metadata": {},
   "outputs": [],
   "source": []
  },
  {
   "cell_type": "code",
   "execution_count": null,
   "id": "ea00246e",
   "metadata": {},
   "outputs": [],
   "source": []
  },
  {
   "cell_type": "code",
   "execution_count": null,
   "id": "0eeb6e76",
   "metadata": {},
   "outputs": [],
   "source": []
  },
  {
   "cell_type": "code",
   "execution_count": null,
   "id": "ce8bb344",
   "metadata": {},
   "outputs": [],
   "source": []
  },
  {
   "cell_type": "code",
   "execution_count": null,
   "id": "ae6cdda4",
   "metadata": {},
   "outputs": [],
   "source": []
  },
  {
   "cell_type": "code",
   "execution_count": null,
   "id": "9d9d0ff2",
   "metadata": {},
   "outputs": [],
   "source": []
  }
 ],
 "metadata": {
  "kernelspec": {
   "display_name": "Python 3 (ipykernel)",
   "language": "python",
   "name": "python3"
  },
  "language_info": {
   "codemirror_mode": {
    "name": "ipython",
    "version": 3
   },
   "file_extension": ".py",
   "mimetype": "text/x-python",
   "name": "python",
   "nbconvert_exporter": "python",
   "pygments_lexer": "ipython3",
   "version": "3.11.1"
  }
 },
 "nbformat": 4,
 "nbformat_minor": 5
}
