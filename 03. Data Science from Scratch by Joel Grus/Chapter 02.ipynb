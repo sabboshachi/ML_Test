{
 "cells": [
  {
   "cell_type": "markdown",
   "id": "b3876239",
   "metadata": {},
   "source": [
    "# A Crash Course in Python"
   ]
  },
  {
   "cell_type": "markdown",
   "id": "349f7384",
   "metadata": {},
   "source": [
    "## Whitespace  Formatting"
   ]
  },
  {
   "cell_type": "markdown",
   "id": "c36d952a",
   "metadata": {},
   "source": [
    "Many languages use curly braces to delimit blocks of code. Python uses\n",
    "indentation:"
   ]
  },
  {
   "cell_type": "code",
   "execution_count": null,
   "id": "49882ee0",
   "metadata": {},
   "outputs": [],
   "source": [
    "# The pound sign marks the start of a comment. Python itself\n",
    "# ignores the comments, but they're helpful for anyone reading the code.\n",
    "\n",
    "for i in [1,2,3,4,5]:\n",
    "    print(i) # first line in \"for i\" block\n",
    "    for j in [1,2,3,4,5]:\n",
    "        print(j) # first line in \"for j\" block\n",
    "        print(i+j) # last line in \"for j\" block\n",
    "    print(i) # last line in \"for i\" block\n",
    "print(\"Done Looping\")"
   ]
  },
  {
   "cell_type": "markdown",
   "id": "64bbeb5e",
   "metadata": {},
   "source": [
    "Whitespace is ignored inside parentheses and brackets, which can be\n",
    "helpful for long-winded computations:\n"
   ]
  },
  {
   "cell_type": "code",
   "execution_count": 3,
   "id": "0d5e0162",
   "metadata": {},
   "outputs": [
    {
     "data": {
      "text/plain": [
       "210"
      ]
     },
     "execution_count": 3,
     "metadata": {},
     "output_type": "execute_result"
    }
   ],
   "source": [
    "long_winded_computation = (1 + 2 + 3 + 4 + 5 + 6 + 7 + 8 + 9 + 10 + 11 + 12 + 13 + 14 + 15 + 16 + 17 + 18 + 19 + 20)\n",
    "\n",
    "long_winded_computation"
   ]
  },
  {
   "cell_type": "markdown",
   "id": "dcd9af45",
   "metadata": {},
   "source": [
    "and for making code easier to read:\n"
   ]
  },
  {
   "cell_type": "code",
   "execution_count": 4,
   "id": "ec8c5c18",
   "metadata": {},
   "outputs": [],
   "source": [
    "list_of_lists = [[1, 2, 3], [4, 5, 6], [7, 8, 9]]"
   ]
  },
  {
   "cell_type": "code",
   "execution_count": 5,
   "id": "0b96bf32",
   "metadata": {},
   "outputs": [],
   "source": [
    "easier_to_read_list_of_lists = [[1, 2, 3],\n",
    "                                [4, 5, 6],\n",
    "                                [7, 8, 9]]"
   ]
  },
  {
   "cell_type": "markdown",
   "id": "9dcae5dc",
   "metadata": {},
   "source": [
    "## Modules"
   ]
  },
  {
   "cell_type": "markdown",
   "id": "fcf1e314",
   "metadata": {},
   "source": [
    "Certain features of Python are not loaded by default. These include both\n",
    "features that are included as part of the language as well as third-party\n",
    "features that you download yourself. In order to use these features, you’ll\n",
    "need to import the modules that contain them.\n",
    "\n",
    "One approach is to simply import the module itself:\n"
   ]
  },
  {
   "cell_type": "code",
   "execution_count": 7,
   "id": "c6f9134c",
   "metadata": {},
   "outputs": [],
   "source": [
    "import re\n",
    "\n",
    "my_regex = re.compile(\"[0-9]+\", re.I)"
   ]
  },
  {
   "cell_type": "markdown",
   "id": "1ea78212",
   "metadata": {},
   "source": [
    "Here, re is the module containing functions and constants for working with\n",
    "regular expressions. After this type of import you must prefix those\n",
    "functions with re. in order to access them.\n"
   ]
  },
  {
   "cell_type": "markdown",
   "id": "236a3925",
   "metadata": {},
   "source": [
    "If you already had a different re in your code, you could use an alias:"
   ]
  },
  {
   "cell_type": "code",
   "execution_count": 6,
   "id": "d9cc082c",
   "metadata": {},
   "outputs": [],
   "source": [
    "import re as regex\n",
    "\n",
    "my_regex = regex.compile(\"[0-9]+\", regex.I)"
   ]
  },
  {
   "cell_type": "markdown",
   "id": "2a0bc7fd",
   "metadata": {},
   "source": [
    "You might also do this if your module has an unwieldy name or if you’re\n",
    "going to be typing it a lot. For example, a standard convention when\n",
    "visualizing data with matplotlib is:\n"
   ]
  },
  {
   "cell_type": "code",
   "execution_count": null,
   "id": "d83f5bfb",
   "metadata": {},
   "outputs": [],
   "source": [
    "import matplotlib.pyplot as plt\n",
    "plt.plot(...)"
   ]
  },
  {
   "cell_type": "markdown",
   "id": "2006f624",
   "metadata": {},
   "source": [
    "If you need a few specific values from a module, you can import them\n",
    "explicitly and use them without qualification:"
   ]
  },
  {
   "cell_type": "code",
   "execution_count": null,
   "id": "50d51ded",
   "metadata": {},
   "outputs": [],
   "source": [
    "from collections import defaultdict, Counter\n",
    "lookup = defaultdict(int)\n",
    "my_counter = Counter()\n"
   ]
  },
  {
   "cell_type": "markdown",
   "id": "0cd31cb3",
   "metadata": {},
   "source": [
    "If you were a bad person, you could import the entire contents of a module\n",
    "into your namespace, which might inadvertently overwrite variables you’ve\n",
    "already defined:"
   ]
  },
  {
   "cell_type": "code",
   "execution_count": null,
   "id": "fc46edb3",
   "metadata": {},
   "outputs": [],
   "source": [
    "match = 10\n",
    "from re import * # uh oh, re has a match function\n",
    "print(match) # \"<function match at 0x10281e6a8>\""
   ]
  },
  {
   "cell_type": "markdown",
   "id": "04c0d1df",
   "metadata": {},
   "source": [
    "## Functions"
   ]
  },
  {
   "cell_type": "markdown",
   "id": "8e3bd865",
   "metadata": {},
   "source": [
    "A function is a rule for taking zero or more inputs and returning a\n",
    "corresponding output. In Python, we typically define functions using def:"
   ]
  },
  {
   "cell_type": "code",
   "execution_count": null,
   "id": "7397202c",
   "metadata": {},
   "outputs": [],
   "source": [
    "def double(x):\n",
    "\"\"\"\n",
    "This is where you put an optional docstring that explains what the\n",
    "function does. For example, this function multiplies its input by 2.\n",
    "\"\"\"\n",
    "return x * 2"
   ]
  },
  {
   "cell_type": "markdown",
   "id": "a4d1899d",
   "metadata": {},
   "source": [
    "Python functions are first-class, which means that we can assign them to\n",
    "variables and pass them into functions just like any other arguments:"
   ]
  },
  {
   "cell_type": "code",
   "execution_count": null,
   "id": "400bb5e3",
   "metadata": {},
   "outputs": [],
   "source": [
    "def apply_to_one(f):\n",
    "\"\"\"Calls the function f with 1 as its argument\"\"\"\n",
    "return f(1)"
   ]
  },
  {
   "cell_type": "code",
   "execution_count": null,
   "id": "62e94b80",
   "metadata": {},
   "outputs": [],
   "source": [
    "my_double = double # refers to the previously defined function\n",
    "x = apply_to_one(my_double) # equals 2"
   ]
  },
  {
   "cell_type": "markdown",
   "id": "8b952814",
   "metadata": {},
   "source": [
    "It is also easy to create short anonymous functions, or lambdas:"
   ]
  },
  {
   "cell_type": "code",
   "execution_count": null,
   "id": "23a6b6a4",
   "metadata": {},
   "outputs": [],
   "source": [
    "y = apply_to_one(lambda x: x + 4) # equals 5"
   ]
  },
  {
   "cell_type": "markdown",
   "id": "d3201df7",
   "metadata": {},
   "source": [
    "You can assign lambdas to variables, although most people will tell you that\n",
    "you should just use def instead:"
   ]
  },
  {
   "cell_type": "code",
   "execution_count": null,
   "id": "2aea5d84",
   "metadata": {},
   "outputs": [],
   "source": [
    "another_double = lambda x: 2 * x # don't do this"
   ]
  },
  {
   "cell_type": "code",
   "execution_count": null,
   "id": "1871ca6d",
   "metadata": {},
   "outputs": [],
   "source": [
    "def another_double(x):\n",
    "\"\"\"Do this instead\"\"\"\n",
    "return 2 * x"
   ]
  },
  {
   "cell_type": "markdown",
   "id": "934d76ca",
   "metadata": {},
   "source": [
    "Function parameters can also be given default arguments, which only need\n",
    "to be specified when you want a value other than the default:"
   ]
  },
  {
   "cell_type": "code",
   "execution_count": null,
   "id": "deef57ba",
   "metadata": {},
   "outputs": [],
   "source": [
    "def my_print(message = \"my default message\"):\n",
    "print(message)\n",
    "\n",
    "my_print(\"hello\") # prints 'hello'\n",
    "my_print() # prints 'my default message'"
   ]
  },
  {
   "cell_type": "markdown",
   "id": "deb337dc",
   "metadata": {},
   "source": [
    "It is sometimes useful to specify arguments by name:"
   ]
  },
  {
   "cell_type": "code",
   "execution_count": 11,
   "id": "a05e2ebc",
   "metadata": {},
   "outputs": [
    {
     "data": {
      "text/plain": [
       "'Joel Grus'"
      ]
     },
     "execution_count": 11,
     "metadata": {},
     "output_type": "execute_result"
    }
   ],
   "source": [
    "def full_name(first = \"What's-his-name\", last = \"Something\"):\n",
    "    return first + \" \" + last\n",
    "\n",
    "full_name(\"Joel\", \"Grus\") # \"Joel Grus\"\n",
    "full_name(\"Joel\") # \"Joel Something\"\n",
    "full_name(last=\"Grus\") # \"What's-his-name Grus\""
   ]
  },
  {
   "cell_type": "markdown",
   "id": "f93d0960",
   "metadata": {},
   "source": [
    "## Strings"
   ]
  },
  {
   "cell_type": "code",
   "execution_count": 1,
   "id": "0f572537",
   "metadata": {},
   "outputs": [],
   "source": [
    "# Example of Strings\n",
    "\n",
    "single_quoted_string = 'data science'\n",
    "double_quoted_string = \"data science\" "
   ]
  },
  {
   "cell_type": "code",
   "execution_count": 10,
   "id": "4dfbc579",
   "metadata": {},
   "outputs": [
    {
     "data": {
      "text/plain": [
       "1"
      ]
     },
     "execution_count": 10,
     "metadata": {},
     "output_type": "execute_result"
    }
   ],
   "source": [
    "# Python uses backslashes to encode special characters. \n",
    "# For example:\n",
    "\n",
    "tab_string = \"\\t\" # represents the tab character is 1\n",
    "len(tab_string)"
   ]
  },
  {
   "cell_type": "code",
   "execution_count": 9,
   "id": "5bf70a6e",
   "metadata": {},
   "outputs": [
    {
     "name": "stdout",
     "output_type": "stream",
     "text": [
      "\t\n"
     ]
    }
   ],
   "source": [
    "print(tab_string)"
   ]
  },
  {
   "cell_type": "markdown",
   "id": "b7f5a3aa",
   "metadata": {},
   "source": [
    "If you want backslashes as backslashes (which you might in Windows\n",
    "directory names or in regular expressions), you can create raw strings using\n",
    "r\"\":"
   ]
  },
  {
   "cell_type": "code",
   "execution_count": 8,
   "id": "33aaef61",
   "metadata": {},
   "outputs": [
    {
     "data": {
      "text/plain": [
       "2"
      ]
     },
     "execution_count": 8,
     "metadata": {},
     "output_type": "execute_result"
    }
   ],
   "source": [
    "not_tab_string = r\"\\t\" # represents the characters '\\' and 't'\n",
    "len(not_tab_string) # is 2"
   ]
  },
  {
   "cell_type": "code",
   "execution_count": 7,
   "id": "e8c06843",
   "metadata": {},
   "outputs": [
    {
     "name": "stdout",
     "output_type": "stream",
     "text": [
      "\\t\n"
     ]
    }
   ],
   "source": [
    "print(not_tab_string)"
   ]
  },
  {
   "cell_type": "markdown",
   "id": "be5ed6ca",
   "metadata": {},
   "source": [
    "You can create multiline strings using three double quotes:"
   ]
  },
  {
   "cell_type": "code",
   "execution_count": null,
   "id": "56e45e51",
   "metadata": {},
   "outputs": [],
   "source": [
    "multi_line_string = \"\"\"This is the first line.\n",
    "and this is the second line\n",
    "and this is the third line\"\"\""
   ]
  },
  {
   "cell_type": "code",
   "execution_count": 12,
   "id": "31d56788",
   "metadata": {},
   "outputs": [],
   "source": [
    "first_name = \"Joel\"\n",
    "last_name = \"Grus\""
   ]
  },
  {
   "cell_type": "code",
   "execution_count": 13,
   "id": "bf6dde2c",
   "metadata": {},
   "outputs": [],
   "source": [
    "full_name1 = first_name + \" \" + last_name # string addition\n",
    "full_name2 = \"{0} {1}\".format(first_name, last_name) # string.format"
   ]
  },
  {
   "cell_type": "markdown",
   "id": "b89655e4",
   "metadata": {},
   "source": [
    "but the f-string way is much less unwieldy:"
   ]
  },
  {
   "cell_type": "code",
   "execution_count": 14,
   "id": "d9b6c901",
   "metadata": {},
   "outputs": [],
   "source": [
    "full_name3 = f\"{first_name} {last_name}\""
   ]
  },
  {
   "cell_type": "code",
   "execution_count": 15,
   "id": "7b91efa8",
   "metadata": {},
   "outputs": [
    {
     "data": {
      "text/plain": [
       "'Joel Grus'"
      ]
     },
     "execution_count": 15,
     "metadata": {},
     "output_type": "execute_result"
    }
   ],
   "source": [
    "full_name1"
   ]
  },
  {
   "cell_type": "code",
   "execution_count": 16,
   "id": "705b76d1",
   "metadata": {},
   "outputs": [
    {
     "data": {
      "text/plain": [
       "'Joel Grus'"
      ]
     },
     "execution_count": 16,
     "metadata": {},
     "output_type": "execute_result"
    }
   ],
   "source": [
    "full_name2"
   ]
  },
  {
   "cell_type": "code",
   "execution_count": 17,
   "id": "6bb83d48",
   "metadata": {},
   "outputs": [
    {
     "data": {
      "text/plain": [
       "'Joel Grus'"
      ]
     },
     "execution_count": 17,
     "metadata": {},
     "output_type": "execute_result"
    }
   ],
   "source": [
    "full_name3"
   ]
  },
  {
   "cell_type": "markdown",
   "id": "4a942658",
   "metadata": {},
   "source": [
    "## Exceptions"
   ]
  },
  {
   "cell_type": "markdown",
   "id": "ccc4035d",
   "metadata": {},
   "source": [
    "When something goes wrong, Python raises an exception. Unhandled,\n",
    "exceptions will cause your program to crash. You can handle them using\n",
    "\"try\" and \"except\":"
   ]
  },
  {
   "cell_type": "code",
   "execution_count": 18,
   "id": "75a645b4",
   "metadata": {},
   "outputs": [
    {
     "name": "stdout",
     "output_type": "stream",
     "text": [
      "cannot divide by zero.\n"
     ]
    }
   ],
   "source": [
    "try:\n",
    "    print(0/0)\n",
    "except ZeroDivisionError:\n",
    "    print(\"cannot divide by zero.\")"
   ]
  },
  {
   "cell_type": "markdown",
   "id": "203e7287",
   "metadata": {},
   "source": [
    "## Lists"
   ]
  },
  {
   "cell_type": "code",
   "execution_count": 33,
   "id": "806986d7",
   "metadata": {},
   "outputs": [],
   "source": [
    "integer_list = [1, 2, 3]\n",
    "heterogeneous_list = [\"string\", 0.1, True]\n",
    "list_of_lists = [integer_list, heterogeneous_list, []]"
   ]
  },
  {
   "cell_type": "code",
   "execution_count": 34,
   "id": "22e459a8",
   "metadata": {},
   "outputs": [],
   "source": [
    "list_length = len(integer_list) # equals 3\n",
    "list_sum = sum(integer_list) # equals 6"
   ]
  },
  {
   "cell_type": "markdown",
   "id": "20e58df0",
   "metadata": {},
   "source": [
    "You can get or set the \"nth\" element of a list with square brackets:\n"
   ]
  },
  {
   "cell_type": "code",
   "execution_count": 35,
   "id": "90be28e4",
   "metadata": {},
   "outputs": [],
   "source": [
    "x = [0, 1, 2, 3, 4, 5, 6, 7, 8, 9]\n",
    "\n",
    "zero = x[0] # equals 0, lists are 0-indexed\n",
    "one = x[1] # equals 1\n",
    "nine = x[-1] # equals 9, 'Pythonic' for last element\n",
    "eight = x[-2] # equals 8, 'Pythonic' for next-to-last element\n",
    "x[0] = -1 # now x is [-1, 1, 2, 3, ..., 9]"
   ]
  },
  {
   "cell_type": "markdown",
   "id": "d1a5ec99",
   "metadata": {},
   "source": [
    "You can also use square brackets to slice lists."
   ]
  },
  {
   "cell_type": "code",
   "execution_count": 36,
   "id": "0fe12ba7",
   "metadata": {},
   "outputs": [],
   "source": [
    "first_three = x[:3] # [-1, 1, 2]\n",
    "three_to_end = x[3:] # [3, 4, ..., 9]\n",
    "one_to_four = x[1:5] # [1, 2, 3, 4]\n",
    "last_three = x[-3:] # [7, 8, 9]\n",
    "without_first_and_last = x[1:-1] # [1, 2, ..., 8]\n",
    "copy_of_x = x[:] # [-1, 1, 2, ..., 9]"
   ]
  },
  {
   "cell_type": "markdown",
   "id": "81d85978",
   "metadata": {},
   "source": [
    "You can similarly slice strings and other “sequential” types."
   ]
  },
  {
   "cell_type": "code",
   "execution_count": 37,
   "id": "d220d998",
   "metadata": {},
   "outputs": [],
   "source": [
    "every_third = x[::3] # [-1, 3, 6, 9]\n",
    "five_to_three = x[5:2:-1] # [5, 4, 3]"
   ]
  },
  {
   "cell_type": "code",
   "execution_count": 38,
   "id": "26ef83bc",
   "metadata": {},
   "outputs": [
    {
     "data": {
      "text/plain": [
       "False"
      ]
     },
     "execution_count": 38,
     "metadata": {},
     "output_type": "execute_result"
    }
   ],
   "source": [
    "1 in [1, 2, 3] # True\n",
    "0 in [1, 2, 3] # False"
   ]
  },
  {
   "cell_type": "markdown",
   "id": "b5515490",
   "metadata": {},
   "source": [
    "It is easy to concatenate lists together. If you want to modify a list in place,\n",
    "you can use extend to add items from another collection:"
   ]
  },
  {
   "cell_type": "code",
   "execution_count": 39,
   "id": "0a22b9c9",
   "metadata": {},
   "outputs": [],
   "source": [
    "x = [1, 2, 3]\n",
    "x.extend([4, 5, 6]) # x is now [1, 2, 3, 4, 5, 6]"
   ]
  },
  {
   "cell_type": "markdown",
   "id": "93f666ce",
   "metadata": {},
   "source": [
    "If you don’t want to modify x, you can use list addition:\n"
   ]
  },
  {
   "cell_type": "code",
   "execution_count": 40,
   "id": "80317b96",
   "metadata": {},
   "outputs": [],
   "source": [
    "x = [1, 2, 3]\n",
    "y = x + [4, 5, 6] # y is [1, 2, 3, 4, 5, 6]; x is unchanged"
   ]
  },
  {
   "cell_type": "code",
   "execution_count": 41,
   "id": "0f625edf",
   "metadata": {},
   "outputs": [],
   "source": [
    "x = [1, 2, 3]\n",
    "x.append(0) # x is now [1, 2, 3, 0]\n",
    "y = x[-1] # equals 0\n",
    "z = len(x) # equals 4"
   ]
  },
  {
   "cell_type": "markdown",
   "id": "548dfbfc",
   "metadata": {},
   "source": [
    "It’s often convenient to unpack lists when you know how many elements\n",
    "they contain:"
   ]
  },
  {
   "cell_type": "code",
   "execution_count": 42,
   "id": "710e6b4a",
   "metadata": {},
   "outputs": [],
   "source": [
    "x, y = [1, 2] # now x is 1, y is 2"
   ]
  },
  {
   "cell_type": "markdown",
   "id": "c721774a",
   "metadata": {},
   "source": [
    "Although you will get a ValueError if you don’t have the same number of\n",
    "elements on both sides.\n",
    "A common idiom is to use an underscore for a value you’re going to throw\n",
    "away:\n"
   ]
  },
  {
   "cell_type": "code",
   "execution_count": 43,
   "id": "50646b57",
   "metadata": {},
   "outputs": [],
   "source": [
    "_,y = [1, 2] # now y == 2, didn't care about the first element"
   ]
  },
  {
   "cell_type": "code",
   "execution_count": 44,
   "id": "450a7b5d",
   "metadata": {},
   "outputs": [
    {
     "data": {
      "text/plain": [
       "2"
      ]
     },
     "execution_count": 44,
     "metadata": {},
     "output_type": "execute_result"
    }
   ],
   "source": [
    "y"
   ]
  },
  {
   "cell_type": "markdown",
   "id": "450992d4",
   "metadata": {},
   "source": [
    "## Tuples"
   ]
  },
  {
   "cell_type": "markdown",
   "id": "e029881c",
   "metadata": {},
   "source": [
    "Tuples are lists’ immutable cousins. Pretty much anything you can do to a\n",
    "list that doesn’t involve modifying it, you can do to a tuple."
   ]
  },
  {
   "cell_type": "code",
   "execution_count": 46,
   "id": "0eeb2410",
   "metadata": {},
   "outputs": [],
   "source": [
    "my_list = [1, 2]\n",
    "my_tuple = (1, 2)\n",
    "other_tuple = 3, 4\n",
    "my_list[1] = 3 # my_list is now [1, 3]"
   ]
  },
  {
   "cell_type": "code",
   "execution_count": 47,
   "id": "162a7d12",
   "metadata": {},
   "outputs": [
    {
     "name": "stdout",
     "output_type": "stream",
     "text": [
      "cannot modify a tuple\n"
     ]
    }
   ],
   "source": [
    "try:\n",
    "    my_tuple[1] = 3\n",
    "except TypeError:\n",
    "    print(\"cannot modify a tuple\")"
   ]
  },
  {
   "cell_type": "markdown",
   "id": "66f84ec3",
   "metadata": {},
   "source": [
    "Tuples are a convenient way to return multiple values from functions:"
   ]
  },
  {
   "cell_type": "code",
   "execution_count": 48,
   "id": "12b63fb6",
   "metadata": {},
   "outputs": [],
   "source": [
    "def sum_and_product(x, y):\n",
    "    return (x + y), (x * y)"
   ]
  },
  {
   "cell_type": "code",
   "execution_count": 49,
   "id": "c6941de9",
   "metadata": {},
   "outputs": [],
   "source": [
    "sp = sum_and_product(2, 3) # sp is (5, 6)\n",
    "s, p = sum_and_product(5, 10) # s is 15, p is 50"
   ]
  },
  {
   "cell_type": "markdown",
   "id": "1460463e",
   "metadata": {},
   "source": [
    "Tuples (and lists) can also be used for multiple assignment:"
   ]
  },
  {
   "cell_type": "code",
   "execution_count": 50,
   "id": "001467f4",
   "metadata": {},
   "outputs": [],
   "source": [
    "x, y = 1, 2 # now x is 1, y is 2\n",
    "x, y = y, x # Pythonic way to swap variables; now x is 2, y is 1"
   ]
  },
  {
   "cell_type": "code",
   "execution_count": 51,
   "id": "cd013d81",
   "metadata": {},
   "outputs": [
    {
     "data": {
      "text/plain": [
       "2"
      ]
     },
     "execution_count": 51,
     "metadata": {},
     "output_type": "execute_result"
    }
   ],
   "source": [
    "x"
   ]
  },
  {
   "cell_type": "code",
   "execution_count": 52,
   "id": "157b14df",
   "metadata": {},
   "outputs": [
    {
     "data": {
      "text/plain": [
       "1"
      ]
     },
     "execution_count": 52,
     "metadata": {},
     "output_type": "execute_result"
    }
   ],
   "source": [
    "y"
   ]
  },
  {
   "cell_type": "markdown",
   "id": "538cd5cf",
   "metadata": {},
   "source": [
    "## Dictionaries"
   ]
  },
  {
   "cell_type": "markdown",
   "id": "3bd50d1a",
   "metadata": {},
   "source": [
    "Another fundamental data structure is a dictionary, which associates values\n",
    "with keys and allows you to quickly retrieve the value corresponding to a\n",
    "given key:"
   ]
  },
  {
   "cell_type": "code",
   "execution_count": 74,
   "id": "b8c758db",
   "metadata": {},
   "outputs": [],
   "source": [
    "empty_dict = {}  #Pythonic\n",
    "empty_dict2 = dict() #Less Pythonic\n",
    "grades = {\"Joel\": 80, \"Tim\": 95}"
   ]
  },
  {
   "cell_type": "code",
   "execution_count": 62,
   "id": "e7e528c9",
   "metadata": {},
   "outputs": [
    {
     "data": {
      "text/plain": [
       "80"
      ]
     },
     "execution_count": 62,
     "metadata": {},
     "output_type": "execute_result"
    }
   ],
   "source": [
    "joels_grade = grades[\"Joel\"]\n",
    "joels_grade"
   ]
  },
  {
   "cell_type": "markdown",
   "id": "6be3f222",
   "metadata": {},
   "source": [
    "But you’ll get a KeyError if you ask for a key that’s not in the dictionary:"
   ]
  },
  {
   "cell_type": "code",
   "execution_count": 63,
   "id": "1a066847",
   "metadata": {},
   "outputs": [
    {
     "name": "stdout",
     "output_type": "stream",
     "text": [
      "no grade for Kate!\n"
     ]
    }
   ],
   "source": [
    "try:\n",
    "    kates_grade = grades[\"Kate\"]\n",
    "except KeyError:\n",
    "    print(\"no grade for Kate!\")\n"
   ]
  },
  {
   "cell_type": "markdown",
   "id": "496f47a9",
   "metadata": {},
   "source": [
    "You can check for the existence of a key using \"in\":\n"
   ]
  },
  {
   "cell_type": "code",
   "execution_count": 64,
   "id": "421cb768",
   "metadata": {},
   "outputs": [],
   "source": [
    "joel_has_grade = \"Joel\" in grades # True\n",
    "kate_has_grade = \"Kate\" in grades # False"
   ]
  },
  {
   "cell_type": "code",
   "execution_count": 65,
   "id": "0303236b",
   "metadata": {},
   "outputs": [
    {
     "data": {
      "text/plain": [
       "True"
      ]
     },
     "execution_count": 65,
     "metadata": {},
     "output_type": "execute_result"
    }
   ],
   "source": [
    "joel_has_grade"
   ]
  },
  {
   "cell_type": "code",
   "execution_count": 66,
   "id": "5edd1c03",
   "metadata": {},
   "outputs": [
    {
     "data": {
      "text/plain": [
       "False"
      ]
     },
     "execution_count": 66,
     "metadata": {},
     "output_type": "execute_result"
    }
   ],
   "source": [
    "kate_has_grade"
   ]
  },
  {
   "cell_type": "markdown",
   "id": "9f4d7226",
   "metadata": {},
   "source": [
    "Dictionaries have a \"get\" method that returns a default value (instead of\n",
    "raising an exception) when you look up a key that’s not in the dictionary:\n"
   ]
  },
  {
   "cell_type": "code",
   "execution_count": 79,
   "id": "e6cca884",
   "metadata": {},
   "outputs": [],
   "source": [
    "joels_grade = grades.get(\"Joel\", 0) # equals 80\n",
    "kates_grade = grades.get(\"Kate\", 0) # equals 0\n",
    "no_ones_grade = grades.get(\"No One\") # default is None"
   ]
  },
  {
   "cell_type": "code",
   "execution_count": 80,
   "id": "a0868811",
   "metadata": {},
   "outputs": [
    {
     "data": {
      "text/plain": [
       "0"
      ]
     },
     "execution_count": 80,
     "metadata": {},
     "output_type": "execute_result"
    }
   ],
   "source": [
    "kates_grade"
   ]
  },
  {
   "cell_type": "code",
   "execution_count": 81,
   "id": "56d10175",
   "metadata": {},
   "outputs": [
    {
     "data": {
      "text/plain": [
       "2"
      ]
     },
     "execution_count": 81,
     "metadata": {},
     "output_type": "execute_result"
    }
   ],
   "source": [
    "num_students = len(grades) \n",
    "num_students"
   ]
  },
  {
   "cell_type": "code",
   "execution_count": 82,
   "id": "af89b87f",
   "metadata": {},
   "outputs": [
    {
     "data": {
      "text/plain": [
       "3"
      ]
     },
     "execution_count": 82,
     "metadata": {},
     "output_type": "execute_result"
    }
   ],
   "source": [
    "grades[\"Tim\"] = 99 # replaces the old value\n",
    "grades[\"Kate\"] = 100 # adds a third entry\n",
    "num_students = len(grades) \n",
    "num_students"
   ]
  },
  {
   "cell_type": "code",
   "execution_count": 83,
   "id": "1547ba8e",
   "metadata": {},
   "outputs": [],
   "source": [
    "tweet = {\n",
    "    \"user\" : \"joelgrus\",\n",
    "    \"text\" : \"Data Science is Awesome\",\n",
    "    \"retweet_count\" : 100,\n",
    "    \"hashtags\" : [\"#data\", \"#science\", \"#datascience\", \"#awesome\", \"#yolo\"]\n",
    "}"
   ]
  },
  {
   "cell_type": "markdown",
   "id": "48a5d84b",
   "metadata": {},
   "source": [
    "Besides looking for specific keys, we can look at all of them:"
   ]
  },
  {
   "cell_type": "code",
   "execution_count": 84,
   "id": "70d76b88",
   "metadata": {},
   "outputs": [],
   "source": [
    "tweet_keys = tweet.keys() # iterable for the keys\n",
    "tweet_values = tweet.values() # iterable for the values\n",
    "tweet_items = tweet.items() # iterable for the (key, value) tuples"
   ]
  },
  {
   "cell_type": "code",
   "execution_count": 85,
   "id": "13aea4b1",
   "metadata": {},
   "outputs": [
    {
     "data": {
      "text/plain": [
       "dict_keys(['user', 'text', 'retweet_count', 'hashtags'])"
      ]
     },
     "execution_count": 85,
     "metadata": {},
     "output_type": "execute_result"
    }
   ],
   "source": [
    "tweet_keys"
   ]
  },
  {
   "cell_type": "code",
   "execution_count": 86,
   "id": "931c7c26",
   "metadata": {},
   "outputs": [
    {
     "data": {
      "text/plain": [
       "dict_values(['joelgrus', 'Data Science is Awesome', 100, ['#data', '#science', '#datascience', '#awesome', '#yolo']])"
      ]
     },
     "execution_count": 86,
     "metadata": {},
     "output_type": "execute_result"
    }
   ],
   "source": [
    "tweet_values"
   ]
  },
  {
   "cell_type": "code",
   "execution_count": 87,
   "id": "57ae5ea3",
   "metadata": {},
   "outputs": [
    {
     "data": {
      "text/plain": [
       "dict_items([('user', 'joelgrus'), ('text', 'Data Science is Awesome'), ('retweet_count', 100), ('hashtags', ['#data', '#science', '#datascience', '#awesome', '#yolo'])])"
      ]
     },
     "execution_count": 87,
     "metadata": {},
     "output_type": "execute_result"
    }
   ],
   "source": [
    "tweet_items"
   ]
  },
  {
   "cell_type": "code",
   "execution_count": null,
   "id": "a7f81a44",
   "metadata": {},
   "outputs": [],
   "source": [
    "\"user\" in tweet_keys # True, but not Pythonic\n",
    "\"user\" in tweet # Pythonic way of checking for keys\n",
    "\"joelgrus\" in tweet_values # True (slow but the only way to check)"
   ]
  },
  {
   "cell_type": "code",
   "execution_count": null,
   "id": "af822007",
   "metadata": {},
   "outputs": [],
   "source": [
    "Dictionary keys must be “hashable”; in particular, you cannot use lists as\n",
    "keys. If you need a multipart key, you should probably use a tuple or figure\n",
    "out a way to turn the key into a string."
   ]
  },
  {
   "cell_type": "markdown",
   "id": "c4ad98a8",
   "metadata": {},
   "source": [
    "### defaultdict"
   ]
  },
  {
   "cell_type": "markdown",
   "id": "83ccc328",
   "metadata": {},
   "source": [
    "Imagine that you’re trying to count the words in a document. An obvious\n",
    "approach is to create a dictionary in which the keys are words and the\n",
    "values are counts. As you check each word, you can increment its count if\n",
    "it’s already in the dictionary and add it to the dictionary if it’s not:"
   ]
  },
  {
   "cell_type": "code",
   "execution_count": 6,
   "id": "0338cdd3",
   "metadata": {},
   "outputs": [],
   "source": [
    "document = \"Hi this is Sabboshachi Sarkar\""
   ]
  },
  {
   "cell_type": "code",
   "execution_count": 100,
   "id": "d2d8fdcb",
   "metadata": {},
   "outputs": [],
   "source": [
    "word_counts = {}\n",
    "for word in document:\n",
    "    if word in word_counts:\n",
    "        word_counts[word] += 1\n",
    "    else:\n",
    "        word_counts[word] = 1\n"
   ]
  },
  {
   "cell_type": "markdown",
   "id": "6a1ff91b",
   "metadata": {},
   "source": [
    "You could also use the “forgiveness is better than permission” approach and\n",
    "just handle the exception from trying to look up a missing key:"
   ]
  },
  {
   "cell_type": "code",
   "execution_count": 101,
   "id": "14e660a3",
   "metadata": {},
   "outputs": [],
   "source": [
    "word_counts = {}\n",
    "for word in document:\n",
    "    try:\n",
    "        word_counts[word] += 1\n",
    "    except KeyError:\n",
    "        word_counts[word] = 1"
   ]
  },
  {
   "cell_type": "code",
   "execution_count": 102,
   "id": "81906112",
   "metadata": {},
   "outputs": [],
   "source": [
    "word_counts = {}\n",
    "for word in document:\n",
    "    previous_count = word_counts.get(word, 0)\n",
    "    word_counts[word] = previous_count + 1\n"
   ]
  },
  {
   "cell_type": "markdown",
   "id": "3b4fb197",
   "metadata": {},
   "source": [
    "Every one of these is slightly unwieldy, which is why defaultdict is\n",
    "useful. A defaultdict is like a regular dictionary, except that when you try\n",
    "to look up a key it doesn’t contain, it first adds a value for it using a zero argument function you provided when you created it. In order to use\n",
    "defaultdicts, you have to import them from collections:"
   ]
  },
  {
   "cell_type": "code",
   "execution_count": 105,
   "id": "f3ffc0dd",
   "metadata": {},
   "outputs": [],
   "source": [
    "from collections import defaultdict\n",
    "word_counts = defaultdict(int) # int() produces 0\n",
    "for word in document:\n",
    "    word_counts[word] += 1"
   ]
  },
  {
   "cell_type": "markdown",
   "id": "9683be57",
   "metadata": {},
   "source": [
    "They can also be useful with list or dict, or even your own functions:\n"
   ]
  },
  {
   "cell_type": "code",
   "execution_count": 106,
   "id": "3aefa3a2",
   "metadata": {},
   "outputs": [],
   "source": [
    "dd_list = defaultdict(list) # list() produces an empty list\n",
    "dd_list[2].append(1) # now dd_list contains {2: [1]}\n",
    "\n",
    "dd_dict = defaultdict(dict) # dict() produces an empty dict\n",
    "dd_dict[\"Joel\"][\"City\"] = \"Seattle\" # {\"Joel\" : {\"City\": Seattle\"}}\n",
    "\n",
    "dd_pair = defaultdict(lambda: [0, 0])\n",
    "dd_pair[2][1] = 1 # now dd_pair contains {2: [0, 1]}"
   ]
  },
  {
   "cell_type": "markdown",
   "id": "1e760139",
   "metadata": {},
   "source": [
    "These will be useful when we’re using dictionaries to “collect” results by\n",
    "some key and don’t want to have to check every time to see if the key exists\n",
    "yet."
   ]
  },
  {
   "cell_type": "markdown",
   "id": "ffad6753",
   "metadata": {},
   "source": [
    "## Counters"
   ]
  },
  {
   "cell_type": "markdown",
   "id": "32a50ef9",
   "metadata": {},
   "source": [
    "A \"Counter\" turns a sequence of values into a defaultdict(int) - like object mapping keys to counts:"
   ]
  },
  {
   "cell_type": "code",
   "execution_count": 1,
   "id": "c19c874b",
   "metadata": {},
   "outputs": [],
   "source": [
    "from collections import Counter"
   ]
  },
  {
   "cell_type": "code",
   "execution_count": 4,
   "id": "0295e074",
   "metadata": {},
   "outputs": [],
   "source": [
    "c = Counter([0,1,2,0]) # c is (bassically) {0:2, 1:1, 2:1}"
   ]
  },
  {
   "cell_type": "markdown",
   "id": "34a6f780",
   "metadata": {},
   "source": [
    "This gives us a very simple way to solve our word_counts problem:\n"
   ]
  },
  {
   "cell_type": "code",
   "execution_count": 7,
   "id": "bc019dd9",
   "metadata": {},
   "outputs": [],
   "source": [
    "# recall, document is a list of words\n",
    "word_counts = Counter(document)"
   ]
  },
  {
   "cell_type": "code",
   "execution_count": 8,
   "id": "e728ddbb",
   "metadata": {},
   "outputs": [
    {
     "data": {
      "text/plain": [
       "Counter({'H': 1,\n",
       "         'i': 4,\n",
       "         ' ': 4,\n",
       "         't': 1,\n",
       "         'h': 3,\n",
       "         's': 3,\n",
       "         'S': 2,\n",
       "         'a': 4,\n",
       "         'b': 2,\n",
       "         'o': 1,\n",
       "         'c': 1,\n",
       "         'r': 2,\n",
       "         'k': 1})"
      ]
     },
     "execution_count": 8,
     "metadata": {},
     "output_type": "execute_result"
    }
   ],
   "source": [
    "word_counts"
   ]
  },
  {
   "cell_type": "markdown",
   "id": "f80507ab",
   "metadata": {},
   "source": [
    "A Counter instance has a \"most_common\" method that is frequently useful:"
   ]
  },
  {
   "cell_type": "code",
   "execution_count": 11,
   "id": "1e54a928",
   "metadata": {},
   "outputs": [
    {
     "name": "stdout",
     "output_type": "stream",
     "text": [
      "i 4\n",
      "  4\n",
      "a 4\n",
      "h 3\n",
      "s 3\n"
     ]
    }
   ],
   "source": [
    "# print the 10 most common words and their counts\n",
    "for word, count in word_counts.most_common(5):\n",
    "    print(word, count)\n"
   ]
  },
  {
   "cell_type": "markdown",
   "id": "f7d53e6a",
   "metadata": {},
   "source": [
    "## Sets"
   ]
  },
  {
   "cell_type": "markdown",
   "id": "e2542245",
   "metadata": {},
   "source": [
    "Another useful data structure is set, which represents a collection of distinct\n",
    "elements. You can define a set by listing its elements between curly braces:"
   ]
  },
  {
   "cell_type": "code",
   "execution_count": 12,
   "id": "d63381a1",
   "metadata": {},
   "outputs": [],
   "source": [
    "primes_below_10 = {2, 3, 5, 7}"
   ]
  },
  {
   "cell_type": "markdown",
   "id": "e44b9b80",
   "metadata": {},
   "source": [
    "However, that doesn’t work for empty sets, as {} already means “empty\n",
    "dict.” In that case you’ll need to use set() itself:"
   ]
  },
  {
   "cell_type": "code",
   "execution_count": 16,
   "id": "1a0ca749",
   "metadata": {},
   "outputs": [],
   "source": [
    "s = set()\n",
    "s.add(1) # s is now {1}\n",
    "s.add(2) # s is now {1, 2}\n",
    "s.add(2) # s is still {1, 2}\n",
    "x = len(s) # equals 2\n",
    "y = 2 in s # equals True\n",
    "z = 3 in s # equals False"
   ]
  },
  {
   "cell_type": "markdown",
   "id": "6dd2ff07",
   "metadata": {},
   "source": [
    "We’ll use sets for two main reasons. The first is that \"in\" is a very fast\n",
    "operation on sets. If we have a large collection of items that we want to use\n",
    "for a membership test, a set is more appropriate than a list:"
   ]
  },
  {
   "cell_type": "code",
   "execution_count": null,
   "id": "b5c1d482",
   "metadata": {},
   "outputs": [],
   "source": [
    "stopwords_list = [\"a\", \"an\", \"at\"] + hundreds_of_other_words + [\"yet\", \"you\"]\n",
    "\n",
    "\"zip\" in stopwords_list # False, but have to check every element\n",
    "\n",
    "stopwords_set = set(stopwords_list)\n",
    "\"zip\" in stopwords_set # very fast to check"
   ]
  },
  {
   "cell_type": "markdown",
   "id": "743a21c9",
   "metadata": {},
   "source": [
    "The second reason is to find the distinct items in a collection:\n"
   ]
  },
  {
   "cell_type": "code",
   "execution_count": null,
   "id": "9c84fe98",
   "metadata": {},
   "outputs": [],
   "source": [
    "item_list = [1, 2, 3, 1, 2, 3]\n",
    "num_items = len(item_list) # 6\n",
    "item_set = set(item_list) # {1, 2, 3}\n",
    "num_distinct_items = len(item_set) # 3\n",
    "distinct_item_list = list(item_set) # [1, 2, 3]"
   ]
  },
  {
   "cell_type": "markdown",
   "id": "1264ce0d",
   "metadata": {},
   "source": [
    "## Control Flow"
   ]
  },
  {
   "cell_type": "code",
   "execution_count": 19,
   "id": "a3b1152a",
   "metadata": {},
   "outputs": [],
   "source": [
    "if 1 > 2:\n",
    "    message = \"if only 1 were greater than two...\"\n",
    "elif 1 > 3:\n",
    "    message = \"elif stands for 'else if'\"\n",
    "else:\n",
    "    message = \"when all else fails use else (if you want to)\""
   ]
  },
  {
   "cell_type": "code",
   "execution_count": null,
   "id": "6b53909c",
   "metadata": {},
   "outputs": [],
   "source": [
    "# You can also write a ternary if-then-else on one line\n",
    "\n",
    "parity = \"even\" if x % 2 == 0 else \"odd\""
   ]
  },
  {
   "cell_type": "markdown",
   "id": "20b46a10",
   "metadata": {},
   "source": [
    "Python has a \"while\" loop:"
   ]
  },
  {
   "cell_type": "code",
   "execution_count": 20,
   "id": "507b3a33",
   "metadata": {},
   "outputs": [
    {
     "name": "stdout",
     "output_type": "stream",
     "text": [
      "0 is less than 10\n",
      "1 is less than 10\n",
      "2 is less than 10\n",
      "3 is less than 10\n",
      "4 is less than 10\n",
      "5 is less than 10\n",
      "6 is less than 10\n",
      "7 is less than 10\n",
      "8 is less than 10\n",
      "9 is less than 10\n"
     ]
    }
   ],
   "source": [
    "x = 0\n",
    "while x < 10:\n",
    "    print(f\"{x} is less than 10\")\n",
    "    x += 1"
   ]
  },
  {
   "cell_type": "markdown",
   "id": "2aed1433",
   "metadata": {},
   "source": [
    "although more often we’ll use \"for\" and \"in\":"
   ]
  },
  {
   "cell_type": "code",
   "execution_count": 21,
   "id": "dbe949c4",
   "metadata": {},
   "outputs": [
    {
     "name": "stdout",
     "output_type": "stream",
     "text": [
      "0 is less than 10\n",
      "1 is less than 10\n",
      "2 is less than 10\n",
      "3 is less than 10\n",
      "4 is less than 10\n",
      "5 is less than 10\n",
      "6 is less than 10\n",
      "7 is less than 10\n",
      "8 is less than 10\n",
      "9 is less than 10\n"
     ]
    }
   ],
   "source": [
    "# range(10) is the numbers 0, 1, ..., 9\n",
    "for x in range(10):\n",
    "    print(f\"{x} is less than 10\")"
   ]
  },
  {
   "cell_type": "markdown",
   "id": "1751d669",
   "metadata": {},
   "source": [
    "If you need more complex logic, you can use \"continue\" and \"break\":"
   ]
  },
  {
   "cell_type": "code",
   "execution_count": 23,
   "id": "4b43e873",
   "metadata": {},
   "outputs": [
    {
     "name": "stdout",
     "output_type": "stream",
     "text": [
      "0\n",
      "1\n",
      "2\n",
      "4\n"
     ]
    }
   ],
   "source": [
    "for x in range(10):\n",
    "    if x == 3:\n",
    "        continue # go immediately to the next iteration\n",
    "    if x == 5:\n",
    "        break # quit the loop entirely\n",
    "    print(x)"
   ]
  },
  {
   "cell_type": "code",
   "execution_count": null,
   "id": "d6a1fe94",
   "metadata": {},
   "outputs": [],
   "source": []
  },
  {
   "cell_type": "code",
   "execution_count": null,
   "id": "5f3fd511",
   "metadata": {},
   "outputs": [],
   "source": []
  },
  {
   "cell_type": "code",
   "execution_count": null,
   "id": "13d0bfb7",
   "metadata": {},
   "outputs": [],
   "source": []
  },
  {
   "cell_type": "code",
   "execution_count": null,
   "id": "64b33cc2",
   "metadata": {},
   "outputs": [],
   "source": []
  },
  {
   "cell_type": "code",
   "execution_count": null,
   "id": "51e5b8b7",
   "metadata": {},
   "outputs": [],
   "source": []
  },
  {
   "cell_type": "code",
   "execution_count": null,
   "id": "f83b1134",
   "metadata": {},
   "outputs": [],
   "source": []
  },
  {
   "cell_type": "code",
   "execution_count": null,
   "id": "07fc974f",
   "metadata": {},
   "outputs": [],
   "source": []
  },
  {
   "cell_type": "code",
   "execution_count": null,
   "id": "dd735da0",
   "metadata": {},
   "outputs": [],
   "source": []
  },
  {
   "cell_type": "code",
   "execution_count": null,
   "id": "6e3329b2",
   "metadata": {},
   "outputs": [],
   "source": []
  },
  {
   "cell_type": "code",
   "execution_count": null,
   "id": "c21c8bf8",
   "metadata": {},
   "outputs": [],
   "source": []
  },
  {
   "cell_type": "code",
   "execution_count": null,
   "id": "9509d95a",
   "metadata": {},
   "outputs": [],
   "source": []
  },
  {
   "cell_type": "code",
   "execution_count": null,
   "id": "b570be7f",
   "metadata": {},
   "outputs": [],
   "source": []
  },
  {
   "cell_type": "code",
   "execution_count": null,
   "id": "162d7d00",
   "metadata": {},
   "outputs": [],
   "source": []
  },
  {
   "cell_type": "code",
   "execution_count": null,
   "id": "da746e57",
   "metadata": {},
   "outputs": [],
   "source": []
  },
  {
   "cell_type": "code",
   "execution_count": null,
   "id": "bf44e155",
   "metadata": {},
   "outputs": [],
   "source": []
  },
  {
   "cell_type": "code",
   "execution_count": null,
   "id": "d92e5155",
   "metadata": {},
   "outputs": [],
   "source": []
  },
  {
   "cell_type": "code",
   "execution_count": null,
   "id": "71ecf869",
   "metadata": {},
   "outputs": [],
   "source": []
  },
  {
   "cell_type": "code",
   "execution_count": null,
   "id": "83b3bf18",
   "metadata": {},
   "outputs": [],
   "source": []
  },
  {
   "cell_type": "code",
   "execution_count": null,
   "id": "3bbed851",
   "metadata": {},
   "outputs": [],
   "source": []
  },
  {
   "cell_type": "code",
   "execution_count": null,
   "id": "f4678662",
   "metadata": {},
   "outputs": [],
   "source": []
  },
  {
   "cell_type": "code",
   "execution_count": null,
   "id": "92dfe064",
   "metadata": {},
   "outputs": [],
   "source": []
  },
  {
   "cell_type": "code",
   "execution_count": null,
   "id": "62fd179b",
   "metadata": {},
   "outputs": [],
   "source": []
  },
  {
   "cell_type": "code",
   "execution_count": null,
   "id": "5ba3fccf",
   "metadata": {},
   "outputs": [],
   "source": []
  },
  {
   "cell_type": "code",
   "execution_count": null,
   "id": "7e5c2b2b",
   "metadata": {},
   "outputs": [],
   "source": []
  },
  {
   "cell_type": "code",
   "execution_count": null,
   "id": "7472c4c4",
   "metadata": {},
   "outputs": [],
   "source": []
  },
  {
   "cell_type": "code",
   "execution_count": null,
   "id": "62093cb6",
   "metadata": {},
   "outputs": [],
   "source": []
  },
  {
   "cell_type": "code",
   "execution_count": null,
   "id": "3e7c6f6c",
   "metadata": {},
   "outputs": [],
   "source": []
  }
 ],
 "metadata": {
  "kernelspec": {
   "display_name": "Python 3 (ipykernel)",
   "language": "python",
   "name": "python3"
  },
  "language_info": {
   "codemirror_mode": {
    "name": "ipython",
    "version": 3
   },
   "file_extension": ".py",
   "mimetype": "text/x-python",
   "name": "python",
   "nbconvert_exporter": "python",
   "pygments_lexer": "ipython3",
   "version": "3.11.1"
  }
 },
 "nbformat": 4,
 "nbformat_minor": 5
}
