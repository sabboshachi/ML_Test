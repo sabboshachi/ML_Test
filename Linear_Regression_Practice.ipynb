{
  "nbformat": 4,
  "nbformat_minor": 0,
  "metadata": {
    "colab": {
      "name": "Linear_Regression_Practice.ipynb",
      "provenance": [],
      "authorship_tag": "ABX9TyNkMXpweXC26P95ch02/2I0",
      "include_colab_link": true
    },
    "kernelspec": {
      "name": "python3",
      "display_name": "Python 3"
    },
    "language_info": {
      "name": "python"
    }
  },
  "cells": [
    {
      "cell_type": "markdown",
      "metadata": {
        "id": "view-in-github",
        "colab_type": "text"
      },
      "source": [
        "<a href=\"https://colab.research.google.com/github/sabboshachi/ML_Test/blob/main/Linear_Regression_Practice.ipynb\" target=\"_parent\"><img src=\"https://colab.research.google.com/assets/colab-badge.svg\" alt=\"Open In Colab\"/></a>"
      ]
    },
    {
      "cell_type": "code",
      "metadata": {
        "colab": {
          "base_uri": "https://localhost:8080/"
        },
        "id": "r4PyLOaoxtRo",
        "outputId": "9b7a74a3-e1df-4390-ffa9-216e2effe012"
      },
      "source": [
        "from google.colab import drive\n",
        "drive.mount('/content/drive')\n"
      ],
      "execution_count": 1,
      "outputs": [
        {
          "output_type": "stream",
          "text": [
            "Mounted at /content/drive\n"
          ],
          "name": "stdout"
        }
      ]
    },
    {
      "cell_type": "code",
      "metadata": {
        "colab": {
          "base_uri": "https://localhost:8080/",
          "height": 419
        },
        "id": "LiiMorPezVk8",
        "outputId": "c7008b47-981b-4c4a-ec59-16c64d0ead71"
      },
      "source": [
        "import pandas as pd\n",
        "\n",
        "df=pd.read_csv('/content/drive/MyDrive/Machine Learning (Munna Vai)/Datsets/california_housing_test.csv') #we are reading the data set with the help of pandas\n",
        "\n",
        "df # running the read and loaded dataset"
      ],
      "execution_count": 7,
      "outputs": [
        {
          "output_type": "execute_result",
          "data": {
            "text/html": [
              "<div>\n",
              "<style scoped>\n",
              "    .dataframe tbody tr th:only-of-type {\n",
              "        vertical-align: middle;\n",
              "    }\n",
              "\n",
              "    .dataframe tbody tr th {\n",
              "        vertical-align: top;\n",
              "    }\n",
              "\n",
              "    .dataframe thead th {\n",
              "        text-align: right;\n",
              "    }\n",
              "</style>\n",
              "<table border=\"1\" class=\"dataframe\">\n",
              "  <thead>\n",
              "    <tr style=\"text-align: right;\">\n",
              "      <th></th>\n",
              "      <th>longitude</th>\n",
              "      <th>latitude</th>\n",
              "      <th>housing_median_age</th>\n",
              "      <th>total_rooms</th>\n",
              "      <th>total_bedrooms</th>\n",
              "      <th>population</th>\n",
              "      <th>households</th>\n",
              "      <th>median_income</th>\n",
              "      <th>median_house_value</th>\n",
              "    </tr>\n",
              "  </thead>\n",
              "  <tbody>\n",
              "    <tr>\n",
              "      <th>0</th>\n",
              "      <td>-122.05</td>\n",
              "      <td>37.37</td>\n",
              "      <td>27.0</td>\n",
              "      <td>3885.0</td>\n",
              "      <td>661.0</td>\n",
              "      <td>1537.0</td>\n",
              "      <td>606.0</td>\n",
              "      <td>6.6085</td>\n",
              "      <td>344700.0</td>\n",
              "    </tr>\n",
              "    <tr>\n",
              "      <th>1</th>\n",
              "      <td>-118.30</td>\n",
              "      <td>34.26</td>\n",
              "      <td>43.0</td>\n",
              "      <td>1510.0</td>\n",
              "      <td>310.0</td>\n",
              "      <td>809.0</td>\n",
              "      <td>277.0</td>\n",
              "      <td>3.5990</td>\n",
              "      <td>176500.0</td>\n",
              "    </tr>\n",
              "    <tr>\n",
              "      <th>2</th>\n",
              "      <td>-117.81</td>\n",
              "      <td>33.78</td>\n",
              "      <td>27.0</td>\n",
              "      <td>3589.0</td>\n",
              "      <td>507.0</td>\n",
              "      <td>1484.0</td>\n",
              "      <td>495.0</td>\n",
              "      <td>5.7934</td>\n",
              "      <td>270500.0</td>\n",
              "    </tr>\n",
              "    <tr>\n",
              "      <th>3</th>\n",
              "      <td>-118.36</td>\n",
              "      <td>33.82</td>\n",
              "      <td>28.0</td>\n",
              "      <td>67.0</td>\n",
              "      <td>15.0</td>\n",
              "      <td>49.0</td>\n",
              "      <td>11.0</td>\n",
              "      <td>6.1359</td>\n",
              "      <td>330000.0</td>\n",
              "    </tr>\n",
              "    <tr>\n",
              "      <th>4</th>\n",
              "      <td>-119.67</td>\n",
              "      <td>36.33</td>\n",
              "      <td>19.0</td>\n",
              "      <td>1241.0</td>\n",
              "      <td>244.0</td>\n",
              "      <td>850.0</td>\n",
              "      <td>237.0</td>\n",
              "      <td>2.9375</td>\n",
              "      <td>81700.0</td>\n",
              "    </tr>\n",
              "    <tr>\n",
              "      <th>...</th>\n",
              "      <td>...</td>\n",
              "      <td>...</td>\n",
              "      <td>...</td>\n",
              "      <td>...</td>\n",
              "      <td>...</td>\n",
              "      <td>...</td>\n",
              "      <td>...</td>\n",
              "      <td>...</td>\n",
              "      <td>...</td>\n",
              "    </tr>\n",
              "    <tr>\n",
              "      <th>2995</th>\n",
              "      <td>-119.86</td>\n",
              "      <td>34.42</td>\n",
              "      <td>23.0</td>\n",
              "      <td>1450.0</td>\n",
              "      <td>642.0</td>\n",
              "      <td>1258.0</td>\n",
              "      <td>607.0</td>\n",
              "      <td>1.1790</td>\n",
              "      <td>225000.0</td>\n",
              "    </tr>\n",
              "    <tr>\n",
              "      <th>2996</th>\n",
              "      <td>-118.14</td>\n",
              "      <td>34.06</td>\n",
              "      <td>27.0</td>\n",
              "      <td>5257.0</td>\n",
              "      <td>1082.0</td>\n",
              "      <td>3496.0</td>\n",
              "      <td>1036.0</td>\n",
              "      <td>3.3906</td>\n",
              "      <td>237200.0</td>\n",
              "    </tr>\n",
              "    <tr>\n",
              "      <th>2997</th>\n",
              "      <td>-119.70</td>\n",
              "      <td>36.30</td>\n",
              "      <td>10.0</td>\n",
              "      <td>956.0</td>\n",
              "      <td>201.0</td>\n",
              "      <td>693.0</td>\n",
              "      <td>220.0</td>\n",
              "      <td>2.2895</td>\n",
              "      <td>62000.0</td>\n",
              "    </tr>\n",
              "    <tr>\n",
              "      <th>2998</th>\n",
              "      <td>-117.12</td>\n",
              "      <td>34.10</td>\n",
              "      <td>40.0</td>\n",
              "      <td>96.0</td>\n",
              "      <td>14.0</td>\n",
              "      <td>46.0</td>\n",
              "      <td>14.0</td>\n",
              "      <td>3.2708</td>\n",
              "      <td>162500.0</td>\n",
              "    </tr>\n",
              "    <tr>\n",
              "      <th>2999</th>\n",
              "      <td>-119.63</td>\n",
              "      <td>34.42</td>\n",
              "      <td>42.0</td>\n",
              "      <td>1765.0</td>\n",
              "      <td>263.0</td>\n",
              "      <td>753.0</td>\n",
              "      <td>260.0</td>\n",
              "      <td>8.5608</td>\n",
              "      <td>500001.0</td>\n",
              "    </tr>\n",
              "  </tbody>\n",
              "</table>\n",
              "<p>3000 rows × 9 columns</p>\n",
              "</div>"
            ],
            "text/plain": [
              "      longitude  latitude  ...  median_income  median_house_value\n",
              "0       -122.05     37.37  ...         6.6085            344700.0\n",
              "1       -118.30     34.26  ...         3.5990            176500.0\n",
              "2       -117.81     33.78  ...         5.7934            270500.0\n",
              "3       -118.36     33.82  ...         6.1359            330000.0\n",
              "4       -119.67     36.33  ...         2.9375             81700.0\n",
              "...         ...       ...  ...            ...                 ...\n",
              "2995    -119.86     34.42  ...         1.1790            225000.0\n",
              "2996    -118.14     34.06  ...         3.3906            237200.0\n",
              "2997    -119.70     36.30  ...         2.2895             62000.0\n",
              "2998    -117.12     34.10  ...         3.2708            162500.0\n",
              "2999    -119.63     34.42  ...         8.5608            500001.0\n",
              "\n",
              "[3000 rows x 9 columns]"
            ]
          },
          "metadata": {
            "tags": []
          },
          "execution_count": 7
        }
      ]
    },
    {
      "cell_type": "code",
      "metadata": {
        "colab": {
          "base_uri": "https://localhost:8080/",
          "height": 359
        },
        "id": "4KMr6V9bzbUb",
        "outputId": "cbfb26ec-dc4e-49e5-cafc-b3c6b14e184d"
      },
      "source": [
        "df.head(10) # selecting how many values from the dataset we want to see. Here we set a number of 10 to view 10 values from the dataset"
      ],
      "execution_count": 9,
      "outputs": [
        {
          "output_type": "execute_result",
          "data": {
            "text/html": [
              "<div>\n",
              "<style scoped>\n",
              "    .dataframe tbody tr th:only-of-type {\n",
              "        vertical-align: middle;\n",
              "    }\n",
              "\n",
              "    .dataframe tbody tr th {\n",
              "        vertical-align: top;\n",
              "    }\n",
              "\n",
              "    .dataframe thead th {\n",
              "        text-align: right;\n",
              "    }\n",
              "</style>\n",
              "<table border=\"1\" class=\"dataframe\">\n",
              "  <thead>\n",
              "    <tr style=\"text-align: right;\">\n",
              "      <th></th>\n",
              "      <th>longitude</th>\n",
              "      <th>latitude</th>\n",
              "      <th>housing_median_age</th>\n",
              "      <th>total_rooms</th>\n",
              "      <th>total_bedrooms</th>\n",
              "      <th>population</th>\n",
              "      <th>households</th>\n",
              "      <th>median_income</th>\n",
              "      <th>median_house_value</th>\n",
              "    </tr>\n",
              "  </thead>\n",
              "  <tbody>\n",
              "    <tr>\n",
              "      <th>0</th>\n",
              "      <td>-122.05</td>\n",
              "      <td>37.37</td>\n",
              "      <td>27.0</td>\n",
              "      <td>3885.0</td>\n",
              "      <td>661.0</td>\n",
              "      <td>1537.0</td>\n",
              "      <td>606.0</td>\n",
              "      <td>6.6085</td>\n",
              "      <td>344700.0</td>\n",
              "    </tr>\n",
              "    <tr>\n",
              "      <th>1</th>\n",
              "      <td>-118.30</td>\n",
              "      <td>34.26</td>\n",
              "      <td>43.0</td>\n",
              "      <td>1510.0</td>\n",
              "      <td>310.0</td>\n",
              "      <td>809.0</td>\n",
              "      <td>277.0</td>\n",
              "      <td>3.5990</td>\n",
              "      <td>176500.0</td>\n",
              "    </tr>\n",
              "    <tr>\n",
              "      <th>2</th>\n",
              "      <td>-117.81</td>\n",
              "      <td>33.78</td>\n",
              "      <td>27.0</td>\n",
              "      <td>3589.0</td>\n",
              "      <td>507.0</td>\n",
              "      <td>1484.0</td>\n",
              "      <td>495.0</td>\n",
              "      <td>5.7934</td>\n",
              "      <td>270500.0</td>\n",
              "    </tr>\n",
              "    <tr>\n",
              "      <th>3</th>\n",
              "      <td>-118.36</td>\n",
              "      <td>33.82</td>\n",
              "      <td>28.0</td>\n",
              "      <td>67.0</td>\n",
              "      <td>15.0</td>\n",
              "      <td>49.0</td>\n",
              "      <td>11.0</td>\n",
              "      <td>6.1359</td>\n",
              "      <td>330000.0</td>\n",
              "    </tr>\n",
              "    <tr>\n",
              "      <th>4</th>\n",
              "      <td>-119.67</td>\n",
              "      <td>36.33</td>\n",
              "      <td>19.0</td>\n",
              "      <td>1241.0</td>\n",
              "      <td>244.0</td>\n",
              "      <td>850.0</td>\n",
              "      <td>237.0</td>\n",
              "      <td>2.9375</td>\n",
              "      <td>81700.0</td>\n",
              "    </tr>\n",
              "    <tr>\n",
              "      <th>5</th>\n",
              "      <td>-119.56</td>\n",
              "      <td>36.51</td>\n",
              "      <td>37.0</td>\n",
              "      <td>1018.0</td>\n",
              "      <td>213.0</td>\n",
              "      <td>663.0</td>\n",
              "      <td>204.0</td>\n",
              "      <td>1.6635</td>\n",
              "      <td>67000.0</td>\n",
              "    </tr>\n",
              "    <tr>\n",
              "      <th>6</th>\n",
              "      <td>-121.43</td>\n",
              "      <td>38.63</td>\n",
              "      <td>43.0</td>\n",
              "      <td>1009.0</td>\n",
              "      <td>225.0</td>\n",
              "      <td>604.0</td>\n",
              "      <td>218.0</td>\n",
              "      <td>1.6641</td>\n",
              "      <td>67000.0</td>\n",
              "    </tr>\n",
              "    <tr>\n",
              "      <th>7</th>\n",
              "      <td>-120.65</td>\n",
              "      <td>35.48</td>\n",
              "      <td>19.0</td>\n",
              "      <td>2310.0</td>\n",
              "      <td>471.0</td>\n",
              "      <td>1341.0</td>\n",
              "      <td>441.0</td>\n",
              "      <td>3.2250</td>\n",
              "      <td>166900.0</td>\n",
              "    </tr>\n",
              "    <tr>\n",
              "      <th>8</th>\n",
              "      <td>-122.84</td>\n",
              "      <td>38.40</td>\n",
              "      <td>15.0</td>\n",
              "      <td>3080.0</td>\n",
              "      <td>617.0</td>\n",
              "      <td>1446.0</td>\n",
              "      <td>599.0</td>\n",
              "      <td>3.6696</td>\n",
              "      <td>194400.0</td>\n",
              "    </tr>\n",
              "    <tr>\n",
              "      <th>9</th>\n",
              "      <td>-118.02</td>\n",
              "      <td>34.08</td>\n",
              "      <td>31.0</td>\n",
              "      <td>2402.0</td>\n",
              "      <td>632.0</td>\n",
              "      <td>2830.0</td>\n",
              "      <td>603.0</td>\n",
              "      <td>2.3333</td>\n",
              "      <td>164200.0</td>\n",
              "    </tr>\n",
              "  </tbody>\n",
              "</table>\n",
              "</div>"
            ],
            "text/plain": [
              "   longitude  latitude  ...  median_income  median_house_value\n",
              "0    -122.05     37.37  ...         6.6085            344700.0\n",
              "1    -118.30     34.26  ...         3.5990            176500.0\n",
              "2    -117.81     33.78  ...         5.7934            270500.0\n",
              "3    -118.36     33.82  ...         6.1359            330000.0\n",
              "4    -119.67     36.33  ...         2.9375             81700.0\n",
              "5    -119.56     36.51  ...         1.6635             67000.0\n",
              "6    -121.43     38.63  ...         1.6641             67000.0\n",
              "7    -120.65     35.48  ...         3.2250            166900.0\n",
              "8    -122.84     38.40  ...         3.6696            194400.0\n",
              "9    -118.02     34.08  ...         2.3333            164200.0\n",
              "\n",
              "[10 rows x 9 columns]"
            ]
          },
          "metadata": {
            "tags": []
          },
          "execution_count": 9
        }
      ]
    },
    {
      "cell_type": "code",
      "metadata": {
        "id": "fSiLW-Ao2HA-"
      },
      "source": [
        "x = df.drop([\"median_house_value\"], axis=1) # enter the name of target value as this section is only for feature data and so we drop the target value colamn"
      ],
      "execution_count": 10,
      "outputs": []
    },
    {
      "cell_type": "code",
      "metadata": {
        "id": "iHCr4KnD2egD"
      },
      "source": [
        "y = df[\"median_house_value\"] # enter the name of the target value colamn"
      ],
      "execution_count": 12,
      "outputs": []
    },
    {
      "cell_type": "code",
      "metadata": {
        "id": "lJDq66Nq2mpE"
      },
      "source": [
        "from sklearn.model_selection import train_test_split # importing the model for the dataset to train & test & split\n",
        " \n",
        "x_train, x_test, y_train, y_test = train_test_split(x,y,test_size = 0.10)  # by 0.10 we are letting test data to use only 10% from the main dataset "
      ],
      "execution_count": 14,
      "outputs": []
    },
    {
      "cell_type": "code",
      "metadata": {
        "colab": {
          "base_uri": "https://localhost:8080/",
          "height": 419
        },
        "id": "JEaVcfXH3GRG",
        "outputId": "39c22481-618f-4230-9ed4-7409b4fd0ffa"
      },
      "source": [
        "x_train #show the taken x_train data from data sheet"
      ],
      "execution_count": 17,
      "outputs": [
        {
          "output_type": "execute_result",
          "data": {
            "text/html": [
              "<div>\n",
              "<style scoped>\n",
              "    .dataframe tbody tr th:only-of-type {\n",
              "        vertical-align: middle;\n",
              "    }\n",
              "\n",
              "    .dataframe tbody tr th {\n",
              "        vertical-align: top;\n",
              "    }\n",
              "\n",
              "    .dataframe thead th {\n",
              "        text-align: right;\n",
              "    }\n",
              "</style>\n",
              "<table border=\"1\" class=\"dataframe\">\n",
              "  <thead>\n",
              "    <tr style=\"text-align: right;\">\n",
              "      <th></th>\n",
              "      <th>longitude</th>\n",
              "      <th>latitude</th>\n",
              "      <th>housing_median_age</th>\n",
              "      <th>total_rooms</th>\n",
              "      <th>total_bedrooms</th>\n",
              "      <th>population</th>\n",
              "      <th>households</th>\n",
              "      <th>median_income</th>\n",
              "    </tr>\n",
              "  </thead>\n",
              "  <tbody>\n",
              "    <tr>\n",
              "      <th>1660</th>\n",
              "      <td>-117.90</td>\n",
              "      <td>33.73</td>\n",
              "      <td>31.0</td>\n",
              "      <td>1171.0</td>\n",
              "      <td>306.0</td>\n",
              "      <td>1690.0</td>\n",
              "      <td>301.0</td>\n",
              "      <td>3.2639</td>\n",
              "    </tr>\n",
              "    <tr>\n",
              "      <th>2159</th>\n",
              "      <td>-121.99</td>\n",
              "      <td>38.53</td>\n",
              "      <td>6.0</td>\n",
              "      <td>4598.0</td>\n",
              "      <td>834.0</td>\n",
              "      <td>2561.0</td>\n",
              "      <td>812.0</td>\n",
              "      <td>3.4186</td>\n",
              "    </tr>\n",
              "    <tr>\n",
              "      <th>441</th>\n",
              "      <td>-121.98</td>\n",
              "      <td>37.29</td>\n",
              "      <td>31.0</td>\n",
              "      <td>2750.0</td>\n",
              "      <td>664.0</td>\n",
              "      <td>1459.0</td>\n",
              "      <td>660.0</td>\n",
              "      <td>3.2287</td>\n",
              "    </tr>\n",
              "    <tr>\n",
              "      <th>1733</th>\n",
              "      <td>-118.27</td>\n",
              "      <td>33.79</td>\n",
              "      <td>39.0</td>\n",
              "      <td>1513.0</td>\n",
              "      <td>365.0</td>\n",
              "      <td>1227.0</td>\n",
              "      <td>354.0</td>\n",
              "      <td>3.3929</td>\n",
              "    </tr>\n",
              "    <tr>\n",
              "      <th>819</th>\n",
              "      <td>-122.58</td>\n",
              "      <td>37.98</td>\n",
              "      <td>52.0</td>\n",
              "      <td>1180.0</td>\n",
              "      <td>216.0</td>\n",
              "      <td>467.0</td>\n",
              "      <td>197.0</td>\n",
              "      <td>4.9615</td>\n",
              "    </tr>\n",
              "    <tr>\n",
              "      <th>...</th>\n",
              "      <td>...</td>\n",
              "      <td>...</td>\n",
              "      <td>...</td>\n",
              "      <td>...</td>\n",
              "      <td>...</td>\n",
              "      <td>...</td>\n",
              "      <td>...</td>\n",
              "      <td>...</td>\n",
              "    </tr>\n",
              "    <tr>\n",
              "      <th>2986</th>\n",
              "      <td>-118.25</td>\n",
              "      <td>33.93</td>\n",
              "      <td>42.0</td>\n",
              "      <td>819.0</td>\n",
              "      <td>233.0</td>\n",
              "      <td>899.0</td>\n",
              "      <td>228.0</td>\n",
              "      <td>1.1346</td>\n",
              "    </tr>\n",
              "    <tr>\n",
              "      <th>2438</th>\n",
              "      <td>-120.51</td>\n",
              "      <td>37.29</td>\n",
              "      <td>20.0</td>\n",
              "      <td>4927.0</td>\n",
              "      <td>1042.0</td>\n",
              "      <td>4205.0</td>\n",
              "      <td>1009.0</td>\n",
              "      <td>1.7679</td>\n",
              "    </tr>\n",
              "    <tr>\n",
              "      <th>1345</th>\n",
              "      <td>-121.29</td>\n",
              "      <td>37.33</td>\n",
              "      <td>36.0</td>\n",
              "      <td>48.0</td>\n",
              "      <td>12.0</td>\n",
              "      <td>27.0</td>\n",
              "      <td>8.0</td>\n",
              "      <td>4.0000</td>\n",
              "    </tr>\n",
              "    <tr>\n",
              "      <th>952</th>\n",
              "      <td>-117.77</td>\n",
              "      <td>34.06</td>\n",
              "      <td>27.0</td>\n",
              "      <td>2178.0</td>\n",
              "      <td>629.0</td>\n",
              "      <td>2379.0</td>\n",
              "      <td>591.0</td>\n",
              "      <td>1.9766</td>\n",
              "    </tr>\n",
              "    <tr>\n",
              "      <th>430</th>\n",
              "      <td>-121.14</td>\n",
              "      <td>37.48</td>\n",
              "      <td>6.0</td>\n",
              "      <td>1772.0</td>\n",
              "      <td>332.0</td>\n",
              "      <td>1011.0</td>\n",
              "      <td>331.0</td>\n",
              "      <td>3.7045</td>\n",
              "    </tr>\n",
              "  </tbody>\n",
              "</table>\n",
              "<p>2550 rows × 8 columns</p>\n",
              "</div>"
            ],
            "text/plain": [
              "      longitude  latitude  ...  households  median_income\n",
              "1660    -117.90     33.73  ...       301.0         3.2639\n",
              "2159    -121.99     38.53  ...       812.0         3.4186\n",
              "441     -121.98     37.29  ...       660.0         3.2287\n",
              "1733    -118.27     33.79  ...       354.0         3.3929\n",
              "819     -122.58     37.98  ...       197.0         4.9615\n",
              "...         ...       ...  ...         ...            ...\n",
              "2986    -118.25     33.93  ...       228.0         1.1346\n",
              "2438    -120.51     37.29  ...      1009.0         1.7679\n",
              "1345    -121.29     37.33  ...         8.0         4.0000\n",
              "952     -117.77     34.06  ...       591.0         1.9766\n",
              "430     -121.14     37.48  ...       331.0         3.7045\n",
              "\n",
              "[2550 rows x 8 columns]"
            ]
          },
          "metadata": {
            "tags": []
          },
          "execution_count": 17
        }
      ]
    },
    {
      "cell_type": "code",
      "metadata": {
        "colab": {
          "base_uri": "https://localhost:8080/",
          "height": 419
        },
        "id": "wSHdTyWq3JWB",
        "outputId": "3c48aac1-e9e9-4817-a720-9f78ce959ee6"
      },
      "source": [
        "x_test #show the taken x_test data from data sheet"
      ],
      "execution_count": 20,
      "outputs": [
        {
          "output_type": "execute_result",
          "data": {
            "text/html": [
              "<div>\n",
              "<style scoped>\n",
              "    .dataframe tbody tr th:only-of-type {\n",
              "        vertical-align: middle;\n",
              "    }\n",
              "\n",
              "    .dataframe tbody tr th {\n",
              "        vertical-align: top;\n",
              "    }\n",
              "\n",
              "    .dataframe thead th {\n",
              "        text-align: right;\n",
              "    }\n",
              "</style>\n",
              "<table border=\"1\" class=\"dataframe\">\n",
              "  <thead>\n",
              "    <tr style=\"text-align: right;\">\n",
              "      <th></th>\n",
              "      <th>longitude</th>\n",
              "      <th>latitude</th>\n",
              "      <th>housing_median_age</th>\n",
              "      <th>total_rooms</th>\n",
              "      <th>total_bedrooms</th>\n",
              "      <th>population</th>\n",
              "      <th>households</th>\n",
              "      <th>median_income</th>\n",
              "    </tr>\n",
              "  </thead>\n",
              "  <tbody>\n",
              "    <tr>\n",
              "      <th>2525</th>\n",
              "      <td>-117.18</td>\n",
              "      <td>32.83</td>\n",
              "      <td>23.0</td>\n",
              "      <td>2105.0</td>\n",
              "      <td>525.0</td>\n",
              "      <td>1218.0</td>\n",
              "      <td>484.0</td>\n",
              "      <td>3.3750</td>\n",
              "    </tr>\n",
              "    <tr>\n",
              "      <th>246</th>\n",
              "      <td>-117.99</td>\n",
              "      <td>33.70</td>\n",
              "      <td>13.0</td>\n",
              "      <td>4013.0</td>\n",
              "      <td>903.0</td>\n",
              "      <td>1999.0</td>\n",
              "      <td>859.0</td>\n",
              "      <td>4.6250</td>\n",
              "    </tr>\n",
              "    <tr>\n",
              "      <th>1398</th>\n",
              "      <td>-117.88</td>\n",
              "      <td>34.00</td>\n",
              "      <td>32.0</td>\n",
              "      <td>265.0</td>\n",
              "      <td>51.0</td>\n",
              "      <td>170.0</td>\n",
              "      <td>50.0</td>\n",
              "      <td>3.9375</td>\n",
              "    </tr>\n",
              "    <tr>\n",
              "      <th>1188</th>\n",
              "      <td>-116.76</td>\n",
              "      <td>34.23</td>\n",
              "      <td>10.0</td>\n",
              "      <td>4374.0</td>\n",
              "      <td>989.0</td>\n",
              "      <td>1020.0</td>\n",
              "      <td>376.0</td>\n",
              "      <td>2.6071</td>\n",
              "    </tr>\n",
              "    <tr>\n",
              "      <th>210</th>\n",
              "      <td>-121.83</td>\n",
              "      <td>37.28</td>\n",
              "      <td>33.0</td>\n",
              "      <td>1115.0</td>\n",
              "      <td>250.0</td>\n",
              "      <td>1168.0</td>\n",
              "      <td>261.0</td>\n",
              "      <td>3.9009</td>\n",
              "    </tr>\n",
              "    <tr>\n",
              "      <th>...</th>\n",
              "      <td>...</td>\n",
              "      <td>...</td>\n",
              "      <td>...</td>\n",
              "      <td>...</td>\n",
              "      <td>...</td>\n",
              "      <td>...</td>\n",
              "      <td>...</td>\n",
              "      <td>...</td>\n",
              "    </tr>\n",
              "    <tr>\n",
              "      <th>2116</th>\n",
              "      <td>-118.18</td>\n",
              "      <td>33.80</td>\n",
              "      <td>42.0</td>\n",
              "      <td>2301.0</td>\n",
              "      <td>621.0</td>\n",
              "      <td>2114.0</td>\n",
              "      <td>561.0</td>\n",
              "      <td>2.0579</td>\n",
              "    </tr>\n",
              "    <tr>\n",
              "      <th>2699</th>\n",
              "      <td>-117.60</td>\n",
              "      <td>34.03</td>\n",
              "      <td>16.0</td>\n",
              "      <td>1499.0</td>\n",
              "      <td>232.0</td>\n",
              "      <td>918.0</td>\n",
              "      <td>239.0</td>\n",
              "      <td>5.5677</td>\n",
              "    </tr>\n",
              "    <tr>\n",
              "      <th>2465</th>\n",
              "      <td>-122.26</td>\n",
              "      <td>37.82</td>\n",
              "      <td>22.0</td>\n",
              "      <td>3682.0</td>\n",
              "      <td>1270.0</td>\n",
              "      <td>2024.0</td>\n",
              "      <td>1250.0</td>\n",
              "      <td>1.2185</td>\n",
              "    </tr>\n",
              "    <tr>\n",
              "      <th>1064</th>\n",
              "      <td>-118.22</td>\n",
              "      <td>33.95</td>\n",
              "      <td>36.0</td>\n",
              "      <td>1679.0</td>\n",
              "      <td>483.0</td>\n",
              "      <td>2249.0</td>\n",
              "      <td>487.0</td>\n",
              "      <td>2.8167</td>\n",
              "    </tr>\n",
              "    <tr>\n",
              "      <th>1740</th>\n",
              "      <td>-118.99</td>\n",
              "      <td>35.24</td>\n",
              "      <td>40.0</td>\n",
              "      <td>282.0</td>\n",
              "      <td>59.0</td>\n",
              "      <td>213.0</td>\n",
              "      <td>71.0</td>\n",
              "      <td>2.3500</td>\n",
              "    </tr>\n",
              "  </tbody>\n",
              "</table>\n",
              "<p>450 rows × 8 columns</p>\n",
              "</div>"
            ],
            "text/plain": [
              "      longitude  latitude  ...  households  median_income\n",
              "2525    -117.18     32.83  ...       484.0         3.3750\n",
              "246     -117.99     33.70  ...       859.0         4.6250\n",
              "1398    -117.88     34.00  ...        50.0         3.9375\n",
              "1188    -116.76     34.23  ...       376.0         2.6071\n",
              "210     -121.83     37.28  ...       261.0         3.9009\n",
              "...         ...       ...  ...         ...            ...\n",
              "2116    -118.18     33.80  ...       561.0         2.0579\n",
              "2699    -117.60     34.03  ...       239.0         5.5677\n",
              "2465    -122.26     37.82  ...      1250.0         1.2185\n",
              "1064    -118.22     33.95  ...       487.0         2.8167\n",
              "1740    -118.99     35.24  ...        71.0         2.3500\n",
              "\n",
              "[450 rows x 8 columns]"
            ]
          },
          "metadata": {
            "tags": []
          },
          "execution_count": 20
        }
      ]
    },
    {
      "cell_type": "code",
      "metadata": {
        "colab": {
          "base_uri": "https://localhost:8080/"
        },
        "id": "5JUHv3L73WfD",
        "outputId": "8586aa7e-a818-4e87-b6a7-94e1fc97a6c8"
      },
      "source": [
        "y_train #show the taken y_train data from data sheet"
      ],
      "execution_count": 24,
      "outputs": [
        {
          "output_type": "execute_result",
          "data": {
            "text/plain": [
              "1660    155200.0\n",
              "2159    127300.0\n",
              "441     264900.0\n",
              "1733    184600.0\n",
              "819     292200.0\n",
              "          ...   \n",
              "2986     85400.0\n",
              "2438     79800.0\n",
              "1345     75000.0\n",
              "952     108000.0\n",
              "430     128100.0\n",
              "Name: median_house_value, Length: 2550, dtype: float64"
            ]
          },
          "metadata": {
            "tags": []
          },
          "execution_count": 24
        }
      ]
    },
    {
      "cell_type": "code",
      "metadata": {
        "colab": {
          "base_uri": "https://localhost:8080/"
        },
        "id": "O0JkX51_3b5Z",
        "outputId": "b86c517b-3d11-48be-ec21-17c48514d02b"
      },
      "source": [
        "y_test #show the taken y_test data from data sheet"
      ],
      "execution_count": 23,
      "outputs": [
        {
          "output_type": "execute_result",
          "data": {
            "text/plain": [
              "2525    184100.0\n",
              "246     248800.0\n",
              "1398    187500.0\n",
              "1188     89000.0\n",
              "210     178600.0\n",
              "          ...   \n",
              "2116    132700.0\n",
              "2699    175400.0\n",
              "2465    170000.0\n",
              "1064    160400.0\n",
              "1740     91700.0\n",
              "Name: median_house_value, Length: 450, dtype: float64"
            ]
          },
          "metadata": {
            "tags": []
          },
          "execution_count": 23
        }
      ]
    },
    {
      "cell_type": "code",
      "metadata": {
        "id": "qtJjmQMX3ofu"
      },
      "source": [
        "from sklearn.linear_model import LinearRegression # importing the alogorithm \n",
        "\n",
        "linear = LinearRegression() "
      ],
      "execution_count": 25,
      "outputs": []
    },
    {
      "cell_type": "code",
      "metadata": {
        "colab": {
          "base_uri": "https://localhost:8080/"
        },
        "id": "Du8imUzA34Pj",
        "outputId": "c70aa0ef-bd6a-43d8-903b-dc9dbbc2c6ad"
      },
      "source": [
        "linear.fit(x_train,y_train) # fitting the traing data "
      ],
      "execution_count": 26,
      "outputs": [
        {
          "output_type": "execute_result",
          "data": {
            "text/plain": [
              "LinearRegression(copy_X=True, fit_intercept=True, n_jobs=None, normalize=False)"
            ]
          },
          "metadata": {
            "tags": []
          },
          "execution_count": 26
        }
      ]
    },
    {
      "cell_type": "code",
      "metadata": {
        "colab": {
          "base_uri": "https://localhost:8080/"
        },
        "id": "kOoIgT_84A8b",
        "outputId": "72ed2999-5159-4975-eff4-136050fc1a66"
      },
      "source": [
        "linear.score(x_test,y_test) # result as the performance of the model  as R^2 value"
      ],
      "execution_count": 28,
      "outputs": [
        {
          "output_type": "execute_result",
          "data": {
            "text/plain": [
              "0.5948833928503401"
            ]
          },
          "metadata": {
            "tags": []
          },
          "execution_count": 28
        }
      ]
    }
  ]
}